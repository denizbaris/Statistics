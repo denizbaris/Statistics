{
  "nbformat": 4,
  "nbformat_minor": 0,
  "metadata": {
    "colab": {
      "name": "Statistics_Session_9.ipynb",
      "provenance": [],
      "authorship_tag": "ABX9TyNKTUzBhFHOZxqsic1FfTwW",
      "include_colab_link": true
    },
    "kernelspec": {
      "name": "python3",
      "display_name": "Python 3"
    },
    "language_info": {
      "name": "python"
    }
  },
  "cells": [
    {
      "cell_type": "markdown",
      "metadata": {
        "id": "view-in-github",
        "colab_type": "text"
      },
      "source": [
        "<a href=\"https://colab.research.google.com/github/denizbaris/Statistics/blob/main/Statistics_Session_9.ipynb\" target=\"_parent\"><img src=\"https://colab.research.google.com/assets/colab-badge.svg\" alt=\"Open In Colab\"/></a>"
      ]
    },
    {
      "cell_type": "code",
      "metadata": {
        "id": "zHssqM6gociI"
      },
      "source": [
        "from scipy import stats\n",
        "import pandas as pd "
      ],
      "execution_count": 2,
      "outputs": []
    },
    {
      "cell_type": "code",
      "metadata": {
        "colab": {
          "base_uri": "https://localhost:8080/",
          "height": 542
        },
        "id": "vJiZHwz1oiJM",
        "outputId": "c3b8f2b0-f98d-4d8a-b3c1-f4c8b0761fdc"
      },
      "source": [
        "x = [91.50, 94.18, 92.18, 95.39, 91.79, 89.07, 94.72, 89.21, 89.19, 90.95, 90.46, 93.21, 97.19, 97.04, 91.07, 92.75]\n",
        "group = [1,1,1,1,1,1,1,1,2,2,2,2,2,2,2,2]\n",
        "df = pd.DataFrame({\"yield\":x, \"group\":group})\n",
        "df"
      ],
      "execution_count": 3,
      "outputs": [
        {
          "output_type": "execute_result",
          "data": {
            "text/html": [
              "<div>\n",
              "<style scoped>\n",
              "    .dataframe tbody tr th:only-of-type {\n",
              "        vertical-align: middle;\n",
              "    }\n",
              "\n",
              "    .dataframe tbody tr th {\n",
              "        vertical-align: top;\n",
              "    }\n",
              "\n",
              "    .dataframe thead th {\n",
              "        text-align: right;\n",
              "    }\n",
              "</style>\n",
              "<table border=\"1\" class=\"dataframe\">\n",
              "  <thead>\n",
              "    <tr style=\"text-align: right;\">\n",
              "      <th></th>\n",
              "      <th>yield</th>\n",
              "      <th>group</th>\n",
              "    </tr>\n",
              "  </thead>\n",
              "  <tbody>\n",
              "    <tr>\n",
              "      <th>0</th>\n",
              "      <td>91.50</td>\n",
              "      <td>1</td>\n",
              "    </tr>\n",
              "    <tr>\n",
              "      <th>1</th>\n",
              "      <td>94.18</td>\n",
              "      <td>1</td>\n",
              "    </tr>\n",
              "    <tr>\n",
              "      <th>2</th>\n",
              "      <td>92.18</td>\n",
              "      <td>1</td>\n",
              "    </tr>\n",
              "    <tr>\n",
              "      <th>3</th>\n",
              "      <td>95.39</td>\n",
              "      <td>1</td>\n",
              "    </tr>\n",
              "    <tr>\n",
              "      <th>4</th>\n",
              "      <td>91.79</td>\n",
              "      <td>1</td>\n",
              "    </tr>\n",
              "    <tr>\n",
              "      <th>5</th>\n",
              "      <td>89.07</td>\n",
              "      <td>1</td>\n",
              "    </tr>\n",
              "    <tr>\n",
              "      <th>6</th>\n",
              "      <td>94.72</td>\n",
              "      <td>1</td>\n",
              "    </tr>\n",
              "    <tr>\n",
              "      <th>7</th>\n",
              "      <td>89.21</td>\n",
              "      <td>1</td>\n",
              "    </tr>\n",
              "    <tr>\n",
              "      <th>8</th>\n",
              "      <td>89.19</td>\n",
              "      <td>2</td>\n",
              "    </tr>\n",
              "    <tr>\n",
              "      <th>9</th>\n",
              "      <td>90.95</td>\n",
              "      <td>2</td>\n",
              "    </tr>\n",
              "    <tr>\n",
              "      <th>10</th>\n",
              "      <td>90.46</td>\n",
              "      <td>2</td>\n",
              "    </tr>\n",
              "    <tr>\n",
              "      <th>11</th>\n",
              "      <td>93.21</td>\n",
              "      <td>2</td>\n",
              "    </tr>\n",
              "    <tr>\n",
              "      <th>12</th>\n",
              "      <td>97.19</td>\n",
              "      <td>2</td>\n",
              "    </tr>\n",
              "    <tr>\n",
              "      <th>13</th>\n",
              "      <td>97.04</td>\n",
              "      <td>2</td>\n",
              "    </tr>\n",
              "    <tr>\n",
              "      <th>14</th>\n",
              "      <td>91.07</td>\n",
              "      <td>2</td>\n",
              "    </tr>\n",
              "    <tr>\n",
              "      <th>15</th>\n",
              "      <td>92.75</td>\n",
              "      <td>2</td>\n",
              "    </tr>\n",
              "  </tbody>\n",
              "</table>\n",
              "</div>"
            ],
            "text/plain": [
              "    yield  group\n",
              "0   91.50      1\n",
              "1   94.18      1\n",
              "2   92.18      1\n",
              "3   95.39      1\n",
              "4   91.79      1\n",
              "5   89.07      1\n",
              "6   94.72      1\n",
              "7   89.21      1\n",
              "8   89.19      2\n",
              "9   90.95      2\n",
              "10  90.46      2\n",
              "11  93.21      2\n",
              "12  97.19      2\n",
              "13  97.04      2\n",
              "14  91.07      2\n",
              "15  92.75      2"
            ]
          },
          "metadata": {},
          "execution_count": 3
        }
      ]
    },
    {
      "cell_type": "code",
      "metadata": {
        "id": "WhtjYGAZ0p_H"
      },
      "source": [
        "df[df.group == 1][\"yield\"]"
      ],
      "execution_count": null,
      "outputs": []
    },
    {
      "cell_type": "code",
      "metadata": {
        "colab": {
          "base_uri": "https://localhost:8080/"
        },
        "id": "tXsjC9Riz9NI",
        "outputId": "9ed4b66c-01f1-40fa-c4eb-c0c01ebad0b2"
      },
      "source": [
        "stats.ttest_ind(df[df.group == 1][\"yield\"], df[df.group == 2][\"yield\"])"
      ],
      "execution_count": 4,
      "outputs": [
        {
          "output_type": "execute_result",
          "data": {
            "text/plain": [
              "Ttest_indResult(statistic=-0.3535908643461798, pvalue=0.7289136186068217)"
            ]
          },
          "metadata": {},
          "execution_count": 4
        }
      ]
    },
    {
      "cell_type": "code",
      "metadata": {
        "colab": {
          "base_uri": "https://localhost:8080/"
        },
        "id": "LMlGp7gt03kl",
        "outputId": "1f12ee05-e463-4764-ca4d-2f78e7f0418b"
      },
      "source": [
        "indTest = stats.ttest_ind_from_stats(mean1 = 92.255, std1 = 2.39, nobs1= 8,\n",
        "                           mean2 = 92.733, std2 = 2.98, nobs2 = 8,)\n",
        "indTest"
      ],
      "execution_count": 17,
      "outputs": [
        {
          "output_type": "execute_result",
          "data": {
            "text/plain": [
              "Ttest_indResult(statistic=-0.353922390875553, pvalue=0.7286705530970293)"
            ]
          },
          "metadata": {},
          "execution_count": 17
        }
      ]
    },
    {
      "cell_type": "code",
      "metadata": {
        "colab": {
          "base_uri": "https://localhost:8080/"
        },
        "id": "fZo-If0d2eCA",
        "outputId": "fb41e84e-57ff-43f8-a937-81e7e2840ea2"
      },
      "source": [
        "indTest.pvalue"
      ],
      "execution_count": 8,
      "outputs": [
        {
          "output_type": "execute_result",
          "data": {
            "text/plain": [
              "0.7286705530970293"
            ]
          },
          "metadata": {},
          "execution_count": 8
        }
      ]
    },
    {
      "cell_type": "code",
      "metadata": {
        "colab": {
          "base_uri": "https://localhost:8080/"
        },
        "id": "WcBsc0Xi20NG",
        "outputId": "374bc503-89a1-4fc9-995a-ad54b754fd75"
      },
      "source": [
        "#DECISION\n",
        "alpha = 0.05\n",
        "\n",
        "if indTest.pvalue < alpha :\n",
        "  print(\"Reject the Null\")\n",
        "else:\n",
        "  print(\"Fail to reject\")"
      ],
      "execution_count": 9,
      "outputs": [
        {
          "output_type": "stream",
          "name": "stdout",
          "text": [
            "Fail to reject\n"
          ]
        }
      ]
    },
    {
      "cell_type": "markdown",
      "metadata": {
        "id": "eemQ0J2dARrm"
      },
      "source": [
        "Iki grup var dependent degil"
      ]
    },
    {
      "cell_type": "code",
      "metadata": {
        "colab": {
          "base_uri": "https://localhost:8080/"
        },
        "id": "WWAIFvVT3Dzf",
        "outputId": "228fee4b-3c5f-4dbb-e1fc-8d4223d01e3a"
      },
      "source": [
        "indTest1 = stats.ttest_ind_from_stats(mean1 = 10.67, std1= 3.895, nobs1= 500,\n",
        "                           mean2 = 7.83, std2= 4.224, nobs2= 400,)\n",
        "indTest1"
      ],
      "execution_count": 15,
      "outputs": [
        {
          "output_type": "execute_result",
          "data": {
            "text/plain": [
              "Ttest_indResult(statistic=10.4676374161062, pvalue=2.8400233039750524e-24)"
            ]
          },
          "metadata": {},
          "execution_count": 15
        }
      ]
    },
    {
      "cell_type": "code",
      "metadata": {
        "id": "SXQWs4EP-hgO"
      },
      "source": [
        ""
      ],
      "execution_count": null,
      "outputs": []
    },
    {
      "cell_type": "markdown",
      "metadata": {
        "id": "BytajswaAMjG"
      },
      "source": [
        "##Dependent T Test\n",
        "\n",
        "scipy.stats.ttest_rel(a, b, axis=0, nan_policy='propagate', alternative='two-sided')"
      ]
    },
    {
      "cell_type": "markdown",
      "metadata": {
        "id": "Enn4DfK9EzxA"
      },
      "source": [
        "##One-way Anova\n",
        "\n",
        "ulasacagimiz test istatistigi f istatistigi\n",
        "f (gruplar arasi varyansi grup icine oranlama istatistigi) degeri ve p degeri hesaplayacagim\n",
        "\n",
        "3 farkli birbirinden bagimsiz orneklemlerde uyggulanabilir\n",
        "3 new drugs are all as effective as a placebo"
      ]
    },
    {
      "cell_type": "code",
      "metadata": {
        "id": "2XXPcVB8AO9s"
      },
      "source": [
        ""
      ],
      "execution_count": null,
      "outputs": []
    }
  ]
}