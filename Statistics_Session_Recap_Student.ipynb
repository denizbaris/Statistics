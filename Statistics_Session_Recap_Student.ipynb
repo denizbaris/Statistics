{
  "nbformat": 4,
  "nbformat_minor": 0,
  "metadata": {
    "kernelspec": {
      "display_name": "Python 3",
      "language": "python",
      "name": "python3"
    },
    "language_info": {
      "codemirror_mode": {
        "name": "ipython",
        "version": 3
      },
      "file_extension": ".py",
      "mimetype": "text/x-python",
      "name": "python",
      "nbconvert_exporter": "python",
      "pygments_lexer": "ipython3",
      "version": "3.7.11"
    },
    "colab": {
      "name": "Statistics_Session-Recap-Student.ipynb",
      "provenance": [],
      "include_colab_link": true
    }
  },
  "cells": [
    {
      "cell_type": "markdown",
      "metadata": {
        "id": "view-in-github",
        "colab_type": "text"
      },
      "source": [
        "<a href=\"https://colab.research.google.com/github/denizbaris/Statistics/blob/main/Statistics_Session_Recap_Student.ipynb\" target=\"_parent\"><img src=\"https://colab.research.google.com/assets/colab-badge.svg\" alt=\"Open In Colab\"/></a>"
      ]
    },
    {
      "cell_type": "markdown",
      "metadata": {
        "id": "Sju-K9K5HvsT"
      },
      "source": [
        "# Probability Distributions Assignments"
      ]
    },
    {
      "cell_type": "markdown",
      "metadata": {
        "id": "i5a2INUnHvsc"
      },
      "source": [
        "⭐ Import **numpy**, **pandas**, **scipy.stats**, **seaborn**, and **matplotlib.pyplot** libraries"
      ]
    },
    {
      "cell_type": "code",
      "metadata": {
        "id": "q7FTL9khHx4j"
      },
      "source": [
        "import numpy as np\n",
        "import pandas as pd\n",
        "from scipy import stats\n",
        "import matplotlib.pyplot as plt\n",
        "import seaborn as sns"
      ],
      "execution_count": 1,
      "outputs": []
    },
    {
      "cell_type": "markdown",
      "metadata": {
        "id": "A8a_6e18Hvsd"
      },
      "source": [
        "## Exercise 1"
      ]
    },
    {
      "cell_type": "markdown",
      "metadata": {
        "id": "inENwmdHHvsf"
      },
      "source": [
        "A salesperson has found that the probability of a sale on a single contact is approximately 0.3. If the salesperson contacts 10 prospects, what is the approximate probability of making at least one sale?"
      ]
    },
    {
      "cell_type": "markdown",
      "metadata": {
        "id": "oGM0kky1I9lw"
      },
      "source": [
        "Trial sayimiz var 10\n",
        "\n",
        "satis sayimiz var 0.3\n",
        "\n",
        "bizden P(X=>1) nedir\n",
        "\n",
        "1-P ile binom'u hesapla\n"
      ]
    },
    {
      "cell_type": "code",
      "metadata": {
        "colab": {
          "base_uri": "https://localhost:8080/"
        },
        "id": "tZVAdY7jHvsg",
        "outputId": "fe25dad2-8b29-4f6f-fb0e-1939c53bdb6e"
      },
      "source": [
        "n = 10 #trial\n",
        "p = 0.3 #success\n",
        "k = 0 #randon variable\n",
        "\n",
        "1 - stats.binom.pmf(k, n, p)"
      ],
      "execution_count": 3,
      "outputs": [
        {
          "output_type": "execute_result",
          "data": {
            "text/plain": [
              "0.9717524751"
            ]
          },
          "metadata": {},
          "execution_count": 3
        }
      ]
    },
    {
      "cell_type": "markdown",
      "metadata": {
        "id": "_DhUwN_VHvsh"
      },
      "source": [
        "## Exercise 2"
      ]
    },
    {
      "cell_type": "markdown",
      "metadata": {
        "id": "0XdDONzuHvsh"
      },
      "source": [
        "The cycle time for trucks hauling concrete to a highway construction site is uniformly distributed over the interval 50 to 70 minutes.\n",
        "\n",
        "What is the probability that the cycle time exceeds 65 minutes if it is known that the cycle time exceeds 55 minutes?\n",
        "\n",
        "\n",
        "Uniform Distribution"
      ]
    },
    {
      "cell_type": "code",
      "metadata": {
        "id": "-_41SsDRHvsl"
      },
      "source": [
        "a = 50\n",
        "b = 70\n",
        "unifDist = stats.uniform(a, b-a)"
      ],
      "execution_count": 4,
      "outputs": []
    },
    {
      "cell_type": "code",
      "metadata": {
        "colab": {
          "base_uri": "https://localhost:8080/"
        },
        "id": "KGa0W0DgLS1f",
        "outputId": "bb87350a-83df-435c-f742-b92c35ad1b1b"
      },
      "source": [
        "#Event A\n",
        "\n",
        "pA = 1 - unifDist.cdf(65)\n",
        "pA"
      ],
      "execution_count": 5,
      "outputs": [
        {
          "output_type": "execute_result",
          "data": {
            "text/plain": [
              "0.25"
            ]
          },
          "metadata": {},
          "execution_count": 5
        }
      ]
    },
    {
      "cell_type": "code",
      "metadata": {
        "colab": {
          "base_uri": "https://localhost:8080/"
        },
        "id": "l6W2uQbsLa-1",
        "outputId": "b7625a1b-cdff-4460-97d3-f29d2ce965de"
      },
      "source": [
        "#Event B\n",
        "\n",
        "pB =1 - unifDist.cdf(55)\n",
        "pB"
      ],
      "execution_count": 6,
      "outputs": [
        {
          "output_type": "execute_result",
          "data": {
            "text/plain": [
              "0.75"
            ]
          },
          "metadata": {},
          "execution_count": 6
        }
      ]
    },
    {
      "cell_type": "code",
      "metadata": {
        "colab": {
          "base_uri": "https://localhost:8080/"
        },
        "id": "jdlPzvhhLk-A",
        "outputId": "baf6f62b-bd26-4fc7-9b5f-34944950aaee"
      },
      "source": [
        "# Prob of A given Prob a\n",
        "\n",
        "pA/pB"
      ],
      "execution_count": 7,
      "outputs": [
        {
          "output_type": "execute_result",
          "data": {
            "text/plain": [
              "0.3333333333333333"
            ]
          },
          "metadata": {},
          "execution_count": 7
        }
      ]
    },
    {
      "cell_type": "markdown",
      "metadata": {
        "id": "4AIyV4oFHvsn"
      },
      "source": [
        "## Exercise 3"
      ]
    },
    {
      "cell_type": "markdown",
      "metadata": {
        "id": "xyUDO3MzHvso"
      },
      "source": [
        "The width of bolts of fabric is normally distributed with mean 950 mm (millimeters) and standard deviation 10 mm."
      ]
    },
    {
      "cell_type": "markdown",
      "metadata": {
        "id": "_Og2Bw6QHvsp"
      },
      "source": [
        "1. What is the probability that a randomly chosen bolt has a width of between 947 and 958mm?"
      ]
    },
    {
      "cell_type": "code",
      "metadata": {
        "colab": {
          "base_uri": "https://localhost:8080/"
        },
        "id": "9OkIoN28Hvsq",
        "outputId": "d53d8c2d-cfee-46cb-ad89-b8cb3fd04c46"
      },
      "source": [
        "stats.norm.cdf(958, 950, 10) - stats.norm.cdf(947, 950, 10)"
      ],
      "execution_count": 10,
      "outputs": [
        {
          "output_type": "execute_result",
          "data": {
            "text/plain": [
              "0.406056023605556"
            ]
          },
          "metadata": {},
          "execution_count": 10
        }
      ]
    },
    {
      "cell_type": "markdown",
      "metadata": {
        "id": "yJUsv8EyHvsr"
      },
      "source": [
        "2. What is the appropriate value for C such that a randomly chosen bolt has a width less than C with probability .8531?\n",
        "\n",
        "\n",
        "olasiliktan random variable a gidif var o yuzden ppf kullanicaz"
      ]
    },
    {
      "cell_type": "code",
      "metadata": {
        "colab": {
          "base_uri": "https://localhost:8080/"
        },
        "id": "qAgYXTOrNvC_",
        "outputId": "a6fbf00d-1625-400a-8a77-944d94b58d8e"
      },
      "source": [
        "stats.norm.ppf(0.8531) # z-score"
      ],
      "execution_count": 12,
      "outputs": [
        {
          "output_type": "execute_result",
          "data": {
            "text/plain": [
              "1.0498219096264123"
            ]
          },
          "metadata": {},
          "execution_count": 12
        }
      ]
    },
    {
      "cell_type": "code",
      "metadata": {
        "colab": {
          "base_uri": "https://localhost:8080/"
        },
        "id": "yrvquhR-Hvss",
        "outputId": "0a824bc4-3bc8-42b5-9908-fc2563187bad"
      },
      "source": [
        "stats.norm.ppf(0.8531, loc = 950, scale = 10)"
      ],
      "execution_count": 11,
      "outputs": [
        {
          "output_type": "execute_result",
          "data": {
            "text/plain": [
              "960.4982190962642"
            ]
          },
          "metadata": {},
          "execution_count": 11
        }
      ]
    },
    {
      "cell_type": "markdown",
      "metadata": {
        "id": "kF2qE3p-Hvss"
      },
      "source": [
        "## Exercise 5"
      ]
    },
    {
      "cell_type": "markdown",
      "metadata": {
        "id": "EmlK6bk-Hvst"
      },
      "source": [
        "What is the normal body temperature for healthy humans? A random sample of 130 healthy human body temperatures provided by Allen Shoemaker yielded 98.25 degrees and standard deviation 0.73 degrees. Give a 99% confidence interval for the average body temperature of healthy people.\n",
        "\n",
        "\n",
        "guven araligi mean'in uzerine kurulur. \n",
        "margin of error da hem z yi hem t yi kullanip standart error ile carp"
      ]
    },
    {
      "cell_type": "code",
      "metadata": {
        "id": "Md2kpB14Hvsu"
      },
      "source": [
        "xbar = 98.25 # sample mean\n",
        "std = 0.73\n",
        "cl = 0.99 #confidence interval\n",
        "n = 130 #sample size\n"
      ],
      "execution_count": 13,
      "outputs": []
    },
    {
      "cell_type": "code",
      "metadata": {
        "colab": {
          "base_uri": "https://localhost:8080/"
        },
        "id": "MEHUx_jcPZHq",
        "outputId": "81086b3b-9dd4-4a70-cb4a-591f79a49697"
      },
      "source": [
        "se = std / np.sqrt(n)      #standart error\n",
        "se"
      ],
      "execution_count": 15,
      "outputs": [
        {
          "output_type": "execute_result",
          "data": {
            "text/plain": [
              "0.06402523540941313"
            ]
          },
          "metadata": {},
          "execution_count": 15
        }
      ]
    },
    {
      "cell_type": "code",
      "metadata": {
        "colab": {
          "base_uri": "https://localhost:8080/"
        },
        "id": "S1BQtB2DPgjo",
        "outputId": "d979c753-f8e7-40e4-e18a-bd6b5016acee"
      },
      "source": [
        "#moe = z * se\n",
        "z = stats.norm.ppf(0.995)\n",
        "z"
      ],
      "execution_count": 17,
      "outputs": [
        {
          "output_type": "execute_result",
          "data": {
            "text/plain": [
              "2.5758293035489004"
            ]
          },
          "metadata": {},
          "execution_count": 17
        }
      ]
    },
    {
      "cell_type": "code",
      "metadata": {
        "colab": {
          "base_uri": "https://localhost:8080/"
        },
        "id": "psIYTWfyP5Dk",
        "outputId": "031d0859-2d81-405b-81d1-0d667826f354"
      },
      "source": [
        "moe = z * se\n",
        "moe"
      ],
      "execution_count": 18,
      "outputs": [
        {
          "output_type": "execute_result",
          "data": {
            "text/plain": [
              "0.16491807753418303"
            ]
          },
          "metadata": {},
          "execution_count": 18
        }
      ]
    },
    {
      "cell_type": "code",
      "metadata": {
        "id": "gF0NmNXyP-Dt"
      },
      "source": [
        "# CI --> (lower, upper)\n",
        "\n",
        "lower = xbar - moe\n",
        "upper = xbar + moe\n"
      ],
      "execution_count": 19,
      "outputs": []
    },
    {
      "cell_type": "code",
      "metadata": {
        "colab": {
          "base_uri": "https://localhost:8080/"
        },
        "id": "d56pD6_6QMWk",
        "outputId": "e2ac4b40-412a-4c85-af17-af3d3f642069"
      },
      "source": [
        "upper\n"
      ],
      "execution_count": 20,
      "outputs": [
        {
          "output_type": "execute_result",
          "data": {
            "text/plain": [
              "98.41491807753418"
            ]
          },
          "metadata": {},
          "execution_count": 20
        }
      ]
    },
    {
      "cell_type": "code",
      "metadata": {
        "colab": {
          "base_uri": "https://localhost:8080/"
        },
        "id": "3sxfqgwuQMpK",
        "outputId": "132f15e5-683f-450b-e86a-8bb442f86d30"
      },
      "source": [
        "lower"
      ],
      "execution_count": 21,
      "outputs": [
        {
          "output_type": "execute_result",
          "data": {
            "text/plain": [
              "98.08508192246582"
            ]
          },
          "metadata": {},
          "execution_count": 21
        }
      ]
    },
    {
      "cell_type": "code",
      "metadata": {
        "colab": {
          "base_uri": "https://localhost:8080/"
        },
        "id": "nL4NnOQ_Ubgn",
        "outputId": "1f6aeff2-ddf9-4364-b331-d1ec440f2fe9"
      },
      "source": [
        "stats.norm.interval(cl, loc = xbar, scale= se)"
      ],
      "execution_count": 22,
      "outputs": [
        {
          "output_type": "execute_result",
          "data": {
            "text/plain": [
              "(98.08508192246582, 98.41491807753418)"
            ]
          },
          "metadata": {},
          "execution_count": 22
        }
      ]
    },
    {
      "cell_type": "code",
      "metadata": {
        "colab": {
          "base_uri": "https://localhost:8080/"
        },
        "id": "IC8G-AGVUmNp",
        "outputId": "6d5112d9-e4a6-474f-cb93-45a4f85ced0e"
      },
      "source": [
        "stats.t.interval(alpha=cl, df = n-1, loc=xbar, scale= std/np.sqrt(n))  #t distribution df arttikca normal distribution'a yakinsiyor"
      ],
      "execution_count": 23,
      "outputs": [
        {
          "output_type": "execute_result",
          "data": {
            "text/plain": [
              "(98.08260738705933, 98.41739261294067)"
            ]
          },
          "metadata": {},
          "execution_count": 23
        }
      ]
    },
    {
      "cell_type": "markdown",
      "metadata": {
        "id": "OjsdfhtcHvsu"
      },
      "source": [
        "# What's Normal? -- Temperature, Gender, and Heart Rate"
      ]
    },
    {
      "cell_type": "code",
      "metadata": {
        "id": "8oXGORdeP9Ou"
      },
      "source": [
        ""
      ],
      "execution_count": null,
      "outputs": []
    },
    {
      "cell_type": "markdown",
      "metadata": {
        "id": "0g49AeMfHvsw"
      },
      "source": [
        "## The Data"
      ]
    },
    {
      "cell_type": "markdown",
      "metadata": {
        "id": "YZ-jsvnKHvsx"
      },
      "source": [
        "- We will study with a dataset on body temperature, gender, and heart rate.\n",
        "- We'll try to understand the concepts like \n",
        "    - true means, \n",
        "    - confidence intervals, \n",
        "    - t-statistics, \n",
        "    - t-tests, \n",
        "    - the normal distribution, and \n",
        "    - regression.\n",
        "\n",
        "\n",
        "- The data were derived from an article in the Journal of the American Medical Association entitled \"A Critical Appraisal of 98.6 Degrees F, the Upper Limit of the Normal Body Temperature, and Other Legacies of Carl Reinhold August Wunderlich\" (Mackowiak, Wasserman, and Levine 1992).\n",
        "- Source: http://jse.amstat.org/v4n2/datasets.shoemaker.html"
      ]
    },
    {
      "cell_type": "markdown",
      "metadata": {
        "id": "PbVU0fb4Hvsx"
      },
      "source": [
        "## Data Column Reference"
      ]
    },
    {
      "cell_type": "markdown",
      "metadata": {
        "id": "COhjLcaIHvsy"
      },
      "source": [
        "<style type=\"text/css\">\n",
        ".tg  {border-collapse:collapse;border-spacing:0;}\n",
        ".tg td{border-color:black;border-style:solid;border-width:1px;font-family:Arial, sans-serif;font-size:14px;\n",
        "  overflow:hidden;padding:10px 5px;word-break:normal;}\n",
        ".tg th{border-color:black;border-style:solid;border-width:1px;font-family:Arial, sans-serif;font-size:14px;\n",
        "  font-weight:normal;overflow:hidden;padding:10px 5px;word-break:normal;}\n",
        ".tg .tg-0lax{text-align:left;vertical-align:top}\n",
        ".tg .tg-0pky{border-color:inherit;text-align:left;vertical-align:top}\n",
        "</style>\n",
        "<table class=\"tg\">\n",
        "<thead>\n",
        "  <tr>\n",
        "    <th class=\"tg-0lax\">Variable</th>\n",
        "    <th class=\"tg-0lax\">Type</th>\n",
        "    <th class=\"tg-0lax\">Explanation</th>\n",
        "  </tr>\n",
        "</thead>\n",
        "<tbody>\n",
        "  <tr>\n",
        "    <td class=\"tg-0pky\">temperature</td>\n",
        "    <td class=\"tg-0pky\">Numeric</td>\n",
        "    <td class=\"tg-0pky\">Body Temperature (degrees Fahrenheit)</td>\n",
        "  </tr>\n",
        "  <tr>\n",
        "    <td class=\"tg-0pky\">gender</td>\n",
        "    <td class=\"tg-0pky\">Categorical</td>\n",
        "    <td class=\"tg-0pky\">Gender (1=Male, 2=Female)</td>\n",
        "  </tr>\n",
        "  <tr>\n",
        "    <td class=\"tg-0lax\">heart_rate</td>\n",
        "    <td class=\"tg-0lax\">Numeric</td>\n",
        "    <td class=\"tg-0lax\">Heart Rate (beats per minute)</td>\n",
        "  </tr>\n",
        "</tbody>\n",
        "</table>"
      ]
    },
    {
      "cell_type": "markdown",
      "metadata": {
        "id": "IebPqm4kHvsy"
      },
      "source": [
        "## Data Preperation"
      ]
    },
    {
      "cell_type": "markdown",
      "metadata": {
        "id": "I-UieuYeHvsz"
      },
      "source": [
        "⭐Run the following code to read in the \"normtemp.dat.txt\" file."
      ]
    },
    {
      "cell_type": "code",
      "metadata": {
        "id": "duzM9jh3Hvs0"
      },
      "source": [
        "df = pd.read_csv('http://jse.amstat.org/datasets/normtemp.dat.txt', delim_whitespace=True, names=[\"temperature\", \"gender\", \"heart_rate\"])"
      ],
      "execution_count": 24,
      "outputs": []
    },
    {
      "cell_type": "markdown",
      "metadata": {
        "id": "oNgtZpukHvs2"
      },
      "source": [
        "⭐Show first 5 rows"
      ]
    },
    {
      "cell_type": "code",
      "metadata": {
        "colab": {
          "base_uri": "https://localhost:8080/",
          "height": 206
        },
        "id": "C0reJMh2Hvs3",
        "outputId": "04759d38-a373-4f1f-d0ba-05c1b98ac01c"
      },
      "source": [
        "df.head(5)"
      ],
      "execution_count": 26,
      "outputs": [
        {
          "output_type": "execute_result",
          "data": {
            "text/html": [
              "<div>\n",
              "<style scoped>\n",
              "    .dataframe tbody tr th:only-of-type {\n",
              "        vertical-align: middle;\n",
              "    }\n",
              "\n",
              "    .dataframe tbody tr th {\n",
              "        vertical-align: top;\n",
              "    }\n",
              "\n",
              "    .dataframe thead th {\n",
              "        text-align: right;\n",
              "    }\n",
              "</style>\n",
              "<table border=\"1\" class=\"dataframe\">\n",
              "  <thead>\n",
              "    <tr style=\"text-align: right;\">\n",
              "      <th></th>\n",
              "      <th>temperature</th>\n",
              "      <th>gender</th>\n",
              "      <th>heart_rate</th>\n",
              "    </tr>\n",
              "  </thead>\n",
              "  <tbody>\n",
              "    <tr>\n",
              "      <th>0</th>\n",
              "      <td>96.3</td>\n",
              "      <td>1</td>\n",
              "      <td>70</td>\n",
              "    </tr>\n",
              "    <tr>\n",
              "      <th>1</th>\n",
              "      <td>96.7</td>\n",
              "      <td>1</td>\n",
              "      <td>71</td>\n",
              "    </tr>\n",
              "    <tr>\n",
              "      <th>2</th>\n",
              "      <td>96.9</td>\n",
              "      <td>1</td>\n",
              "      <td>74</td>\n",
              "    </tr>\n",
              "    <tr>\n",
              "      <th>3</th>\n",
              "      <td>97.0</td>\n",
              "      <td>1</td>\n",
              "      <td>80</td>\n",
              "    </tr>\n",
              "    <tr>\n",
              "      <th>4</th>\n",
              "      <td>97.1</td>\n",
              "      <td>1</td>\n",
              "      <td>73</td>\n",
              "    </tr>\n",
              "  </tbody>\n",
              "</table>\n",
              "</div>"
            ],
            "text/plain": [
              "   temperature  gender  heart_rate\n",
              "0         96.3       1          70\n",
              "1         96.7       1          71\n",
              "2         96.9       1          74\n",
              "3         97.0       1          80\n",
              "4         97.1       1          73"
            ]
          },
          "metadata": {},
          "execution_count": 26
        }
      ]
    },
    {
      "cell_type": "markdown",
      "metadata": {
        "id": "K_1u_lDpHvs3"
      },
      "source": [
        "⭐Show dataframe info"
      ]
    },
    {
      "cell_type": "code",
      "metadata": {
        "id": "j810IVUSHvs3"
      },
      "source": [
        ""
      ],
      "execution_count": null,
      "outputs": []
    },
    {
      "cell_type": "markdown",
      "metadata": {
        "id": "DasVa_lYHvs3"
      },
      "source": [
        "⭐Replace the gender levels [1, 2]  with [\"male\", \"female\"]"
      ]
    },
    {
      "cell_type": "code",
      "metadata": {
        "id": "GABfycvSWjY8"
      },
      "source": [
        "df.gender = df.gender.replace({1:'male', 2:'female'})"
      ],
      "execution_count": 27,
      "outputs": []
    },
    {
      "cell_type": "code",
      "metadata": {
        "id": "lOgGDjGWHvs4"
      },
      "source": [
        "df.gender = df.gender.replace(to_replace=[1,2], value=[\"male\",\"female\"])"
      ],
      "execution_count": 31,
      "outputs": []
    },
    {
      "cell_type": "code",
      "metadata": {
        "colab": {
          "base_uri": "https://localhost:8080/"
        },
        "id": "Jr1im6plHvs4",
        "outputId": "1f685646-aecd-4911-9ca2-bfdb9ddba9ff"
      },
      "source": [
        "df.head"
      ],
      "execution_count": 28,
      "outputs": [
        {
          "output_type": "execute_result",
          "data": {
            "text/plain": [
              "<bound method NDFrame.head of      temperature  gender  heart_rate\n",
              "0           96.3    male          70\n",
              "1           96.7    male          71\n",
              "2           96.9    male          74\n",
              "3           97.0    male          80\n",
              "4           97.1    male          73\n",
              "..           ...     ...         ...\n",
              "125         99.3  female          68\n",
              "126         99.4  female          77\n",
              "127         99.9  female          79\n",
              "128        100.0  female          78\n",
              "129        100.8  female          77\n",
              "\n",
              "[130 rows x 3 columns]>"
            ]
          },
          "metadata": {},
          "execution_count": 28
        }
      ]
    },
    {
      "cell_type": "markdown",
      "metadata": {
        "id": "9peR-TJ_Hvs4"
      },
      "source": [
        "## Task-1. Is the *body temperature* population mean  98.6 degrees F?"
      ]
    },
    {
      "cell_type": "markdown",
      "metadata": {
        "id": "RLWhhO1THvs4"
      },
      "source": [
        "⭐What is the mean for body temperature?"
      ]
    },
    {
      "cell_type": "code",
      "metadata": {
        "colab": {
          "base_uri": "https://localhost:8080/"
        },
        "id": "61hnoKPQHvs4",
        "outputId": "6a21ace5-93fc-4021-a508-8d0f59c48923"
      },
      "source": [
        "df.temperature.mean()"
      ],
      "execution_count": 29,
      "outputs": [
        {
          "output_type": "execute_result",
          "data": {
            "text/plain": [
              "98.24923076923076"
            ]
          },
          "metadata": {},
          "execution_count": 29
        }
      ]
    },
    {
      "cell_type": "markdown",
      "metadata": {
        "id": "6gSchSGPHvs5"
      },
      "source": [
        "⭐What is the standard deviation for body temperature?"
      ]
    },
    {
      "cell_type": "code",
      "metadata": {
        "colab": {
          "base_uri": "https://localhost:8080/"
        },
        "id": "rcrVFxGCHvs5",
        "outputId": "df017ab4-b338-4904-adcb-d34d65a466ca"
      },
      "source": [
        "df.temperature.std()"
      ],
      "execution_count": 30,
      "outputs": [
        {
          "output_type": "execute_result",
          "data": {
            "text/plain": [
              "0.7331831580389456"
            ]
          },
          "metadata": {},
          "execution_count": 30
        }
      ]
    },
    {
      "cell_type": "markdown",
      "metadata": {
        "id": "aunn3kpBHvs5"
      },
      "source": [
        "⭐What is the standard error of the mean for body temperature?"
      ]
    },
    {
      "cell_type": "code",
      "metadata": {
        "id": "n29_lmbhHvs5"
      },
      "source": [
        "df.temperature.sem()"
      ],
      "execution_count": null,
      "outputs": []
    },
    {
      "cell_type": "markdown",
      "metadata": {
        "id": "fKyyTNeuHvs5"
      },
      "source": [
        "⭐Plot the distribution of body temperature. You can either use *Pandas* or *Seaborn*."
      ]
    },
    {
      "cell_type": "code",
      "metadata": {
        "colab": {
          "base_uri": "https://localhost:8080/",
          "height": 265
        },
        "id": "aDCoFr1QHvs6",
        "outputId": "6a61f5a0-cca4-41dc-f06f-c183f0fae53e"
      },
      "source": [
        "df.temperature.plot.density()\n",
        "plt.show()"
      ],
      "execution_count": 32,
      "outputs": [
        {
          "output_type": "display_data",
          "data": {
            "image/png": "[encoded data removed]",
            "text/plain": [
              "<Figure size 432x288 with 1 Axes>"
            ]
          },
          "metadata": {
            "needs_background": "light"
          }
        }
      ]
    },
    {
      "cell_type": "code",
      "metadata": {
        "colab": {
          "base_uri": "https://localhost:8080/"
        },
        "id": "sm0WgSa5Hvs6",
        "outputId": "6e5299e5-157c-42de-bd19-099caa6f8d57"
      },
      "source": [
        "n = len(df)\n",
        "mu = df.temperature.mean()\n",
        "sigma = df.temperature.std()\n",
        "sem = df.temperature.std() / np.sqrt(len(df))\n",
        "ci1 = 0.90\n",
        "ci2 = 0.95\n",
        "ci3 = 0.99\n",
        "print('90% :', stats.norm.interval(ci1, mu, sem))\n",
        "print('95% :', stats.norm.interval(ci2, mu, sem))\n",
        "print('99% :', stats.norm.interval(ci3, mu, sem))"
      ],
      "execution_count": 33,
      "outputs": [
        {
          "output_type": "stream",
          "name": "stdout",
          "text": [
            "90% : (98.14345941596596, 98.35500212249556)\n",
            "95% : (98.12319642818164, 98.37526511027988)\n",
            "99% : (98.0835935679921, 98.41486797046943)\n"
          ]
        }
      ]
    },
    {
      "cell_type": "markdown",
      "metadata": {
        "id": "G_8XcL1SHvs6"
      },
      "source": [
        "⭐Investigate the given task by calculating the confidence interval for this sample of 130 subjects. (Use 90%, 95% and 99% CIs)"
      ]
    },
    {
      "cell_type": "code",
      "metadata": {
        "colab": {
          "base_uri": "https://localhost:8080/"
        },
        "id": "pHekpjKSYO9j",
        "outputId": "f38d52ab-f0c5-4c59-d49b-98b8ebb5ac23"
      },
      "source": [
        "stats.t.interval(0.90, df=129, loc=df.temperature.mean(), scale= df.temperature.sem())"
      ],
      "execution_count": 34,
      "outputs": [
        {
          "output_type": "execute_result",
          "data": {
            "text/plain": [
              "(98.14269432413488, 98.35576721432665)"
            ]
          },
          "metadata": {},
          "execution_count": 34
        }
      ]
    },
    {
      "cell_type": "code",
      "metadata": {
        "colab": {
          "base_uri": "https://localhost:8080/"
        },
        "id": "ifvsun93Hvs6",
        "outputId": "d65f15f7-b7ad-4843-e181-3fbcb1d98087"
      },
      "source": [
        "#Collect lower limits in a list\n",
        "lower = []\n",
        "\n",
        "#Collect upper limits in a list\n",
        "upper = []\n",
        "\n",
        "for i in [0.90, 0.95, 0.99]:\n",
        "  ci = stats.t.interval(0.90, df=len(df)-1, loc=df.temperature.mean(), scale= df.temperature.sem())\n",
        "  lower.append(ci[0])\n",
        "  upper.append(ci[1])\n",
        "  print('CI {i}%: {interval}'.format(i=int(i*100), interval=ci))\n"
      ],
      "execution_count": 39,
      "outputs": [
        {
          "output_type": "stream",
          "name": "stdout",
          "text": [
            "CI 90%: (98.14269432413488, 98.35576721432665)\n",
            "CI 95%: (98.14269432413488, 98.35576721432665)\n",
            "CI 99%: (98.14269432413488, 98.35576721432665)\n"
          ]
        }
      ]
    },
    {
      "cell_type": "code",
      "metadata": {
        "id": "NU9RlEIMZCEl"
      },
      "source": [
        ""
      ],
      "execution_count": null,
      "outputs": []
    },
    {
      "cell_type": "markdown",
      "metadata": {
        "id": "TMlqun1iHvs7"
      },
      "source": [
        "Output will look like this:\n",
        "\n",
        "CI 90%: (98.14269432413488, 98.35576721432665)\n",
        "\n",
        "CI 95%: (98.12200290560803, 98.3764586328535)\n",
        "\n",
        "CI 99%: (98.08110824239758, 98.41735329606395)"
      ]
    },
    {
      "cell_type": "markdown",
      "metadata": {
        "id": "re8zzcFPHvs7"
      },
      "source": [
        "⭐Visualize confidence intervals by using visualization libraries. (Use 90%, 95% and 99% CIs)"
      ]
    },
    {
      "cell_type": "code",
      "metadata": {
        "colab": {
          "base_uri": "https://localhost:8080/",
          "height": 265
        },
        "id": "6PkUMw4UHvs7",
        "outputId": "becbc8b7-13d1-4ce0-ecb9-d1ec4f1e8cca"
      },
      "source": [
        "plt.plot((lower, upper), (range(len(lower)),range(len(upper))))\n",
        "plt.yticks(range(3), [\"CI 90%\", \"CI 95%\", \"CI 99%\"])\n",
        "plt.show()"
      ],
      "execution_count": 40,
      "outputs": [
        {
          "output_type": "display_data",
          "data": {
            "image/png": "[encoded data removed]",
            "text/plain": [
              "<Figure size 432x288 with 1 Axes>"
            ]
          },
          "metadata": {
            "needs_background": "light"
          }
        }
      ]
    },
    {
      "cell_type": "markdown",
      "metadata": {
        "id": "jDankWAeHvs7"
      },
      "source": [
        "⭐**Investigate the given task by using One Sample t Test.**"
      ]
    },
    {
      "cell_type": "markdown",
      "metadata": {
        "id": "HCTU8IvpHvs7"
      },
      "source": [
        "___🚀First, check the normality. *Use scipy.stats.shapiro"
      ]
    },
    {
      "cell_type": "markdown",
      "metadata": {
        "id": "a99VAjYaHvs7"
      },
      "source": [
        "<i>H<i/><sub>0</sub>: \"the variable is normally distributed\"<br>\n",
        "<i>H<i/><sub>1</sub>: \"the variable is not normally distributed\""
      ]
    },
    {
      "cell_type": "code",
      "metadata": {
        "id": "M_hLdXWfHvs7"
      },
      "source": [
        "# Create stat variable for Test Statistic and p variable for p-value\n",
        "stat, p = stats.shapiro(df.temperature)"
      ],
      "execution_count": 42,
      "outputs": []
    },
    {
      "cell_type": "code",
      "metadata": {
        "colab": {
          "base_uri": "https://localhost:8080/"
        },
        "id": "f5VuA5h_Hvs8",
        "outputId": "fd6ea6c1-8c31-48e4-8a79-6f700c2b0e63"
      },
      "source": [
        "# Create p variable for p-value\n",
        "p"
      ],
      "execution_count": 43,
      "outputs": [
        {
          "output_type": "execute_result",
          "data": {
            "text/plain": [
              "0.233174666762352"
            ]
          },
          "metadata": {},
          "execution_count": 43
        }
      ]
    },
    {
      "cell_type": "code",
      "metadata": {
        "colab": {
          "base_uri": "https://localhost:8080/"
        },
        "id": "wegS5HrWHvs8",
        "outputId": "3f5ae927-9dd7-444d-a22e-f7ed8e2ff3ce"
      },
      "source": [
        "print('Statistics=%.3f, p=%.3f' % (stat, p))\n",
        "# interpret\n",
        "alpha = 0.05\n",
        "if p > alpha:\n",
        "\tprint('Sample looks Gaussian (fail to reject H0)')\n",
        "else:\n",
        "\tprint('Sample does not look Gaussian (reject H0)')"
      ],
      "execution_count": 44,
      "outputs": [
        {
          "output_type": "stream",
          "name": "stdout",
          "text": [
            "Statistics=0.987, p=0.233\n",
            "Sample looks Gaussian (fail to reject H0)\n"
          ]
        }
      ]
    },
    {
      "cell_type": "markdown",
      "metadata": {
        "id": "hYFOJXW6Hvs8"
      },
      "source": [
        "___🚀Then, conduct the significance test. *Use scipy.stats.ttest_1samp*"
      ]
    },
    {
      "cell_type": "code",
      "metadata": {
        "id": "7yxLD_kWc2VR"
      },
      "source": [
        "#H0: mu = 98.6\n",
        "#H1: mu =! 98.6"
      ],
      "execution_count": null,
      "outputs": []
    },
    {
      "cell_type": "code",
      "metadata": {
        "colab": {
          "base_uri": "https://localhost:8080/"
        },
        "id": "4dr9T8nNHvs8",
        "outputId": "33febfc3-d0a1-4a50-d3ce-e53dd490eb63"
      },
      "source": [
        "stats.ttest_1samp(df.temperature, 98.6)"
      ],
      "execution_count": 45,
      "outputs": [
        {
          "output_type": "execute_result",
          "data": {
            "text/plain": [
              "Ttest_1sampResult(statistic=-5.454823292364077, pvalue=2.410632041561008e-07)"
            ]
          },
          "metadata": {},
          "execution_count": 45
        }
      ]
    },
    {
      "cell_type": "code",
      "metadata": {
        "colab": {
          "base_uri": "https://localhost:8080/"
        },
        "id": "yzlqBRFUdSBt",
        "outputId": "d871ad8e-e792-4ee1-caae-215a26196d54"
      },
      "source": [
        "stats.t.cdf(-5.45, df = 129)"
      ],
      "execution_count": 48,
      "outputs": [
        {
          "output_type": "execute_result",
          "data": {
            "text/plain": [
              "1.232177504587276e-07"
            ]
          },
          "metadata": {},
          "execution_count": 48
        }
      ]
    },
    {
      "cell_type": "markdown",
      "metadata": {
        "id": "1Iu7VCW2Hvs8"
      },
      "source": [
        "The sample standard deviation is .73, so the standard error of the mean is .064. Thus the calculated t (using the sample mean of 98.25) is -5.45."
      ]
    },
    {
      "cell_type": "markdown",
      "metadata": {
        "id": "7OECZw0HHvs9"
      },
      "source": [
        "## Task-2. Is There a Significant Difference Between Males and Females in Normal Temperature?"
      ]
    },
    {
      "cell_type": "markdown",
      "metadata": {
        "id": "E1gcmnWRHvs9"
      },
      "source": [
        "H0: µ1 = µ2 (\"the two population means are equal\")\n",
        "\n",
        "H1: µ1 ≠ µ2 (\"the two population means are not equal\")"
      ]
    },
    {
      "cell_type": "markdown",
      "metadata": {
        "id": "n2FX4oCEHvs9"
      },
      "source": [
        "⭐Show descriptives for 2 groups"
      ]
    },
    {
      "cell_type": "code",
      "metadata": {
        "colab": {
          "base_uri": "https://localhost:8080/",
          "height": 143
        },
        "id": "mg5AFrHfHvs9",
        "outputId": "2885baec-a905-4e31-e996-e42bfea0acbf"
      },
      "source": [
        "df.groupby(\"gender\").describe()[\"temperature\"]"
      ],
      "execution_count": 49,
      "outputs": [
        {
          "output_type": "execute_result",
          "data": {
            "text/html": [
              "<div>\n",
              "<style scoped>\n",
              "    .dataframe tbody tr th:only-of-type {\n",
              "        vertical-align: middle;\n",
              "    }\n",
              "\n",
              "    .dataframe tbody tr th {\n",
              "        vertical-align: top;\n",
              "    }\n",
              "\n",
              "    .dataframe thead th {\n",
              "        text-align: right;\n",
              "    }\n",
              "</style>\n",
              "<table border=\"1\" class=\"dataframe\">\n",
              "  <thead>\n",
              "    <tr style=\"text-align: right;\">\n",
              "      <th></th>\n",
              "      <th>count</th>\n",
              "      <th>mean</th>\n",
              "      <th>std</th>\n",
              "      <th>min</th>\n",
              "      <th>25%</th>\n",
              "      <th>50%</th>\n",
              "      <th>75%</th>\n",
              "      <th>max</th>\n",
              "    </tr>\n",
              "    <tr>\n",
              "      <th>gender</th>\n",
              "      <th></th>\n",
              "      <th></th>\n",
              "      <th></th>\n",
              "      <th></th>\n",
              "      <th></th>\n",
              "      <th></th>\n",
              "      <th></th>\n",
              "      <th></th>\n",
              "    </tr>\n",
              "  </thead>\n",
              "  <tbody>\n",
              "    <tr>\n",
              "      <th>female</th>\n",
              "      <td>65.0</td>\n",
              "      <td>98.393846</td>\n",
              "      <td>0.743488</td>\n",
              "      <td>96.4</td>\n",
              "      <td>98.0</td>\n",
              "      <td>98.4</td>\n",
              "      <td>98.8</td>\n",
              "      <td>100.8</td>\n",
              "    </tr>\n",
              "    <tr>\n",
              "      <th>male</th>\n",
              "      <td>65.0</td>\n",
              "      <td>98.104615</td>\n",
              "      <td>0.698756</td>\n",
              "      <td>96.3</td>\n",
              "      <td>97.6</td>\n",
              "      <td>98.1</td>\n",
              "      <td>98.6</td>\n",
              "      <td>99.5</td>\n",
              "    </tr>\n",
              "  </tbody>\n",
              "</table>\n",
              "</div>"
            ],
            "text/plain": [
              "        count       mean       std   min   25%   50%   75%    max\n",
              "gender                                                           \n",
              "female   65.0  98.393846  0.743488  96.4  98.0  98.4  98.8  100.8\n",
              "male     65.0  98.104615  0.698756  96.3  97.6  98.1  98.6   99.5"
            ]
          },
          "metadata": {},
          "execution_count": 49
        }
      ]
    },
    {
      "cell_type": "markdown",
      "metadata": {
        "id": "T5P3Nn3OHvs9"
      },
      "source": [
        "⭐Plot the histogram for both groups side-by-side."
      ]
    },
    {
      "cell_type": "code",
      "metadata": {
        "colab": {
          "base_uri": "https://localhost:8080/",
          "height": 289
        },
        "id": "eOPnhXSfHvs9",
        "outputId": "c458c651-624e-4eb4-f4e2-c87dd0e619be"
      },
      "source": [
        "df.temperature.hist(by= df.gender)\n",
        "plt.show()"
      ],
      "execution_count": 50,
      "outputs": [
        {
          "output_type": "display_data",
          "data": {
            "image/png": "[encoded data removed]",
            "text/plain": [
              "<Figure size 432x288 with 2 Axes>"
            ]
          },
          "metadata": {
            "needs_background": "light"
          }
        }
      ]
    },
    {
      "cell_type": "markdown",
      "metadata": {
        "id": "g-usDnkSHvs9"
      },
      "source": [
        "⭐Plot the box plot for both groups side-by-side."
      ]
    },
    {
      "cell_type": "code",
      "metadata": {
        "colab": {
          "base_uri": "https://localhost:8080/",
          "height": 301
        },
        "id": "4y0g7SSDHvs-",
        "outputId": "5b19ab25-079a-491d-c97c-d93ebdbbdb89"
      },
      "source": [
        "df.boxplot(\"temperature\", by=\"gender\")\n",
        "plt.show()"
      ],
      "execution_count": 51,
      "outputs": [
        {
          "output_type": "display_data",
          "data": {
            "image/png": "[encoded data removed]",
            "text/plain": [
              "<Figure size 432x288 with 1 Axes>"
            ]
          },
          "metadata": {
            "needs_background": "light"
          }
        }
      ]
    },
    {
      "cell_type": "markdown",
      "metadata": {
        "id": "pB3B2PSeHvs-"
      },
      "source": [
        "⭐**Investigate the given task by using Independent Samples t Test.**"
      ]
    },
    {
      "cell_type": "code",
      "metadata": {
        "colab": {
          "base_uri": "https://localhost:8080/"
        },
        "id": "9g8zYvQgj_90",
        "outputId": "2cc711c4-b0fc-49c1-f276-c2a230587d0a"
      },
      "source": [
        "stats.shapiro(df[df[\"gender\"]==\"male\"][\"temperature\"])"
      ],
      "execution_count": 53,
      "outputs": [
        {
          "output_type": "execute_result",
          "data": {
            "text/plain": [
              "(0.9894071817398071, 0.8545167446136475)"
            ]
          },
          "metadata": {},
          "execution_count": 53
        }
      ]
    },
    {
      "cell_type": "markdown",
      "metadata": {
        "id": "aNqBn4PGHvs-"
      },
      "source": [
        "___🚀First, check the normality for both groups. *Use scipy.stats.shapiro*"
      ]
    },
    {
      "cell_type": "code",
      "metadata": {
        "colab": {
          "base_uri": "https://localhost:8080/"
        },
        "id": "9TKI8gn3Hvs-",
        "outputId": "7b382af5-175a-4b2d-a401-54062fa8ca8a"
      },
      "source": [
        "#Check the normality for male group\n",
        "\n",
        "stat, p = stats.shapiro(df[df[\"gender\"]==\"male\"][\"temperature\"])\n",
        "\n",
        "print('Statistics=%.3f, p=%.3f' % (stat, p))\n",
        "# interpret\n",
        "alpha = 0.05\n",
        "if p > alpha:\n",
        "\tprint('Sample looks Gaussian (fail to reject H0)')\n",
        "else:\n",
        "\tprint('Sample does not look Gaussian (reject H0)')"
      ],
      "execution_count": 55,
      "outputs": [
        {
          "output_type": "stream",
          "name": "stdout",
          "text": [
            "Statistics=0.989, p=0.855\n",
            "Sample looks Gaussian (fail to reject H0)\n"
          ]
        }
      ]
    },
    {
      "cell_type": "code",
      "metadata": {
        "colab": {
          "base_uri": "https://localhost:8080/"
        },
        "id": "LApNH6IlHvs-",
        "outputId": "cb5a1d15-ab3f-4396-f408-dac009f26691"
      },
      "source": [
        "#Check the normality for female group\n",
        "\n",
        "stat, p = stats.shapiro(df[df[\"gender\"]==\"female\"][\"temperature\"])\n",
        "\n",
        "print('Statistics=%.3f, p=%.3f' % (stat, p))\n",
        "# interpret\n",
        "alpha = 0.05\n",
        "if p > alpha:\n",
        "\tprint('Sample looks Gaussian (fail to reject H0)')\n",
        "else:\n",
        "\tprint('Sample does not look Gaussian (reject H0)')"
      ],
      "execution_count": 56,
      "outputs": [
        {
          "output_type": "stream",
          "name": "stdout",
          "text": [
            "Statistics=0.968, p=0.090\n",
            "Sample looks Gaussian (fail to reject H0)\n"
          ]
        }
      ]
    },
    {
      "cell_type": "markdown",
      "metadata": {
        "id": "4GZSAfXEHvs_"
      },
      "source": [
        "___🚀Test the assumption of homogeneity of variance\n",
        "*Hint: Levene’s Test*\n",
        "\n",
        "The hypotheses for Levene’s test are: \n",
        "\n",
        "<i>H<i/><sub>0</sub>: \"the population variances of group 1 and 2 are equal\"\n",
        "    \n",
        "<i>H<i/><sub>1</sub>: \"the population variances of group 1 and 2 are not equal\""
      ]
    },
    {
      "cell_type": "code",
      "metadata": {
        "id": "pQydgtIJHvs_"
      },
      "source": [
        "stat, p = \n",
        "\n",
        "print('Statistics=%.3f, p=%.3f' % (stat, p))\n",
        "# interpret\n",
        "alpha = 0.05\n",
        "if p > alpha:\n",
        "\tprint('The population variances of group 1 and 2 are equal (fail to reject H0)')\n",
        "else:\n",
        "\tprint('The population variances of group 1 and 2 are not equal (reject H0)')"
      ],
      "execution_count": null,
      "outputs": []
    },
    {
      "cell_type": "markdown",
      "metadata": {
        "id": "S5WPiJyrHvtA"
      },
      "source": [
        "___🚀Conduct the significance test. Use scipy.stats.ttest_ind\n",
        "\n",
        "H0: µ1 = µ2 (\"the two population means are equal\")\n",
        "\n",
        "H1: µ1 ≠ µ2 (\"the two population means are not equal\")"
      ]
    },
    {
      "cell_type": "code",
      "metadata": {
        "colab": {
          "base_uri": "https://localhost:8080/"
        },
        "id": "gJOMMAqmlLEg",
        "outputId": "66e3653d-d02a-447b-8d68-9b80548356dc"
      },
      "source": [
        "df[df[\"gender\"]==\"male\"][\"temperature\"]"
      ],
      "execution_count": 60,
      "outputs": [
        {
          "output_type": "execute_result",
          "data": {
            "text/plain": [
              "0     96.3\n",
              "1     96.7\n",
              "2     96.9\n",
              "3     97.0\n",
              "4     97.1\n",
              "      ... \n",
              "60    99.1\n",
              "61    99.2\n",
              "62    99.3\n",
              "63    99.4\n",
              "64    99.5\n",
              "Name: temperature, Length: 65, dtype: float64"
            ]
          },
          "metadata": {},
          "execution_count": 60
        }
      ]
    },
    {
      "cell_type": "code",
      "metadata": {
        "colab": {
          "base_uri": "https://localhost:8080/"
        },
        "id": "OHoYFCYjlaBX",
        "outputId": "60252e3e-7d4c-428d-ab38-0cdc82ce5542"
      },
      "source": [
        "df[df[\"gender\"]==\"female\"][\"temperature\"]"
      ],
      "execution_count": 61,
      "outputs": [
        {
          "output_type": "execute_result",
          "data": {
            "text/plain": [
              "65      96.4\n",
              "66      96.7\n",
              "67      96.8\n",
              "68      97.2\n",
              "69      97.2\n",
              "       ...  \n",
              "125     99.3\n",
              "126     99.4\n",
              "127     99.9\n",
              "128    100.0\n",
              "129    100.8\n",
              "Name: temperature, Length: 65, dtype: float64"
            ]
          },
          "metadata": {},
          "execution_count": 61
        }
      ]
    },
    {
      "cell_type": "code",
      "metadata": {
        "colab": {
          "base_uri": "https://localhost:8080/"
        },
        "id": "VjI-AyOyHvtB",
        "outputId": "f44380e6-6ee9-4fa3-aa9f-8b017dcf71f3"
      },
      "source": [
        "stats.ttest_ind(df[df[\"gender\"]==\"male\"][\"temperature\"], df[df[\"gender\"]==\"female\"][\"temperature\"], equal_var=True)"
      ],
      "execution_count": 62,
      "outputs": [
        {
          "output_type": "execute_result",
          "data": {
            "text/plain": [
              "Ttest_indResult(statistic=-2.2854345381654984, pvalue=0.02393188312240236)"
            ]
          },
          "metadata": {},
          "execution_count": 62
        }
      ]
    },
    {
      "cell_type": "code",
      "metadata": {
        "colab": {
          "base_uri": "https://localhost:8080/"
        },
        "id": "D4brraokHvtC",
        "outputId": "e5205ed6-7445-4587-ad78-e817b645e4e9"
      },
      "source": [
        "twosample = stats.ttest_ind(df[df[\"gender\"]==\"male\"][\"temperature\"], df[df[\"gender\"]==\"female\"][\"temperature\"], equal_var=True)\n",
        "\n",
        "alpha = 0.05\n",
        "p_value = twosample.pvalue\n",
        "\n",
        "if p_value<alpha:\n",
        "    print('At {} level of significance, we can reject the null hypothesis in favor of the alternative hypothesis.'.format(alpha))\n",
        "else:\n",
        "    print('At {} level of significance, we fail to reject the null hypothesis.'.format(alpha))"
      ],
      "execution_count": 63,
      "outputs": [
        {
          "output_type": "stream",
          "name": "stdout",
          "text": [
            "At 0.05 level of significance, we can reject the null hypothesis in favor of the alternative hypothesis.\n"
          ]
        }
      ]
    },
    {
      "cell_type": "markdown",
      "metadata": {
        "id": "YV5tIRFQHvtC"
      },
      "source": [
        "## Task-3. Is There a Relationship Between Body Temperature and Heart Rate?"
      ]
    },
    {
      "cell_type": "markdown",
      "metadata": {
        "id": "ZTd12_T2HvtC"
      },
      "source": [
        "⭐Plot the scatter plot"
      ]
    },
    {
      "cell_type": "code",
      "metadata": {
        "colab": {
          "base_uri": "https://localhost:8080/",
          "height": 280
        },
        "id": "lM11ih8IHvtC",
        "outputId": "48d3583b-1fb1-4136-efb2-09fdb9fea699"
      },
      "source": [
        "df.plot.scatter(\"temperature\", \"heart_rate\")\n",
        "plt.show()"
      ],
      "execution_count": 64,
      "outputs": [
        {
          "output_type": "display_data",
          "data": {
            "image/png": "[encoded data removed]",
            "text/plain": [
              "<Figure size 432x288 with 1 Axes>"
            ]
          },
          "metadata": {
            "needs_background": "light"
          }
        }
      ]
    },
    {
      "cell_type": "markdown",
      "metadata": {
        "id": "pfv-sPqPHvtC"
      },
      "source": [
        "⭐Check the normality for heart rate variable"
      ]
    },
    {
      "cell_type": "code",
      "metadata": {
        "id": "84QPpO52HvtJ"
      },
      "source": [
        "stat, p = \n",
        "\n",
        "print('Statistics=%.3f, p=%.3f' % (stat, p))\n",
        "# interpret\n",
        "alpha = 0.05\n",
        "if p > alpha:\n",
        "\tprint('Sample looks Gaussian (fail to reject H0)')\n",
        "else:\n",
        "\tprint('Sample does not look Gaussian (reject H0)')"
      ],
      "execution_count": null,
      "outputs": []
    },
    {
      "cell_type": "markdown",
      "metadata": {
        "id": "23xA1pUjHvtK"
      },
      "source": [
        "⭐**Conduct a correlation test**, report Pearson’s correlation coefficient and two-tailed p-value. *Use scipy.stats.pearsonr*"
      ]
    },
    {
      "cell_type": "markdown",
      "metadata": {
        "id": "9bSWkRdGHvtK"
      },
      "source": [
        "Two-tailed significance test:\n",
        "\n",
        "H0: ρ = 0 (\"the population correlation coefficient is 0; there is no association\")\n",
        "\n",
        "H1: ρ ≠ 0 (\"the population correlation coefficient is not 0; a nonzero correlation could exist\")"
      ]
    },
    {
      "cell_type": "code",
      "metadata": {
        "id": "19uL9iN-HvtK"
      },
      "source": [
        ""
      ],
      "execution_count": null,
      "outputs": []
    },
    {
      "cell_type": "markdown",
      "metadata": {
        "id": "wz8JAIvjHvtL"
      },
      "source": [
        "⭐**Find a regression equation** to predict heart rate from body temperature (Use scipy.stats)."
      ]
    },
    {
      "cell_type": "code",
      "metadata": {
        "colab": {
          "base_uri": "https://localhost:8080/"
        },
        "id": "IRo5EwYcHvtL",
        "outputId": "8a0aab2a-57f3-4de3-935e-f17f5e12b32b"
      },
      "source": [
        "res = stats.linregress(df.temperature, df.heart_rate)\n",
        "res"
      ],
      "execution_count": 66,
      "outputs": [
        {
          "output_type": "execute_result",
          "data": {
            "text/plain": [
              "LinregressResult(slope=2.443238038611885, intercept=-166.2847194182034, rvalue=0.2536564027207643, pvalue=0.003591489250708216, stderr=0.8235190209144222)"
            ]
          },
          "metadata": {},
          "execution_count": 66
        }
      ]
    },
    {
      "cell_type": "code",
      "metadata": {
        "colab": {
          "base_uri": "https://localhost:8080/"
        },
        "id": "F65iJE6upQ4g",
        "outputId": "0b704bad-a9e4-48f0-c2e9-6d205b50da0f"
      },
      "source": [
        "res.slope"
      ],
      "execution_count": 67,
      "outputs": [
        {
          "output_type": "execute_result",
          "data": {
            "text/plain": [
              "2.443238038611885"
            ]
          },
          "metadata": {},
          "execution_count": 67
        }
      ]
    },
    {
      "cell_type": "code",
      "metadata": {
        "colab": {
          "base_uri": "https://localhost:8080/"
        },
        "id": "9L9Xnd3rpSVP",
        "outputId": "6cef9216-ee6b-4df1-dc0a-03f9db63dae0"
      },
      "source": [
        "res.intercept"
      ],
      "execution_count": 68,
      "outputs": [
        {
          "output_type": "execute_result",
          "data": {
            "text/plain": [
              "-166.2847194182034"
            ]
          },
          "metadata": {},
          "execution_count": 68
        }
      ]
    },
    {
      "cell_type": "markdown",
      "metadata": {
        "id": "wr4KCSPTHvtL"
      },
      "source": [
        "⭐**Find a regression equation** to predict heart rate from body temperature (Use statsmodels).\n"
      ]
    },
    {
      "cell_type": "code",
      "metadata": {
        "colab": {
          "base_uri": "https://localhost:8080/"
        },
        "id": "L4t8wgigHvtL",
        "outputId": "98b54b80-28d0-46fe-9e17-44a48476aee3"
      },
      "source": [
        "import statsmodels.api as sm"
      ],
      "execution_count": 69,
      "outputs": [
        {
          "output_type": "stream",
          "name": "stderr",
          "text": [
            "/usr/local/lib/python3.7/dist-packages/statsmodels/tools/_testing.py:19: FutureWarning: pandas.util.testing is deprecated. Use the functions in the public API at pandas.testing instead.\n",
            "  import pandas.util.testing as tm\n"
          ]
        }
      ]
    },
    {
      "cell_type": "code",
      "metadata": {
        "id": "82PJPhbXHvtM"
      },
      "source": [
        "mod"
      ],
      "execution_count": null,
      "outputs": []
    },
    {
      "cell_type": "code",
      "metadata": {
        "id": "6dLJOJOLHvtM"
      },
      "source": [
        ""
      ],
      "execution_count": null,
      "outputs": []
    },
    {
      "cell_type": "code",
      "metadata": {
        "id": "foXSEuDRHvtM"
      },
      "source": [
        ""
      ],
      "execution_count": null,
      "outputs": []
    },
    {
      "cell_type": "code",
      "metadata": {
        "id": "hnD8Vg0jHvtN"
      },
      "source": [
        ""
      ],
      "execution_count": null,
      "outputs": []
    },
    {
      "cell_type": "markdown",
      "metadata": {
        "id": "hX0PGcOGHvtN"
      },
      "source": [
        "⭐Calculate the predicted heart rate of a person at the temperature 97 F."
      ]
    },
    {
      "cell_type": "code",
      "metadata": {
        "colab": {
          "base_uri": "https://localhost:8080/"
        },
        "id": "P437ol5pHvtN",
        "outputId": "b0d3bfe4-c0c3-4528-8e81-a5c912f6557e"
      },
      "source": [
        "temp = 97\n",
        "res.slope * temp + res.intercept"
      ],
      "execution_count": 70,
      "outputs": [
        {
          "output_type": "execute_result",
          "data": {
            "text/plain": [
              "70.70937032714943"
            ]
          },
          "metadata": {},
          "execution_count": 70
        }
      ]
    },
    {
      "cell_type": "markdown",
      "metadata": {
        "id": "BPBIqIBeHvtO"
      },
      "source": [
        "⭐How much of the variation of the heart_rate variable is explained by the temperature variable? *Coefficient of determination (R-squared):*"
      ]
    },
    {
      "cell_type": "code",
      "metadata": {
        "colab": {
          "base_uri": "https://localhost:8080/"
        },
        "id": "qkyLTmA-HvtO",
        "outputId": "6910841c-36fb-49c5-c679-210460ee856d"
      },
      "source": [
        "Rsquared = res.rvalue ** 2\n",
        "Rsquared        #yuzde 6.4 modelim iyi degil. heart rate deki varyansin yuzde 6.4 unu acikladi"
      ],
      "execution_count": 71,
      "outputs": [
        {
          "output_type": "execute_result",
          "data": {
            "text/plain": [
              "0.06434157064123855"
            ]
          },
          "metadata": {},
          "execution_count": 71
        }
      ]
    },
    {
      "cell_type": "markdown",
      "metadata": {
        "id": "nXjLosIxHvtO"
      },
      "source": [
        "# Spring 2014 Semester Survey"
      ]
    },
    {
      "cell_type": "markdown",
      "metadata": {
        "id": "nlhTeqrpHvtP"
      },
      "source": [
        "## The Data"
      ]
    },
    {
      "cell_type": "markdown",
      "metadata": {
        "id": "Sjq1UPfiHvtP"
      },
      "source": [
        "- This dataset contains survey results from 435 students enrolled at a university in the United States. The survey was conducted during the Spring 2014 semester.\n",
        "\n",
        "- This data was simulated using random number generation.\n",
        "\n",
        "- Source: Kent State University (https://www.kent.edu/)\n",
        "\n",
        "- Data Description can be found at: https://libguides.library.kent.edu/ld.php?content_id=11205386"
      ]
    },
    {
      "cell_type": "markdown",
      "metadata": {
        "id": "pAegFlXhHvtP"
      },
      "source": [
        "⭐Run the following code to read the dataset."
      ]
    },
    {
      "cell_type": "code",
      "metadata": {
        "id": "AonD_YYWHvtP"
      },
      "source": [
        "survey = pd.read_csv(\"students_2014.csv\")"
      ],
      "execution_count": 72,
      "outputs": []
    },
    {
      "cell_type": "code",
      "metadata": {
        "colab": {
          "base_uri": "https://localhost:8080/",
          "height": 295
        },
        "id": "dAxKSRGpHvtQ",
        "outputId": "f191ad05-bc36-4773-cb3d-2c8f8a9384e6"
      },
      "source": [
        "survey.head()"
      ],
      "execution_count": 73,
      "outputs": [
        {
          "output_type": "execute_result",
          "data": {
            "text/html": [
              "<div>\n",
              "<style scoped>\n",
              "    .dataframe tbody tr th:only-of-type {\n",
              "        vertical-align: middle;\n",
              "    }\n",
              "\n",
              "    .dataframe tbody tr th {\n",
              "        vertical-align: top;\n",
              "    }\n",
              "\n",
              "    .dataframe thead th {\n",
              "        text-align: right;\n",
              "    }\n",
              "</style>\n",
              "<table border=\"1\" class=\"dataframe\">\n",
              "  <thead>\n",
              "    <tr style=\"text-align: right;\">\n",
              "      <th></th>\n",
              "      <th>ids</th>\n",
              "      <th>bday</th>\n",
              "      <th>enrolldate</th>\n",
              "      <th>expgradate</th>\n",
              "      <th>Rank</th>\n",
              "      <th>Major</th>\n",
              "      <th>Gender</th>\n",
              "      <th>Athlete</th>\n",
              "      <th>Height</th>\n",
              "      <th>Weight</th>\n",
              "      <th>Smoking</th>\n",
              "      <th>Sprint</th>\n",
              "      <th>MileMinDur</th>\n",
              "      <th>English</th>\n",
              "      <th>Reading</th>\n",
              "      <th>Math</th>\n",
              "      <th>Writing</th>\n",
              "      <th>State</th>\n",
              "      <th>LiveOnCampus</th>\n",
              "      <th>HowCommute</th>\n",
              "      <th>CommuteTime</th>\n",
              "      <th>SleepTime</th>\n",
              "      <th>StudyTime</th>\n",
              "    </tr>\n",
              "  </thead>\n",
              "  <tbody>\n",
              "    <tr>\n",
              "      <th>0</th>\n",
              "      <td>43783</td>\n",
              "      <td>3/22/1995</td>\n",
              "      <td></td>\n",
              "      <td></td>\n",
              "      <td></td>\n",
              "      <td></td>\n",
              "      <td>0</td>\n",
              "      <td>0</td>\n",
              "      <td>72.35</td>\n",
              "      <td></td>\n",
              "      <td>0</td>\n",
              "      <td>7.978</td>\n",
              "      <td></td>\n",
              "      <td>88.24</td>\n",
              "      <td>81.5</td>\n",
              "      <td>60.02</td>\n",
              "      <td>81.44</td>\n",
              "      <td>In state</td>\n",
              "      <td>1</td>\n",
              "      <td></td>\n",
              "      <td></td>\n",
              "      <td>7</td>\n",
              "      <td>1</td>\n",
              "    </tr>\n",
              "    <tr>\n",
              "      <th>1</th>\n",
              "      <td>20278</td>\n",
              "      <td>1/1/1995</td>\n",
              "      <td></td>\n",
              "      <td></td>\n",
              "      <td></td>\n",
              "      <td>Philosophy</td>\n",
              "      <td>0</td>\n",
              "      <td>0</td>\n",
              "      <td>70.66</td>\n",
              "      <td>179.2</td>\n",
              "      <td>0</td>\n",
              "      <td>8.004</td>\n",
              "      <td>0:06:21</td>\n",
              "      <td>89.45</td>\n",
              "      <td>85.25</td>\n",
              "      <td>70.19</td>\n",
              "      <td>73.27</td>\n",
              "      <td></td>\n",
              "      <td>1</td>\n",
              "      <td></td>\n",
              "      <td></td>\n",
              "      <td>5</td>\n",
              "      <td>2</td>\n",
              "    </tr>\n",
              "    <tr>\n",
              "      <th>2</th>\n",
              "      <td>20389</td>\n",
              "      <td>12/31/1994</td>\n",
              "      <td></td>\n",
              "      <td></td>\n",
              "      <td></td>\n",
              "      <td></td>\n",
              "      <td>0</td>\n",
              "      <td>0</td>\n",
              "      <td>70.68</td>\n",
              "      <td>198.52</td>\n",
              "      <td>0</td>\n",
              "      <td></td>\n",
              "      <td>0:07:00</td>\n",
              "      <td>96.73</td>\n",
              "      <td>86.88</td>\n",
              "      <td>71.2</td>\n",
              "      <td>84.24</td>\n",
              "      <td>In state</td>\n",
              "      <td></td>\n",
              "      <td></td>\n",
              "      <td></td>\n",
              "      <td>8</td>\n",
              "      <td>7</td>\n",
              "    </tr>\n",
              "    <tr>\n",
              "      <th>3</th>\n",
              "      <td>22820</td>\n",
              "      <td>12/1/1994</td>\n",
              "      <td></td>\n",
              "      <td></td>\n",
              "      <td></td>\n",
              "      <td>business administration</td>\n",
              "      <td>1</td>\n",
              "      <td>0</td>\n",
              "      <td></td>\n",
              "      <td>198.34</td>\n",
              "      <td></td>\n",
              "      <td>8.473</td>\n",
              "      <td>0:12:44</td>\n",
              "      <td>74.06</td>\n",
              "      <td>88.68</td>\n",
              "      <td>55.89</td>\n",
              "      <td>73.16</td>\n",
              "      <td>In state</td>\n",
              "      <td>1</td>\n",
              "      <td></td>\n",
              "      <td></td>\n",
              "      <td>2</td>\n",
              "      <td>6</td>\n",
              "    </tr>\n",
              "    <tr>\n",
              "      <th>4</th>\n",
              "      <td>24559</td>\n",
              "      <td>11/10/1994</td>\n",
              "      <td></td>\n",
              "      <td></td>\n",
              "      <td></td>\n",
              "      <td></td>\n",
              "      <td>1</td>\n",
              "      <td>1</td>\n",
              "      <td>67.43</td>\n",
              "      <td>128.17</td>\n",
              "      <td>2</td>\n",
              "      <td></td>\n",
              "      <td>0:06:25</td>\n",
              "      <td>82.61</td>\n",
              "      <td>77.3</td>\n",
              "      <td>65.52</td>\n",
              "      <td>80.45</td>\n",
              "      <td>Out of state</td>\n",
              "      <td>1</td>\n",
              "      <td></td>\n",
              "      <td></td>\n",
              "      <td>7</td>\n",
              "      <td>3</td>\n",
              "    </tr>\n",
              "  </tbody>\n",
              "</table>\n",
              "</div>"
            ],
            "text/plain": [
              "     ids        bday enrolldate  ... CommuteTime SleepTime StudyTime\n",
              "0  43783   3/22/1995             ...                     7         1\n",
              "1  20278    1/1/1995             ...                     5         2\n",
              "2  20389  12/31/1994             ...                     8         7\n",
              "3  22820   12/1/1994             ...                     2         6\n",
              "4  24559  11/10/1994             ...                     7         3\n",
              "\n",
              "[5 rows x 23 columns]"
            ]
          },
          "metadata": {},
          "execution_count": 73
        }
      ]
    },
    {
      "cell_type": "markdown",
      "metadata": {
        "id": "qNeEFuoAHvtQ"
      },
      "source": [
        "⭐Know your data"
      ]
    },
    {
      "cell_type": "code",
      "metadata": {
        "colab": {
          "base_uri": "https://localhost:8080/"
        },
        "id": "ZJyQx1LhHvtQ",
        "outputId": "240b0f0e-9ede-4d46-9433-5b920502180e"
      },
      "source": [
        "survey.info()"
      ],
      "execution_count": 75,
      "outputs": [
        {
          "output_type": "stream",
          "name": "stdout",
          "text": [
            "<class 'pandas.core.frame.DataFrame'>\n",
            "RangeIndex: 435 entries, 0 to 434\n",
            "Data columns (total 23 columns):\n",
            " #   Column        Non-Null Count  Dtype \n",
            "---  ------        --------------  ----- \n",
            " 0   ids           435 non-null    int64 \n",
            " 1   bday          435 non-null    object\n",
            " 2   enrolldate    435 non-null    object\n",
            " 3   expgradate    435 non-null    object\n",
            " 4   Rank          435 non-null    object\n",
            " 5   Major         434 non-null    object\n",
            " 6   Gender        435 non-null    object\n",
            " 7   Athlete       435 non-null    int64 \n",
            " 8   Height        435 non-null    object\n",
            " 9   Weight        435 non-null    object\n",
            " 10  Smoking       435 non-null    object\n",
            " 11  Sprint        435 non-null    object\n",
            " 12  MileMinDur    435 non-null    object\n",
            " 13  English       435 non-null    object\n",
            " 14  Reading       435 non-null    object\n",
            " 15  Math          435 non-null    object\n",
            " 16  Writing       435 non-null    object\n",
            " 17  State         435 non-null    object\n",
            " 18  LiveOnCampus  435 non-null    object\n",
            " 19  HowCommute    435 non-null    object\n",
            " 20  CommuteTime   435 non-null    object\n",
            " 21  SleepTime     435 non-null    object\n",
            " 22  StudyTime     435 non-null    object\n",
            "dtypes: int64(2), object(21)\n",
            "memory usage: 78.3+ KB\n"
          ]
        }
      ]
    },
    {
      "cell_type": "markdown",
      "metadata": {
        "id": "X9VGDDzKHvtQ"
      },
      "source": [
        "⭐Change Math, English, Reading, and Writing colums to numeric. *Use pd.to_numeric*"
      ]
    },
    {
      "cell_type": "code",
      "metadata": {
        "id": "XPMAwVUuHvtQ"
      },
      "source": [
        "survey[\"Math\"] = pd.to_numeric(survey[\"Math\"],errors='coerce')\n",
        "survey[\"English\"] = pd.to_numeric(survey[\"English\"],errors='coerce')\n",
        "survey[\"Reading\"] = pd.to_numeric(survey[\"Reading\"],errors='coerce')\n",
        "survey[\"Writing\"] = pd.to_numeric(survey[\"Writing\"],errors='coerce')"
      ],
      "execution_count": 76,
      "outputs": []
    },
    {
      "cell_type": "markdown",
      "metadata": {
        "id": "LF4T4HoHHvtQ"
      },
      "source": [
        "## Task-1. Paired Samples t Test"
      ]
    },
    {
      "cell_type": "markdown",
      "metadata": {
        "id": "cv228piwHvtR"
      },
      "source": [
        "The sample dataset has placement test scores (out of 100 points) for four subject areas: English, Reading, Math, and Writing. Students in the sample completed all 4 placement tests when they enrolled in the university. Suppose we are particularly interested in the **English** and **Math** sections, and want to determine whether students tended to score higher on their English or Math test, on average. "
      ]
    },
    {
      "cell_type": "markdown",
      "metadata": {
        "id": "TOx1CSU4HvtR"
      },
      "source": [
        "⭐Show descriptives for the two sections"
      ]
    },
    {
      "cell_type": "code",
      "metadata": {
        "colab": {
          "base_uri": "https://localhost:8080/",
          "height": 112
        },
        "id": "p8DYh_VTHvtR",
        "outputId": "f4c0b5a6-4fd9-472d-e446-b2dbf3a6e9ea"
      },
      "source": [
        "survey.describe()[[\"English\", \"Math\"]].T"
      ],
      "execution_count": 77,
      "outputs": [
        {
          "output_type": "execute_result",
          "data": {
            "text/html": [
              "<div>\n",
              "<style scoped>\n",
              "    .dataframe tbody tr th:only-of-type {\n",
              "        vertical-align: middle;\n",
              "    }\n",
              "\n",
              "    .dataframe tbody tr th {\n",
              "        vertical-align: top;\n",
              "    }\n",
              "\n",
              "    .dataframe thead th {\n",
              "        text-align: right;\n",
              "    }\n",
              "</style>\n",
              "<table border=\"1\" class=\"dataframe\">\n",
              "  <thead>\n",
              "    <tr style=\"text-align: right;\">\n",
              "      <th></th>\n",
              "      <th>count</th>\n",
              "      <th>mean</th>\n",
              "      <th>std</th>\n",
              "      <th>min</th>\n",
              "      <th>25%</th>\n",
              "      <th>50%</th>\n",
              "      <th>75%</th>\n",
              "      <th>max</th>\n",
              "    </tr>\n",
              "  </thead>\n",
              "  <tbody>\n",
              "    <tr>\n",
              "      <th>English</th>\n",
              "      <td>409.0</td>\n",
              "      <td>82.787555</td>\n",
              "      <td>6.839803</td>\n",
              "      <td>59.83</td>\n",
              "      <td>78.3300</td>\n",
              "      <td>83.150</td>\n",
              "      <td>87.1700</td>\n",
              "      <td>101.95</td>\n",
              "    </tr>\n",
              "    <tr>\n",
              "      <th>Math</th>\n",
              "      <td>422.0</td>\n",
              "      <td>65.468009</td>\n",
              "      <td>8.375930</td>\n",
              "      <td>35.32</td>\n",
              "      <td>60.2025</td>\n",
              "      <td>65.445</td>\n",
              "      <td>70.5675</td>\n",
              "      <td>93.78</td>\n",
              "    </tr>\n",
              "  </tbody>\n",
              "</table>\n",
              "</div>"
            ],
            "text/plain": [
              "         count       mean       std    min      25%     50%      75%     max\n",
              "English  409.0  82.787555  6.839803  59.83  78.3300  83.150  87.1700  101.95\n",
              "Math     422.0  65.468009  8.375930  35.32  60.2025  65.445  70.5675   93.78"
            ]
          },
          "metadata": {},
          "execution_count": 77
        }
      ]
    },
    {
      "cell_type": "markdown",
      "metadata": {
        "id": "U5Xy6BV9HvtR"
      },
      "source": [
        "⭐Plot the histogram for both groups side-by-side."
      ]
    },
    {
      "cell_type": "code",
      "metadata": {
        "colab": {
          "base_uri": "https://localhost:8080/",
          "height": 281
        },
        "id": "OnVwGfQkHvtR",
        "outputId": "ab667c24-4063-4fa7-faea-3aa711d40bfb"
      },
      "source": [
        "survey[[\"English\", \"Math\"]].hist()\n",
        "plt.show()"
      ],
      "execution_count": 80,
      "outputs": [
        {
          "output_type": "display_data",
          "data": {
            "image/png": "[encoded data removed]",
            "text/plain": [
              "<Figure size 432x288 with 2 Axes>"
            ]
          },
          "metadata": {
            "needs_background": "light"
          }
        }
      ]
    },
    {
      "cell_type": "markdown",
      "metadata": {
        "id": "BRSE0SVXHvtR"
      },
      "source": [
        "⭐Plot the box plot for both variables side-by-side."
      ]
    },
    {
      "cell_type": "code",
      "metadata": {
        "colab": {
          "base_uri": "https://localhost:8080/",
          "height": 320
        },
        "id": "oTqyPys6HvtR",
        "outputId": "8e6a8266-1fbd-4cdc-a861-1576701eb26e"
      },
      "source": [
        "survey[[\"English\", \"Math\"]].boxplot()\n",
        "plt.show()"
      ],
      "execution_count": 81,
      "outputs": [
        {
          "output_type": "stream",
          "name": "stderr",
          "text": [
            "/usr/local/lib/python3.7/dist-packages/numpy/core/_asarray.py:83: VisibleDeprecationWarning: Creating an ndarray from ragged nested sequences (which is a list-or-tuple of lists-or-tuples-or ndarrays with different lengths or shapes) is deprecated. If you meant to do this, you must specify 'dtype=object' when creating the ndarray\n",
            "  return array(a, dtype, copy=False, order=order)\n"
          ]
        },
        {
          "output_type": "display_data",
          "data": {
            "image/png": "[encoded data removed]",
            "text/plain": [
              "<Figure size 432x288 with 1 Axes>"
            ]
          },
          "metadata": {
            "needs_background": "light"
          }
        }
      ]
    },
    {
      "cell_type": "markdown",
      "metadata": {
        "id": "Qi06TpEYHvtS"
      },
      "source": [
        "⭐Create a paired dataset as named *pairset*. Remove missing values. *Use dropna*"
      ]
    },
    {
      "cell_type": "code",
      "metadata": {
        "colab": {
          "base_uri": "https://localhost:8080/",
          "height": 206
        },
        "id": "PdBjWxYiHvtS",
        "outputId": "f4ada9a2-4935-4d41-e70f-f1f5f700d3ae"
      },
      "source": [
        "pairset = survey[[\"Math\", \"English\"]].dropna()\n",
        "pairset.head()"
      ],
      "execution_count": 82,
      "outputs": [
        {
          "output_type": "execute_result",
          "data": {
            "text/html": [
              "<div>\n",
              "<style scoped>\n",
              "    .dataframe tbody tr th:only-of-type {\n",
              "        vertical-align: middle;\n",
              "    }\n",
              "\n",
              "    .dataframe tbody tr th {\n",
              "        vertical-align: top;\n",
              "    }\n",
              "\n",
              "    .dataframe thead th {\n",
              "        text-align: right;\n",
              "    }\n",
              "</style>\n",
              "<table border=\"1\" class=\"dataframe\">\n",
              "  <thead>\n",
              "    <tr style=\"text-align: right;\">\n",
              "      <th></th>\n",
              "      <th>Math</th>\n",
              "      <th>English</th>\n",
              "    </tr>\n",
              "  </thead>\n",
              "  <tbody>\n",
              "    <tr>\n",
              "      <th>0</th>\n",
              "      <td>60.02</td>\n",
              "      <td>88.24</td>\n",
              "    </tr>\n",
              "    <tr>\n",
              "      <th>1</th>\n",
              "      <td>70.19</td>\n",
              "      <td>89.45</td>\n",
              "    </tr>\n",
              "    <tr>\n",
              "      <th>2</th>\n",
              "      <td>71.20</td>\n",
              "      <td>96.73</td>\n",
              "    </tr>\n",
              "    <tr>\n",
              "      <th>3</th>\n",
              "      <td>55.89</td>\n",
              "      <td>74.06</td>\n",
              "    </tr>\n",
              "    <tr>\n",
              "      <th>4</th>\n",
              "      <td>65.52</td>\n",
              "      <td>82.61</td>\n",
              "    </tr>\n",
              "  </tbody>\n",
              "</table>\n",
              "</div>"
            ],
            "text/plain": [
              "    Math  English\n",
              "0  60.02    88.24\n",
              "1  70.19    89.45\n",
              "2  71.20    96.73\n",
              "3  55.89    74.06\n",
              "4  65.52    82.61"
            ]
          },
          "metadata": {},
          "execution_count": 82
        }
      ]
    },
    {
      "cell_type": "markdown",
      "metadata": {
        "id": "XfK62RdRHvtS"
      },
      "source": [
        "⭐Conduct the significance test. Use *scipy.stats.ttest_rel*"
      ]
    },
    {
      "cell_type": "code",
      "metadata": {
        "colab": {
          "base_uri": "https://localhost:8080/"
        },
        "id": "m1KXoiGnHvtS",
        "outputId": "8b440494-8b35-443d-9beb-25e40363bb0d"
      },
      "source": [
        "stats.ttest_rel(pairset.Math, pairset.English)"
      ],
      "execution_count": 83,
      "outputs": [
        {
          "output_type": "execute_result",
          "data": {
            "text/plain": [
              "Ttest_relResult(statistic=-36.312568981719856, pvalue=3.0710987192210606e-128)"
            ]
          },
          "metadata": {},
          "execution_count": 83
        }
      ]
    },
    {
      "cell_type": "code",
      "metadata": {
        "colab": {
          "base_uri": "https://localhost:8080/"
        },
        "id": "P386kX_THvtS",
        "outputId": "3ee92431-d938-421a-9af1-7e68ca56a41f"
      },
      "source": [
        "pairedtest = stats.ttest_rel(pairset.Math, pairset.English)\n",
        "\n",
        "alpha = 0.05\n",
        "p_value = pairedtest.pvalue\n",
        "\n",
        "if p_value<alpha:\n",
        "    print('At {} level of significance, we can reject the null hypothesis in favor of the alternative hypothesis.'.format(alpha))\n",
        "else:\n",
        "    print('At {} level of significance, we fail to reject the null hypothesis.'.format(alpha))"
      ],
      "execution_count": 84,
      "outputs": [
        {
          "output_type": "stream",
          "name": "stdout",
          "text": [
            "At 0.05 level of significance, we can reject the null hypothesis in favor of the alternative hypothesis.\n"
          ]
        }
      ]
    },
    {
      "cell_type": "markdown",
      "metadata": {
        "id": "6amUUhS5HvtS"
      },
      "source": [
        "⭐Compute pairwise correlation of sections (English, Reading, Math, and Writing), excluding NA/null values."
      ]
    },
    {
      "cell_type": "code",
      "metadata": {
        "colab": {
          "base_uri": "https://localhost:8080/",
          "height": 206
        },
        "id": "5mjyPHcVHvtS",
        "outputId": "9592862e-48a6-423d-b774-b521969c0673"
      },
      "source": [
        "sections = [\"Math\", \"English\", \"Reading\", \"Writing\"]\n",
        "\n",
        "sectionset = survey[sections].dropna()\n",
        "\n",
        "sectionset.head()"
      ],
      "execution_count": 85,
      "outputs": [
        {
          "output_type": "execute_result",
          "data": {
            "text/html": [
              "<div>\n",
              "<style scoped>\n",
              "    .dataframe tbody tr th:only-of-type {\n",
              "        vertical-align: middle;\n",
              "    }\n",
              "\n",
              "    .dataframe tbody tr th {\n",
              "        vertical-align: top;\n",
              "    }\n",
              "\n",
              "    .dataframe thead th {\n",
              "        text-align: right;\n",
              "    }\n",
              "</style>\n",
              "<table border=\"1\" class=\"dataframe\">\n",
              "  <thead>\n",
              "    <tr style=\"text-align: right;\">\n",
              "      <th></th>\n",
              "      <th>Math</th>\n",
              "      <th>English</th>\n",
              "      <th>Reading</th>\n",
              "      <th>Writing</th>\n",
              "    </tr>\n",
              "  </thead>\n",
              "  <tbody>\n",
              "    <tr>\n",
              "      <th>0</th>\n",
              "      <td>60.02</td>\n",
              "      <td>88.24</td>\n",
              "      <td>81.50</td>\n",
              "      <td>81.44</td>\n",
              "    </tr>\n",
              "    <tr>\n",
              "      <th>1</th>\n",
              "      <td>70.19</td>\n",
              "      <td>89.45</td>\n",
              "      <td>85.25</td>\n",
              "      <td>73.27</td>\n",
              "    </tr>\n",
              "    <tr>\n",
              "      <th>2</th>\n",
              "      <td>71.20</td>\n",
              "      <td>96.73</td>\n",
              "      <td>86.88</td>\n",
              "      <td>84.24</td>\n",
              "    </tr>\n",
              "    <tr>\n",
              "      <th>3</th>\n",
              "      <td>55.89</td>\n",
              "      <td>74.06</td>\n",
              "      <td>88.68</td>\n",
              "      <td>73.16</td>\n",
              "    </tr>\n",
              "    <tr>\n",
              "      <th>4</th>\n",
              "      <td>65.52</td>\n",
              "      <td>82.61</td>\n",
              "      <td>77.30</td>\n",
              "      <td>80.45</td>\n",
              "    </tr>\n",
              "  </tbody>\n",
              "</table>\n",
              "</div>"
            ],
            "text/plain": [
              "    Math  English  Reading  Writing\n",
              "0  60.02    88.24    81.50    81.44\n",
              "1  70.19    89.45    85.25    73.27\n",
              "2  71.20    96.73    86.88    84.24\n",
              "3  55.89    74.06    88.68    73.16\n",
              "4  65.52    82.61    77.30    80.45"
            ]
          },
          "metadata": {},
          "execution_count": 85
        }
      ]
    },
    {
      "cell_type": "code",
      "metadata": {
        "id": "MiEJqb1SHvtS"
      },
      "source": [
        ""
      ],
      "execution_count": null,
      "outputs": []
    },
    {
      "cell_type": "markdown",
      "metadata": {
        "id": "mjWhz3iKHvtT"
      },
      "source": [
        "# One-way ANOVA"
      ]
    },
    {
      "cell_type": "markdown",
      "metadata": {
        "id": "rOO4-6qpHvtT"
      },
      "source": [
        "In the sample dataset, the variable Sprint is the respondent's time (in seconds) to sprint a given distance, and Smoking is an indicator about whether or not the respondent smokes (0 = Nonsmoker, 1 = Past smoker, 2 = Current smoker). Let's use ANOVA to test if there is a statistically significant difference in sprint time with respect to smoking status. Sprint time will serve as the dependent variable, and smoking status will act as the independent variable."
      ]
    },
    {
      "cell_type": "markdown",
      "metadata": {
        "id": "tX9S-fEzHvtT"
      },
      "source": [
        "The null and alternative hypotheses of one-way ANOVA can be expressed as:\n",
        "\n",
        "H0: µ1 = µ2 = µ3  = ...   = µk   (\"all k population means are equal\")\n",
        "\n",
        "H1: At least one µi different  (\"at least one of the k population means is not equal to the others\")"
      ]
    },
    {
      "cell_type": "code",
      "metadata": {
        "id": "-RBG_c1FHvtT"
      },
      "source": [
        ""
      ],
      "execution_count": null,
      "outputs": []
    },
    {
      "cell_type": "code",
      "metadata": {
        "id": "LGR57wwfHvtT"
      },
      "source": [
        ""
      ],
      "execution_count": null,
      "outputs": []
    },
    {
      "cell_type": "code",
      "metadata": {
        "id": "xks2IVQSHvtU"
      },
      "source": [
        ""
      ],
      "execution_count": null,
      "outputs": []
    },
    {
      "cell_type": "code",
      "metadata": {
        "id": "Ip1Y6ht1HvtW"
      },
      "source": [
        ""
      ],
      "execution_count": null,
      "outputs": []
    },
    {
      "cell_type": "code",
      "metadata": {
        "id": "lxQmqrs1HvtX"
      },
      "source": [
        ""
      ],
      "execution_count": null,
      "outputs": []
    },
    {
      "cell_type": "code",
      "metadata": {
        "id": "iZBUrbKYHvtX"
      },
      "source": [
        ""
      ],
      "execution_count": null,
      "outputs": []
    },
    {
      "cell_type": "markdown",
      "metadata": {
        "id": "T8TRi42OHvtY"
      },
      "source": [
        "⭐Descriptive for each group"
      ]
    },
    {
      "cell_type": "code",
      "metadata": {
        "id": "XemWg2h9HvtY"
      },
      "source": [
        ""
      ],
      "execution_count": null,
      "outputs": []
    },
    {
      "cell_type": "code",
      "metadata": {
        "id": "JppxV0NsHvtY"
      },
      "source": [
        ""
      ],
      "execution_count": null,
      "outputs": []
    },
    {
      "cell_type": "markdown",
      "metadata": {
        "id": "R0GSNw8NHvtZ"
      },
      "source": [
        "⭐Check normality assumption for each group"
      ]
    },
    {
      "cell_type": "code",
      "metadata": {
        "id": "Xr7-pKrYHvtZ"
      },
      "source": [
        "stat, p = \n",
        "\n",
        "print('Statistics=%.3f, p=%.3f' % (stat, p))\n",
        "# interpret\n",
        "alpha = 0.05\n",
        "if p > alpha:\n",
        "\tprint('Sample looks Gaussian (fail to reject H0)')\n",
        "else:\n",
        "\tprint('Sample does not look Gaussian (reject H0)')"
      ],
      "execution_count": null,
      "outputs": []
    },
    {
      "cell_type": "markdown",
      "metadata": {
        "id": "szh2UYxiHvtZ"
      },
      "source": [
        "⭐Run One-way ANOVA. *Use scipy.stats.f_oneway*"
      ]
    },
    {
      "cell_type": "markdown",
      "metadata": {
        "id": "bCmdgCSeHvtZ"
      },
      "source": [
        "H0: µ1 = µ2 = µ3  = ...   = µk   (\"all k population means are equal\")\n",
        "\n",
        "H1: At least one µi different  (\"at least one of the k population means is not equal to the others\")"
      ]
    },
    {
      "cell_type": "code",
      "metadata": {
        "id": "_coyUfAvHvta"
      },
      "source": [
        ""
      ],
      "execution_count": null,
      "outputs": []
    },
    {
      "cell_type": "code",
      "metadata": {
        "id": "CnzddRXaHvta"
      },
      "source": [
        "anova = \n",
        "\n",
        "alpha = 0.05\n",
        "p_value = anova.pvalue\n",
        "\n",
        "if p_value<alpha:\n",
        "    print('At {} level of significance, we can reject the null hypothesis in favor of the alternative hypothesis.'.format(alpha))\n",
        "else:\n",
        "    print('At {} level of significance, we fail to reject the null hypothesis.'.format(alpha))"
      ],
      "execution_count": null,
      "outputs": []
    }
  ]
}