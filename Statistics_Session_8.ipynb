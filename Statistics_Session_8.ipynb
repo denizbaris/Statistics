{
  "nbformat": 4,
  "nbformat_minor": 0,
  "metadata": {
    "colab": {
      "name": "Statistics_Session_8.ipynb",
      "provenance": [],
      "authorship_tag": "ABX9TyNChIOcZTcJQvtLlw4TyFX4",
      "include_colab_link": true
    },
    "kernelspec": {
      "name": "python3",
      "display_name": "Python 3"
    },
    "language_info": {
      "name": "python"
    }
  },
  "cells": [
    {
      "cell_type": "markdown",
      "metadata": {
        "id": "view-in-github",
        "colab_type": "text"
      },
      "source": [
        "<a href=\"https://colab.research.google.com/github/denizbaris/Statistics/blob/main/Statistics_Session_8.ipynb\" target=\"_parent\"><img src=\"https://colab.research.google.com/assets/colab-badge.svg\" alt=\"Open In Colab\"/></a>"
      ]
    },
    {
      "cell_type": "code",
      "metadata": {
        "id": "45Rl0hWLhSog"
      },
      "source": [
        "import numpy as np \n",
        "import pandas as pd\n",
        "import seaborn as sns\n",
        "import matplotlib.pyplot as plt\n",
        "from collections import Counter\n",
        "from scipy import stats\n",
        "import warnings\n",
        "warnings.filterwarnings('ignore')"
      ],
      "execution_count": 2,
      "outputs": []
    },
    {
      "cell_type": "code",
      "metadata": {
        "id": "EiSsUI9RhbEw"
      },
      "source": [
        "n = 5\n",
        "p = 1/6\n",
        "x = 2\n"
      ],
      "execution_count": 6,
      "outputs": []
    },
    {
      "cell_type": "code",
      "metadata": {
        "colab": {
          "base_uri": "https://localhost:8080/"
        },
        "id": "OhcJDexIjkJq",
        "outputId": "c90c7cd9-450a-481a-ec52-0d042728f4ce"
      },
      "source": [
        "stats.binom.pmf(x , n , p)"
      ],
      "execution_count": 8,
      "outputs": [
        {
          "output_type": "execute_result",
          "data": {
            "text/plain": [
              "0.16075102880658435"
            ]
          },
          "metadata": {},
          "execution_count": 8
        }
      ]
    },
    {
      "cell_type": "code",
      "metadata": {
        "id": "YVhjp5hjjoM-"
      },
      "source": [
        "mu = 850\n",
        "std = 100\n",
        "x = 940"
      ],
      "execution_count": 9,
      "outputs": []
    },
    {
      "cell_type": "code",
      "metadata": {
        "colab": {
          "base_uri": "https://localhost:8080/"
        },
        "id": "_m56K2b1juT2",
        "outputId": "361d217f-76f2-4ec4-f21a-de1bddf416aa"
      },
      "source": [
        "1  - stats.norm.cdf(x, mu , std)  #normal dagilimda buyuk ve buyuk esittir ayni seylerdir"
      ],
      "execution_count": 11,
      "outputs": [
        {
          "output_type": "execute_result",
          "data": {
            "text/plain": [
              "0.18406012534675953"
            ]
          },
          "metadata": {},
          "execution_count": 11
        }
      ]
    },
    {
      "cell_type": "code",
      "metadata": {
        "id": "fGCz5elwlezZ"
      },
      "source": [
        "mu = 16\n",
        "std = 6\n",
        "x = 2"
      ],
      "execution_count": 14,
      "outputs": []
    },
    {
      "cell_type": "code",
      "metadata": {
        "colab": {
          "base_uri": "https://localhost:8080/"
        },
        "id": "lNdGp7zCmWcz",
        "outputId": "2e90bb74-79f2-43d8-d195-5a46a90e1982"
      },
      "source": [
        "stats.norm.cdf(x, mu , std)"
      ],
      "execution_count": 15,
      "outputs": [
        {
          "output_type": "execute_result",
          "data": {
            "text/plain": [
              "0.009815328628645334"
            ]
          },
          "metadata": {},
          "execution_count": 15
        }
      ]
    },
    {
      "cell_type": "code",
      "metadata": {
        "id": "xqtYOFVWmYYy"
      },
      "source": [
        "lamda = 12"
      ],
      "execution_count": 16,
      "outputs": []
    },
    {
      "cell_type": "code",
      "metadata": {
        "colab": {
          "base_uri": "https://localhost:8080/"
        },
        "id": "uMQxk8Gmm-9p",
        "outputId": "8f80abb4-4d11-48d3-81bc-f9b6a6f38673"
      },
      "source": [
        "stats.poisson.pmf(14 , lamda)"
      ],
      "execution_count": 17,
      "outputs": [
        {
          "output_type": "execute_result",
          "data": {
            "text/plain": [
              "0.090488900183298"
            ]
          },
          "metadata": {},
          "execution_count": 17
        }
      ]
    },
    {
      "cell_type": "code",
      "metadata": {
        "id": "gumHimuAnC1q"
      },
      "source": [
        ""
      ],
      "execution_count": null,
      "outputs": []
    }
  ]
}