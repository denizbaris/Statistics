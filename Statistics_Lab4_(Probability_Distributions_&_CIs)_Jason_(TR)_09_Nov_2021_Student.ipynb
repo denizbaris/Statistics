{
  "nbformat": 4,
  "nbformat_minor": 0,
  "metadata": {
    "kernelspec": {
      "display_name": "Python 3",
      "language": "python",
      "name": "python3"
    },
    "language_info": {
      "codemirror_mode": {
        "name": "ipython",
        "version": 3
      },
      "file_extension": ".py",
      "mimetype": "text/x-python",
      "name": "python",
      "nbconvert_exporter": "python",
      "pygments_lexer": "ipython3",
      "version": "3.7.11"
    },
    "colab": {
      "name": "Statistics_Lab4_(Probability Distributions & CIs)_Jason_(TR)_09_Nov_2021-Student.ipynb",
      "provenance": [],
      "include_colab_link": true
    }
  },
  "cells": [
    {
      "cell_type": "markdown",
      "metadata": {
        "id": "view-in-github",
        "colab_type": "text"
      },
      "source": [
        "<a href=\"https://colab.research.google.com/github/denizbaris/Statistics/blob/main/Statistics_Lab4_(Probability_Distributions_%26_CIs)_Jason_(TR)_09_Nov_2021_Student.ipynb\" target=\"_parent\"><img src=\"https://colab.research.google.com/assets/colab-badge.svg\" alt=\"Open In Colab\"/></a>"
      ]
    },
    {
      "cell_type": "code",
      "metadata": {
        "id": "VZI5dzjqrrrk"
      },
      "source": [
        "import numpy as np\n",
        "from scipy import stats\n",
        "import matplotlib.pyplot as plt\n",
        "import seaborn as sns"
      ],
      "execution_count": 1,
      "outputs": []
    },
    {
      "cell_type": "markdown",
      "metadata": {
        "id": "gMEeRQ7Jrrro"
      },
      "source": [
        "## Normal Distribution\n",
        "*Source: Wackerly, D., Mendenhall, W., & Scheaffer, R. L. (2014). Mathematical statistics with applications. Cengage Learning.*"
      ]
    },
    {
      "cell_type": "markdown",
      "metadata": {
        "id": "yeIXOrZhrrrt"
      },
      "source": [
        "**Exercise 4.74**\n",
        "\n",
        "Scores on an examination are assumed to be normally distributed with mean 78 and variance 36."
      ]
    },
    {
      "cell_type": "markdown",
      "metadata": {
        "id": "mOIoij1Srrru"
      },
      "source": [
        "a. What is the probability that a person taking the examination scores higher than 72?"
      ]
    },
    {
      "cell_type": "markdown",
      "metadata": {
        "id": "nWeR8p_Yrrrv"
      },
      "source": [
        "this is P(X>72)"
      ]
    },
    {
      "cell_type": "code",
      "metadata": {
        "id": "pFYeaBZkrrrw"
      },
      "source": [
        "mu = 78\n",
        "sigma = np.sqrt(36)\n",
        "x = 72"
      ],
      "execution_count": 3,
      "outputs": []
    },
    {
      "cell_type": "code",
      "metadata": {
        "colab": {
          "base_uri": "https://localhost:8080/"
        },
        "id": "4N1b9COVrrry",
        "outputId": "f7d81c42-b565-41cd-8dea-27519a9bcdef"
      },
      "source": [
        "stats.norm.cdf(x, mu, sigma)"
      ],
      "execution_count": 4,
      "outputs": [
        {
          "output_type": "execute_result",
          "data": {
            "text/plain": [
              "0.15865525393145707"
            ]
          },
          "metadata": {},
          "execution_count": 4
        }
      ]
    },
    {
      "cell_type": "markdown",
      "metadata": {
        "id": "wIWVi8wArrr0"
      },
      "source": [
        "b. Suppose that students scoring in the top 10% of this distribution are to receive an **A** grade.\n",
        "What is the minimum score a student must achieve to earn an **A** grade?"
      ]
    },
    {
      "cell_type": "code",
      "metadata": {
        "colab": {
          "base_uri": "https://localhost:8080/"
        },
        "id": "Z58klwTYrrr1",
        "outputId": "6873b89b-1813-4977-e159-8ef6f1bb0789"
      },
      "source": [
        "q = 1 - 0.1\n",
        "q"
      ],
      "execution_count": 5,
      "outputs": [
        {
          "output_type": "execute_result",
          "data": {
            "text/plain": [
              "0.9"
            ]
          },
          "metadata": {},
          "execution_count": 5
        }
      ]
    },
    {
      "cell_type": "code",
      "metadata": {
        "colab": {
          "base_uri": "https://localhost:8080/"
        },
        "id": "gfkuuCEXrrr3",
        "outputId": "49127df5-4aac-49f0-fa12-5737ec81fba2"
      },
      "source": [
        "stats.norm.ppf(q, loc = mu , scale = sigma)"
      ],
      "execution_count": 6,
      "outputs": [
        {
          "output_type": "execute_result",
          "data": {
            "text/plain": [
              "85.6893093932676"
            ]
          },
          "metadata": {},
          "execution_count": 6
        }
      ]
    },
    {
      "cell_type": "code",
      "metadata": {
        "id": "Cb_uOTr1rrr4"
      },
      "source": [
        ""
      ],
      "execution_count": null,
      "outputs": []
    },
    {
      "cell_type": "markdown",
      "metadata": {
        "id": "OYdCz5Ofrrr-"
      },
      "source": [
        "c. What must be the cutoff point for passing the examination if the examiner wants only the\n",
        "top 28.1% of all scores to be passing?"
      ]
    },
    {
      "cell_type": "code",
      "metadata": {
        "id": "3UnF0OGtrrsB"
      },
      "source": [
        "q = 1-0.281"
      ],
      "execution_count": 7,
      "outputs": []
    },
    {
      "cell_type": "code",
      "metadata": {
        "colab": {
          "base_uri": "https://localhost:8080/"
        },
        "id": "8qs6QNLUrrsE",
        "outputId": "4905ec4c-c801-4c77-9a48-1f28d2a5999c"
      },
      "source": [
        "stats.norm.ppf(q, mu, sigma)"
      ],
      "execution_count": 8,
      "outputs": [
        {
          "output_type": "execute_result",
          "data": {
            "text/plain": [
              "81.47924035456623"
            ]
          },
          "metadata": {},
          "execution_count": 8
        }
      ]
    },
    {
      "cell_type": "markdown",
      "metadata": {
        "id": "syjhNAkorrsF"
      },
      "source": [
        "d. Approximately what proportion of students have scores 5 or more points above the score\n",
        "that cuts off the lowest 25%?"
      ]
    },
    {
      "cell_type": "code",
      "metadata": {
        "colab": {
          "base_uri": "https://localhost:8080/"
        },
        "id": "ddXv53POrrsG",
        "outputId": "a4bc6772-78c1-4e97-840b-adefe0f85e13"
      },
      "source": [
        "q1 = 0.25                     #siniftaki en az alan %25 lik kismi bul ve buna karsilik gelen deger x1, olasiliktan random variable'a gittigim icin ppf'i kullanicam\n",
        "x1 = stats.norm.ppf(q1, mu, sigma)  #soruda diyor ki 73.95 den yuksek alanlarin orani==== 1-cdf\n",
        "x1"
      ],
      "execution_count": 9,
      "outputs": [
        {
          "output_type": "execute_result",
          "data": {
            "text/plain": [
              "73.95306149882352"
            ]
          },
          "metadata": {},
          "execution_count": 9
        }
      ]
    },
    {
      "cell_type": "code",
      "metadata": {
        "colab": {
          "base_uri": "https://localhost:8080/"
        },
        "id": "S_QYWexfrrsH",
        "outputId": "2d2ff8ee-5db5-4007-8930-cdb422495582"
      },
      "source": [
        "1 - stats.norm.cdf(x1+5, mu, sigma)"
      ],
      "execution_count": 11,
      "outputs": [
        {
          "output_type": "execute_result",
          "data": {
            "text/plain": [
              "0.43689605516226615"
            ]
          },
          "metadata": {},
          "execution_count": 11
        }
      ]
    },
    {
      "cell_type": "markdown",
      "metadata": {
        "id": "SC4UXa8errsK"
      },
      "source": [
        "*OPTIONAL*\n",
        "\n",
        "f. If it is known that a student’s score exceeds 72, what is the probability that his or her score\n",
        "exceeds 84? "
      ]
    },
    {
      "cell_type": "code",
      "metadata": {
        "id": "jJMLT6ulrrsh"
      },
      "source": [
        ""
      ],
      "execution_count": null,
      "outputs": []
    },
    {
      "cell_type": "markdown",
      "metadata": {
        "id": "FLmZbTEhrrsh"
      },
      "source": [
        "## t Distribution\n",
        "*Lane, D. (2006). Online statistics education: a multimedia course of study (http://onlinestatbook.com/). Rice University.*"
      ]
    },
    {
      "cell_type": "markdown",
      "metadata": {
        "id": "vGrMT73Qrrsi"
      },
      "source": [
        "For a t distribution with 15 degrees of freedom, 90% of the distribution is within how many standard deviations of the mean?"
      ]
    },
    {
      "cell_type": "code",
      "metadata": {
        "id": "CI3y0YWFrrsj"
      },
      "source": [
        "dof = 15                                             #orneklem sayisi - 1 ##populasyonun sigmasini(standart sapmasi) bilmiyorsan 30'dan kucuk samplelarda t dist kullaniyoruz\n",
        "q = 0.95"
      ],
      "execution_count": 12,
      "outputs": []
    },
    {
      "cell_type": "code",
      "metadata": {
        "colab": {
          "base_uri": "https://localhost:8080/"
        },
        "id": "n7yXSyj4rrsj",
        "outputId": "b7bd86ce-884f-4a20-ed6c-ce6263370063"
      },
      "source": [
        "stats.t.ppf(q, dof)"
      ],
      "execution_count": 13,
      "outputs": [
        {
          "output_type": "execute_result",
          "data": {
            "text/plain": [
              "1.7530503556925547"
            ]
          },
          "metadata": {},
          "execution_count": 13
        }
      ]
    },
    {
      "cell_type": "code",
      "metadata": {
        "colab": {
          "base_uri": "https://localhost:8080/",
          "height": 500
        },
        "id": "dp43_iZOrrsk",
        "outputId": "352aa82f-9cd9-4b93-c07d-f07bc22dbe78"
      },
      "source": [
        "plt.figure(figsize=(12,8))    \n",
        "xs = np.linspace(-5,5,1000)\n",
        "\n",
        "plt.plot(xs, stats.t.pdf(xs, 1), \"b\", label=\"t (df=1)\")  #df i 1 ,3, 15 olan bir dagilim cizdirelim simdi\n",
        "plt.plot(xs, stats.t.pdf(xs, 3), \"g\", label=\"t (df=3)\")\n",
        "plt.plot(xs, stats.t.pdf(xs, 8), \"c\", label=\"t (df=8)\")\n",
        "plt.plot(xs, stats.t.pdf(xs, 15), \"m\", label=\"t (df=15)\")\n",
        "plt.plot(xs, stats.norm.pdf(xs), \"k\", label=\"t (normal)\")\n",
        "plt.legend()\n",
        "\n",
        "plt.show"
      ],
      "execution_count": 20,
      "outputs": [
        {
          "output_type": "execute_result",
          "data": {
            "text/plain": [
              "<function matplotlib.pyplot.show>"
            ]
          },
          "metadata": {},
          "execution_count": 20
        },
        {
          "output_type": "display_data",
          "data": {
            "image/png": "[encoded data removed]",
            "text/plain": [
              "<Figure size 864x576 with 1 Axes>"
            ]
          },
          "metadata": {
            "needs_background": "light"
          }
        }
      ]
    },
    {
      "cell_type": "markdown",
      "metadata": {
        "id": "59iyW99Qrrsk"
      },
      "source": [
        "## Confidence Intervals Using the Normal Distribution"
      ]
    },
    {
      "cell_type": "markdown",
      "metadata": {
        "id": "pyIwCD9arrsl"
      },
      "source": [
        "If we’re working with larger samples (n≥30), we can assume that the sampling distribution of the sample mean is normally distributed (thanks to the Central Limit Theorem) and can instead use the norm.interval() function from the scipy.stats library."
      ]
    },
    {
      "cell_type": "code",
      "metadata": {
        "id": "k7mzdUUMrrsm"
      },
      "source": [
        "import seaborn as sns"
      ],
      "execution_count": 21,
      "outputs": []
    },
    {
      "cell_type": "code",
      "metadata": {
        "colab": {
          "base_uri": "https://localhost:8080/"
        },
        "id": "Xw0dBFgjrrsm",
        "outputId": "a16291fb-97a9-49ea-a308-fdbe155f8202"
      },
      "source": [
        "sns.get_dataset_names()"
      ],
      "execution_count": 22,
      "outputs": [
        {
          "output_type": "execute_result",
          "data": {
            "text/plain": [
              "['anagrams',\n",
              " 'anscombe',\n",
              " 'attention',\n",
              " 'brain_networks',\n",
              " 'car_crashes',\n",
              " 'diamonds',\n",
              " 'dots',\n",
              " 'exercise',\n",
              " 'flights',\n",
              " 'fmri',\n",
              " 'gammas',\n",
              " 'geyser',\n",
              " 'iris',\n",
              " 'mpg',\n",
              " 'penguins',\n",
              " 'planets',\n",
              " 'taxis',\n",
              " 'tips',\n",
              " 'titanic']"
            ]
          },
          "metadata": {},
          "execution_count": 22
        }
      ]
    },
    {
      "cell_type": "markdown",
      "metadata": {
        "id": "hPlAwvjrrrsn"
      },
      "source": [
        "1. Load \"tips\" dataset from Seaborn library"
      ]
    },
    {
      "cell_type": "code",
      "metadata": {
        "colab": {
          "base_uri": "https://localhost:8080/",
          "height": 142
        },
        "id": "e8jFamGKrrso",
        "outputId": "a8bfb873-7154-4885-ebe8-d19ec6cb4ba7"
      },
      "source": [
        "tips = sns.load_dataset(\"tips\")\n",
        "tips.head(3)"
      ],
      "execution_count": 23,
      "outputs": [
        {
          "output_type": "execute_result",
          "data": {
            "text/html": [
              "<div>\n",
              "<style scoped>\n",
              "    .dataframe tbody tr th:only-of-type {\n",
              "        vertical-align: middle;\n",
              "    }\n",
              "\n",
              "    .dataframe tbody tr th {\n",
              "        vertical-align: top;\n",
              "    }\n",
              "\n",
              "    .dataframe thead th {\n",
              "        text-align: right;\n",
              "    }\n",
              "</style>\n",
              "<table border=\"1\" class=\"dataframe\">\n",
              "  <thead>\n",
              "    <tr style=\"text-align: right;\">\n",
              "      <th></th>\n",
              "      <th>total_bill</th>\n",
              "      <th>tip</th>\n",
              "      <th>sex</th>\n",
              "      <th>smoker</th>\n",
              "      <th>day</th>\n",
              "      <th>time</th>\n",
              "      <th>size</th>\n",
              "    </tr>\n",
              "  </thead>\n",
              "  <tbody>\n",
              "    <tr>\n",
              "      <th>0</th>\n",
              "      <td>16.99</td>\n",
              "      <td>1.01</td>\n",
              "      <td>Female</td>\n",
              "      <td>No</td>\n",
              "      <td>Sun</td>\n",
              "      <td>Dinner</td>\n",
              "      <td>2</td>\n",
              "    </tr>\n",
              "    <tr>\n",
              "      <th>1</th>\n",
              "      <td>10.34</td>\n",
              "      <td>1.66</td>\n",
              "      <td>Male</td>\n",
              "      <td>No</td>\n",
              "      <td>Sun</td>\n",
              "      <td>Dinner</td>\n",
              "      <td>3</td>\n",
              "    </tr>\n",
              "    <tr>\n",
              "      <th>2</th>\n",
              "      <td>21.01</td>\n",
              "      <td>3.50</td>\n",
              "      <td>Male</td>\n",
              "      <td>No</td>\n",
              "      <td>Sun</td>\n",
              "      <td>Dinner</td>\n",
              "      <td>3</td>\n",
              "    </tr>\n",
              "  </tbody>\n",
              "</table>\n",
              "</div>"
            ],
            "text/plain": [
              "   total_bill   tip     sex smoker  day    time  size\n",
              "0       16.99  1.01  Female     No  Sun  Dinner     2\n",
              "1       10.34  1.66    Male     No  Sun  Dinner     3\n",
              "2       21.01  3.50    Male     No  Sun  Dinner     3"
            ]
          },
          "metadata": {},
          "execution_count": 23
        }
      ]
    },
    {
      "cell_type": "markdown",
      "metadata": {
        "id": "5YlEL4RFrrso"
      },
      "source": [
        "2. Draw a set of vertical bar plots (based on \"total_bill\") grouped by \"day\" variable:"
      ]
    },
    {
      "cell_type": "code",
      "metadata": {
        "colab": {
          "base_uri": "https://localhost:8080/",
          "height": 280
        },
        "id": "wPh2gQq9rrsp",
        "outputId": "cccf56d0-110d-4218-baad-9449bb144220"
      },
      "source": [
        "sns.barplot(x=tips.total_bill, y=tips.day);"
      ],
      "execution_count": 25,
      "outputs": [
        {
          "output_type": "display_data",
          "data": {
            "image/png": "[encoded data removed]",
            "text/plain": [
              "<Figure size 432x288 with 1 Axes>"
            ]
          },
          "metadata": {
            "needs_background": "light"
          }
        }
      ]
    },
    {
      "cell_type": "markdown",
      "metadata": {
        "id": "eE6Aseaxrrsp"
      },
      "source": [
        "3. Subset a dataframe just including Sunday tips"
      ]
    },
    {
      "cell_type": "code",
      "metadata": {
        "colab": {
          "base_uri": "https://localhost:8080/",
          "height": 142
        },
        "id": "Tb1DppdPrrsq",
        "outputId": "d4edb205-3197-4b43-bee7-68d7beda3800"
      },
      "source": [
        "tipsSun = tips[tips[\"day\"] == \"Sun\"]\n",
        "tipsSun.head(3)"
      ],
      "execution_count": 26,
      "outputs": [
        {
          "output_type": "execute_result",
          "data": {
            "text/html": [
              "<div>\n",
              "<style scoped>\n",
              "    .dataframe tbody tr th:only-of-type {\n",
              "        vertical-align: middle;\n",
              "    }\n",
              "\n",
              "    .dataframe tbody tr th {\n",
              "        vertical-align: top;\n",
              "    }\n",
              "\n",
              "    .dataframe thead th {\n",
              "        text-align: right;\n",
              "    }\n",
              "</style>\n",
              "<table border=\"1\" class=\"dataframe\">\n",
              "  <thead>\n",
              "    <tr style=\"text-align: right;\">\n",
              "      <th></th>\n",
              "      <th>total_bill</th>\n",
              "      <th>tip</th>\n",
              "      <th>sex</th>\n",
              "      <th>smoker</th>\n",
              "      <th>day</th>\n",
              "      <th>time</th>\n",
              "      <th>size</th>\n",
              "    </tr>\n",
              "  </thead>\n",
              "  <tbody>\n",
              "    <tr>\n",
              "      <th>0</th>\n",
              "      <td>16.99</td>\n",
              "      <td>1.01</td>\n",
              "      <td>Female</td>\n",
              "      <td>No</td>\n",
              "      <td>Sun</td>\n",
              "      <td>Dinner</td>\n",
              "      <td>2</td>\n",
              "    </tr>\n",
              "    <tr>\n",
              "      <th>1</th>\n",
              "      <td>10.34</td>\n",
              "      <td>1.66</td>\n",
              "      <td>Male</td>\n",
              "      <td>No</td>\n",
              "      <td>Sun</td>\n",
              "      <td>Dinner</td>\n",
              "      <td>3</td>\n",
              "    </tr>\n",
              "    <tr>\n",
              "      <th>2</th>\n",
              "      <td>21.01</td>\n",
              "      <td>3.50</td>\n",
              "      <td>Male</td>\n",
              "      <td>No</td>\n",
              "      <td>Sun</td>\n",
              "      <td>Dinner</td>\n",
              "      <td>3</td>\n",
              "    </tr>\n",
              "  </tbody>\n",
              "</table>\n",
              "</div>"
            ],
            "text/plain": [
              "   total_bill   tip     sex smoker  day    time  size\n",
              "0       16.99  1.01  Female     No  Sun  Dinner     2\n",
              "1       10.34  1.66    Male     No  Sun  Dinner     3\n",
              "2       21.01  3.50    Male     No  Sun  Dinner     3"
            ]
          },
          "metadata": {},
          "execution_count": 26
        }
      ]
    },
    {
      "cell_type": "markdown",
      "metadata": {
        "id": "LE3g5JLWrrsr"
      },
      "source": [
        "4. Calculate mean and std"
      ]
    },
    {
      "cell_type": "code",
      "metadata": {
        "colab": {
          "base_uri": "https://localhost:8080/"
        },
        "id": "vLSmhrL-rrsv",
        "outputId": "6933a145-ac0b-4b9a-a49a-1ebff98fa114"
      },
      "source": [
        "tipsSun[\"total_bill\"].mean()"
      ],
      "execution_count": 27,
      "outputs": [
        {
          "output_type": "execute_result",
          "data": {
            "text/plain": [
              "21.410000000000004"
            ]
          },
          "metadata": {},
          "execution_count": 27
        }
      ]
    },
    {
      "cell_type": "code",
      "metadata": {
        "colab": {
          "base_uri": "https://localhost:8080/"
        },
        "id": "_rl_iW6Vrrsw",
        "outputId": "292759d1-bc54-4b76-83d0-987d340e1685"
      },
      "source": [
        "tipsSun[\"total_bill\"].std()"
      ],
      "execution_count": 28,
      "outputs": [
        {
          "output_type": "execute_result",
          "data": {
            "text/plain": [
              "8.832121828869889"
            ]
          },
          "metadata": {},
          "execution_count": 28
        }
      ]
    },
    {
      "cell_type": "markdown",
      "metadata": {
        "id": "sJc9WoMhrrsw"
      },
      "source": [
        "5. Calculate standart error of the mean"
      ]
    },
    {
      "cell_type": "code",
      "metadata": {
        "id": "3vgOL8Swrrsx"
      },
      "source": [
        "sem = tipsSun[\"total_bill\"].std() / np.sqrt(len(tipsSun))"
      ],
      "execution_count": 29,
      "outputs": []
    },
    {
      "cell_type": "code",
      "metadata": {
        "colab": {
          "base_uri": "https://localhost:8080/"
        },
        "id": "2Sbp3LTPrrsx",
        "outputId": "67bef7fa-6905-431f-8280-db9258e80ccd"
      },
      "source": [
        "sem"
      ],
      "execution_count": 30,
      "outputs": [
        {
          "output_type": "execute_result",
          "data": {
            "text/plain": [
              "1.0131138555021968"
            ]
          },
          "metadata": {},
          "execution_count": 30
        }
      ]
    },
    {
      "cell_type": "markdown",
      "metadata": {
        "id": "SXugHymMrrsx"
      },
      "source": [
        "6. Calculate the margin of error (95%)"
      ]
    },
    {
      "cell_type": "code",
      "metadata": {
        "id": "g5nWv8jDrrsy"
      },
      "source": [
        "moe = z * sem"
      ],
      "execution_count": null,
      "outputs": []
    },
    {
      "cell_type": "code",
      "metadata": {
        "id": "SlEecMnDrrsy"
      },
      "source": [
        "moe"
      ],
      "execution_count": null,
      "outputs": []
    },
    {
      "cell_type": "markdown",
      "metadata": {
        "id": "ZmYuZDaErrsz"
      },
      "source": [
        "7. Calculate the upper confidence limit"
      ]
    },
    {
      "cell_type": "code",
      "metadata": {
        "id": "12wbkgurrrsz"
      },
      "source": [
        "tipsSun[\"total_bill\"].mean() + moe"
      ],
      "execution_count": null,
      "outputs": []
    },
    {
      "cell_type": "markdown",
      "metadata": {
        "id": "S8FLCrYSrrs0"
      },
      "source": [
        "8. Calculate the lower confidence limit"
      ]
    },
    {
      "cell_type": "code",
      "metadata": {
        "id": "pIGdp4Cdrrs0"
      },
      "source": [
        "tipsSun[\"total_bill\"].mean() - moe"
      ],
      "execution_count": null,
      "outputs": []
    },
    {
      "cell_type": "markdown",
      "metadata": {
        "id": "44VV0x5Hrrs0"
      },
      "source": [
        " -9. Calculate 95% Confidence Interval around the mean by using scipy.stats"
      ]
    },
    {
      "cell_type": "code",
      "metadata": {
        "colab": {
          "base_uri": "https://localhost:8080/"
        },
        "id": "vkUr_qgLrrs1",
        "outputId": "cb56a9f0-2514-4976-d1f8-3dbc508b60ca"
      },
      "source": [
        "stats.norm.interval(0.95, loc=tipsSun[\"total_bill\"].mean(), scale=sem)"
      ],
      "execution_count": 31,
      "outputs": [
        {
          "output_type": "execute_result",
          "data": {
            "text/plain": [
              "(19.42433333097718, 23.395666669022827)"
            ]
          },
          "metadata": {},
          "execution_count": 31
        }
      ]
    },
    {
      "cell_type": "markdown",
      "metadata": {
        "id": "wyvkIXfnrrs1"
      },
      "source": [
        "### Exercise 8.7 (Large Samples)\n",
        "*Source: Wackerly, D., Mendenhall, W., & Scheaffer, R. L. (2014). Mathematical statistics with applications. Cengage Learning.*"
      ]
    },
    {
      "cell_type": "markdown",
      "metadata": {
        "id": "euUkPe40rrs1"
      },
      "source": [
        "- The shopping times of n = 64 randomly selected customers at a local supermarket were recorded. \n",
        "\n",
        "- The average and variance of the 64 shopping times were 33 $minutes$ and 256 $minutes^2$, respectively. \n",
        "\n",
        "- Estimate μ, the true average shopping time per customer, with a confidence coefficient of 1 − α = .90."
      ]
    },
    {
      "cell_type": "code",
      "metadata": {
        "id": "9cMrYoB2rrs3"
      },
      "source": [
        "n = 64                              #30 dan buyuk sampleler large samples oluyo\n",
        "xbar = 33\n",
        "var = 256\n",
        "ci = 0.90\n",
        "s = np.sqrt(var)\n",
        "\n",
        "sem = s/np.sqrt(n)"
      ],
      "execution_count": 32,
      "outputs": []
    },
    {
      "cell_type": "code",
      "metadata": {
        "colab": {
          "base_uri": "https://localhost:8080/"
        },
        "id": "lHdk7onfrrs4",
        "outputId": "844ac717-fb72-4985-9c2f-9eecf7e17503"
      },
      "source": [
        "sem"
      ],
      "execution_count": 33,
      "outputs": [
        {
          "output_type": "execute_result",
          "data": {
            "text/plain": [
              "2.0"
            ]
          },
          "metadata": {},
          "execution_count": 33
        }
      ]
    },
    {
      "cell_type": "code",
      "metadata": {
        "colab": {
          "base_uri": "https://localhost:8080/"
        },
        "id": "GAUSV_8S2oOG",
        "outputId": "c4eee184-f65d-42e4-bcc4-49369ccc037f"
      },
      "source": [
        "stats.norm.interval(0.90, loc=xbar, scale=sem)"
      ],
      "execution_count": 34,
      "outputs": [
        {
          "output_type": "execute_result",
          "data": {
            "text/plain": [
              "(29.710292746097053, 36.28970725390295)"
            ]
          },
          "metadata": {},
          "execution_count": 34
        }
      ]
    },
    {
      "cell_type": "markdown",
      "metadata": {
        "id": "h5Mwe13Rrrs5"
      },
      "source": [
        "#### Proof"
      ]
    },
    {
      "cell_type": "markdown",
      "metadata": {
        "id": "3fwlMUBOrrs5"
      },
      "source": [
        "![image.png](attachment:image.png)"
      ]
    },
    {
      "cell_type": "code",
      "metadata": {
        "colab": {
          "base_uri": "https://localhost:8080/"
        },
        "id": "xcCJ8XPhrrs6",
        "outputId": "d43d5905-cd8e-4f67-a417-5a7040b4b093"
      },
      "source": [
        "z = stats.norm.ppf(0.95)\n",
        "z"
      ],
      "execution_count": 35,
      "outputs": [
        {
          "output_type": "execute_result",
          "data": {
            "text/plain": [
              "1.6448536269514722"
            ]
          },
          "metadata": {},
          "execution_count": 35
        }
      ]
    },
    {
      "cell_type": "code",
      "metadata": {
        "colab": {
          "base_uri": "https://localhost:8080/"
        },
        "id": "sPtKEQWQrrs7",
        "outputId": "fdca25e9-67b6-4f88-8c49-77584f9046c7"
      },
      "source": [
        "moe = z * sem\n",
        "moe"
      ],
      "execution_count": 36,
      "outputs": [
        {
          "output_type": "execute_result",
          "data": {
            "text/plain": [
              "3.2897072539029444"
            ]
          },
          "metadata": {},
          "execution_count": 36
        }
      ]
    },
    {
      "cell_type": "code",
      "metadata": {
        "colab": {
          "base_uri": "https://localhost:8080/"
        },
        "id": "uoAHh5Bfrrs8",
        "outputId": "2e51db22-97c8-4d01-ee30-6a6208a9344a"
      },
      "source": [
        "low_limit = xbar - moe\n",
        "low_limit"
      ],
      "execution_count": 37,
      "outputs": [
        {
          "output_type": "execute_result",
          "data": {
            "text/plain": [
              "29.710292746097057"
            ]
          },
          "metadata": {},
          "execution_count": 37
        }
      ]
    },
    {
      "cell_type": "code",
      "metadata": {
        "colab": {
          "base_uri": "https://localhost:8080/"
        },
        "id": "mZERhrIurrs9",
        "outputId": "333dabcc-3fd7-43c2-f23e-80595097655c"
      },
      "source": [
        "high_limit = xbar + moe\n",
        "high_limit"
      ],
      "execution_count": 38,
      "outputs": [
        {
          "output_type": "execute_result",
          "data": {
            "text/plain": [
              "36.28970725390295"
            ]
          },
          "metadata": {},
          "execution_count": 38
        }
      ]
    },
    {
      "cell_type": "markdown",
      "metadata": {
        "id": "udyYqzTSrrs9"
      },
      "source": [
        "### Exercise 8.11 (Small Samples)\n",
        "*Source: Wackerly, D., Mendenhall, W., & Scheaffer, R. L. (2014). Mathematical statistics with applications. Cengage Learning.*"
      ]
    },
    {
      "cell_type": "markdown",
      "metadata": {
        "id": "t6KjhyW-rrtB"
      },
      "source": [
        "A manufacturer of gunpowder has developed a new powder, which was tested in eight shells. The resulting muzzle velocities, in feet per second, were as follows:\n",
        "\n",
        "3005 2925 2935 2965\n",
        "\n",
        "2995 3005 2937 2905\n",
        "\n",
        "Find a 95% confidence interval for the true average velocity μ for shells of this type. Assume that muzzle velocities are approximately normally distributed."
      ]
    },
    {
      "cell_type": "code",
      "metadata": {
        "id": "Avw3ytYyrrtC"
      },
      "source": [
        "x = [3005, 2925, 2935, 2965, 2995, 3005, 2937, 2905]"
      ],
      "execution_count": null,
      "outputs": []
    },
    {
      "cell_type": "code",
      "metadata": {
        "colab": {
          "base_uri": "https://localhost:8080/"
        },
        "id": "AJ66Vz6UrrtD",
        "outputId": "c463dc06-f34d-4fce-93c2-4994d1d716d6"
      },
      "source": [
        "# Sample size\n",
        "n = 8\n",
        "\n",
        "# Sample mean\n",
        "xbar = np.mean(x)\n",
        "\n",
        "# Sample standard deviation\n",
        "s = np.std(x, ddof=1)\n",
        "\n",
        "# Confidence level\n",
        "cl = 0.95"
      ],
      "execution_count": 40,
      "outputs": [
        {
          "output_type": "stream",
          "name": "stderr",
          "text": [
            "/usr/local/lib/python3.7/dist-packages/numpy/core/_methods.py:234: RuntimeWarning: Degrees of freedom <= 0 for slice\n",
            "  keepdims=keepdims)\n",
            "/usr/local/lib/python3.7/dist-packages/numpy/core/_methods.py:226: RuntimeWarning: invalid value encountered in double_scalars\n",
            "  ret = ret.dtype.type(ret / rcount)\n"
          ]
        }
      ]
    },
    {
      "cell_type": "code",
      "metadata": {
        "id": "fJ1-9lNOrrtD"
      },
      "source": [
        ""
      ],
      "execution_count": null,
      "outputs": []
    },
    {
      "cell_type": "markdown",
      "metadata": {
        "id": "WfJ1hgGxrrtD"
      },
      "source": [
        "#### Proof"
      ]
    },
    {
      "cell_type": "markdown",
      "metadata": {
        "id": "8Jch7ZCGrrtE"
      },
      "source": [
        "![image.png](attachment:image.png)"
      ]
    },
    {
      "cell_type": "code",
      "metadata": {
        "colab": {
          "base_uri": "https://localhost:8080/"
        },
        "id": "BPFnMheMrrtE",
        "outputId": "ac721a69-d595-4c14-b6a0-a7f1f453f69f"
      },
      "source": [
        "t = stats.t.ppf(0.975, df=n-1)\n",
        "t"
      ],
      "execution_count": 41,
      "outputs": [
        {
          "output_type": "execute_result",
          "data": {
            "text/plain": [
              "2.3646242510102993"
            ]
          },
          "metadata": {},
          "execution_count": 41
        }
      ]
    },
    {
      "cell_type": "code",
      "metadata": {
        "colab": {
          "base_uri": "https://localhost:8080/",
          "height": 178
        },
        "id": "tyXWa8rwrrtF",
        "outputId": "d0f84bb3-7c90-4dab-a936-607a682b321c"
      },
      "source": [
        "sem = s/sqrt(n) \n",
        "sem"
      ],
      "execution_count": 42,
      "outputs": [
        {
          "output_type": "error",
          "ename": "NameError",
          "evalue": "ignored",
          "traceback": [
            "\u001b[0;31m---------------------------------------------------------------------------\u001b[0m",
            "\u001b[0;31mNameError\u001b[0m                                 Traceback (most recent call last)",
            "\u001b[0;32m<ipython-input-42-b5c526485d90>\u001b[0m in \u001b[0;36m<module>\u001b[0;34m()\u001b[0m\n\u001b[0;32m----> 1\u001b[0;31m \u001b[0msem\u001b[0m \u001b[0;34m=\u001b[0m \u001b[0ms\u001b[0m\u001b[0;34m/\u001b[0m\u001b[0msqrt\u001b[0m\u001b[0;34m(\u001b[0m\u001b[0mn\u001b[0m\u001b[0;34m)\u001b[0m\u001b[0;34m\u001b[0m\u001b[0;34m\u001b[0m\u001b[0m\n\u001b[0m\u001b[1;32m      2\u001b[0m \u001b[0msem\u001b[0m\u001b[0;34m\u001b[0m\u001b[0;34m\u001b[0m\u001b[0m\n",
            "\u001b[0;31mNameError\u001b[0m: name 'sqrt' is not defined"
          ]
        }
      ]
    },
    {
      "cell_type": "code",
      "metadata": {
        "id": "vRcghlnhrrtF"
      },
      "source": [
        "moe = \n",
        "moe"
      ],
      "execution_count": null,
      "outputs": []
    },
    {
      "cell_type": "code",
      "metadata": {
        "id": "VkWP6SIRrrtF"
      },
      "source": [
        "low_limit = \n",
        "low_limit"
      ],
      "execution_count": null,
      "outputs": []
    },
    {
      "cell_type": "code",
      "metadata": {
        "id": "FXy593otrrtG"
      },
      "source": [
        "high_limit = \n",
        "high_limit"
      ],
      "execution_count": null,
      "outputs": []
    },
    {
      "cell_type": "code",
      "metadata": {
        "id": "Fgk-x-_MrrtG"
      },
      "source": [
        ""
      ],
      "execution_count": null,
      "outputs": []
    }
  ]
}