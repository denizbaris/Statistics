{
  "nbformat": 4,
  "nbformat_minor": 0,
  "metadata": {
    "colab": {
      "name": "Statistics_Assignment_5.ipynb",
      "provenance": []
    },
    "kernelspec": {
      "name": "python3",
      "display_name": "Python 3"
    },
    "language_info": {
      "name": "python"
    }
  },
  "cells": [
    {
      "cell_type": "code",
      "metadata": {
        "id": "QoAsMp3mpEH4"
      },
      "source": [
        "import pandas as pd\n",
        "import numpy as np\n",
        "import seaborn as sns\n",
        "import scipy as sp\n",
        "from scipy import stats\n",
        "import math\n",
        "import matplotlib.pyplot as plt\n",
        "import warnings\n",
        "warnings.filterwarnings(\"ignore\")"
      ],
      "execution_count": 1,
      "outputs": []
    },
    {
      "cell_type": "markdown",
      "metadata": {
        "id": "AlKAGG-OpHTW"
      },
      "source": [
        "EXERCISE 1. \n",
        "\n",
        "The hourly wages in a particular industry are normally distributed with mean 13.20 (dollars) and standard deviation 2.50 (dollars). A company in this industry employs 40 workers, paying them an average of 12.20 per hour. Can this company be accused of paying substandard wages? Use an α = .01 level test. (Wackerly, Ex.10.18)"
      ]
    },
    {
      "cell_type": "code",
      "metadata": {
        "id": "cqqwk14NpLs3"
      },
      "source": [
        "n = 40\n",
        "sigma = 2.50\n",
        "mu = 13.20\n",
        "xbar = 12.20"
      ],
      "execution_count": 2,
      "outputs": []
    },
    {
      "cell_type": "code",
      "metadata": {
        "colab": {
          "base_uri": "https://localhost:8080/"
        },
        "id": "ae7w2GVhpOmv",
        "outputId": "8cac51f6-d98b-40f6-c286-6823ed85e93d"
      },
      "source": [
        "z_test = (xbar - mu) / (sigma / np.sqrt(n))\n",
        "z_test"
      ],
      "execution_count": 3,
      "outputs": [
        {
          "output_type": "execute_result",
          "data": {
            "text/plain": [
              "-2.5298221281347035"
            ]
          },
          "metadata": {},
          "execution_count": 3
        }
      ]
    },
    {
      "cell_type": "code",
      "metadata": {
        "colab": {
          "base_uri": "https://localhost:8080/"
        },
        "id": "jtzvyrH8pQOd",
        "outputId": "acba06e1-05d1-4e97-fc2b-991b6731eb7b"
      },
      "source": [
        "pvalue = stats.norm.cdf(z_test) # left side area\n",
        "pvalue"
      ],
      "execution_count": 4,
      "outputs": [
        {
          "output_type": "execute_result",
          "data": {
            "text/plain": [
              "0.005706018193000826"
            ]
          },
          "metadata": {},
          "execution_count": 4
        }
      ]
    },
    {
      "cell_type": "code",
      "metadata": {
        "colab": {
          "base_uri": "https://localhost:8080/"
        },
        "id": "N4cZqxfmpVRf",
        "outputId": "22047419-1fcd-4056-ddf3-27a685397199"
      },
      "source": [
        "alpha = 0.01   # (α = 1% --> 1-99%) it is given in the question\n",
        "\n",
        "if pvalue < alpha:\n",
        "    print(\"Reject the Null\")\n",
        "else:\n",
        "    print(\"Fail to reject\")"
      ],
      "execution_count": 5,
      "outputs": [
        {
          "output_type": "stream",
          "name": "stdout",
          "text": [
            "Reject the Null\n"
          ]
        }
      ]
    },
    {
      "cell_type": "markdown",
      "metadata": {
        "id": "wEKuVgaYpb0n"
      },
      "source": [
        "EXERCISE 2.\n",
        "\n",
        "Shear strength measurements derived from unconfined compression tests for two types of soils gave the results shown in the following document (measurements in tons per square foot). Do the soils appear to differ with respect to average shear strength, at the 1% significance level?"
      ]
    },
    {
      "cell_type": "code",
      "metadata": {
        "id": "fYBHDTxBpZEx"
      },
      "source": [
        "α = 0.01"
      ],
      "execution_count": 6,
      "outputs": []
    },
    {
      "cell_type": "code",
      "metadata": {
        "colab": {
          "base_uri": "https://localhost:8080/",
          "height": 206
        },
        "id": "8co4bWMrpfhU",
        "outputId": "ab8fe48d-8cc5-4995-b589-d2c627dfc8f3"
      },
      "source": [
        "df_soil = pd.read_csv(\"soil - Sheet1.csv\")\n",
        "df_soil.head()"
      ],
      "execution_count": 7,
      "outputs": [
        {
          "output_type": "execute_result",
          "data": {
            "text/html": [
              "<div>\n",
              "<style scoped>\n",
              "    .dataframe tbody tr th:only-of-type {\n",
              "        vertical-align: middle;\n",
              "    }\n",
              "\n",
              "    .dataframe tbody tr th {\n",
              "        vertical-align: top;\n",
              "    }\n",
              "\n",
              "    .dataframe thead th {\n",
              "        text-align: right;\n",
              "    }\n",
              "</style>\n",
              "<table border=\"1\" class=\"dataframe\">\n",
              "  <thead>\n",
              "    <tr style=\"text-align: right;\">\n",
              "      <th></th>\n",
              "      <th>Soil1</th>\n",
              "      <th>Soil2</th>\n",
              "    </tr>\n",
              "  </thead>\n",
              "  <tbody>\n",
              "    <tr>\n",
              "      <th>0</th>\n",
              "      <td>1.442</td>\n",
              "      <td>1.364</td>\n",
              "    </tr>\n",
              "    <tr>\n",
              "      <th>1</th>\n",
              "      <td>1.943</td>\n",
              "      <td>1.878</td>\n",
              "    </tr>\n",
              "    <tr>\n",
              "      <th>2</th>\n",
              "      <td>1.110</td>\n",
              "      <td>1.337</td>\n",
              "    </tr>\n",
              "    <tr>\n",
              "      <th>3</th>\n",
              "      <td>1.912</td>\n",
              "      <td>1.828</td>\n",
              "    </tr>\n",
              "    <tr>\n",
              "      <th>4</th>\n",
              "      <td>1.553</td>\n",
              "      <td>1.371</td>\n",
              "    </tr>\n",
              "  </tbody>\n",
              "</table>\n",
              "</div>"
            ],
            "text/plain": [
              "   Soil1  Soil2\n",
              "0  1.442  1.364\n",
              "1  1.943  1.878\n",
              "2  1.110  1.337\n",
              "3  1.912  1.828\n",
              "4  1.553  1.371"
            ]
          },
          "metadata": {},
          "execution_count": 7
        }
      ]
    },
    {
      "cell_type": "code",
      "metadata": {
        "colab": {
          "base_uri": "https://localhost:8080/"
        },
        "id": "iLV6ln1Rp3KX",
        "outputId": "8f1c6e57-f0d0-42e1-c484-afb5c6106fd8"
      },
      "source": [
        "df_soil.shape"
      ],
      "execution_count": 8,
      "outputs": [
        {
          "output_type": "execute_result",
          "data": {
            "text/plain": [
              "(35, 2)"
            ]
          },
          "metadata": {},
          "execution_count": 8
        }
      ]
    },
    {
      "cell_type": "code",
      "metadata": {
        "colab": {
          "base_uri": "https://localhost:8080/"
        },
        "id": "suzKbwiwp9kl",
        "outputId": "3858b4f3-dc40-49c0-e193-d3575a6c8876"
      },
      "source": [
        "df_soil[\"Soil1\"].mean()"
      ],
      "execution_count": 9,
      "outputs": [
        {
          "output_type": "execute_result",
          "data": {
            "text/plain": [
              "1.6918"
            ]
          },
          "metadata": {},
          "execution_count": 9
        }
      ]
    },
    {
      "cell_type": "code",
      "metadata": {
        "colab": {
          "base_uri": "https://localhost:8080/"
        },
        "id": "Tx7wXTyqp_P4",
        "outputId": "14baff35-4a45-47fb-d767-1f9d407740bc"
      },
      "source": [
        "df_soil[\"Soil2\"].mean()"
      ],
      "execution_count": 10,
      "outputs": [
        {
          "output_type": "execute_result",
          "data": {
            "text/plain": [
              "1.4171142857142858"
            ]
          },
          "metadata": {},
          "execution_count": 10
        }
      ]
    },
    {
      "cell_type": "markdown",
      "metadata": {
        "id": "TN4bpngrqDGZ"
      },
      "source": [
        "Calculate the T_test for the means of two independent samples of scores.\n",
        "\n",
        "H0 : mu1 = mu2\n",
        "\n",
        "H1 : mu1 != mu2"
      ]
    },
    {
      "cell_type": "code",
      "metadata": {
        "colab": {
          "base_uri": "https://localhost:8080/"
        },
        "id": "KXVboV8lqAtD",
        "outputId": "e272425b-422e-4218-fd52-dab2003beb03"
      },
      "source": [
        "stats.ttest_ind(df_soil[\"Soil1\"], df_soil[\"Soil2\"])"
      ],
      "execution_count": 11,
      "outputs": [
        {
          "output_type": "execute_result",
          "data": {
            "text/plain": [
              "Ttest_indResult(statistic=nan, pvalue=nan)"
            ]
          },
          "metadata": {},
          "execution_count": 11
        }
      ]
    },
    {
      "cell_type": "code",
      "metadata": {
        "colab": {
          "base_uri": "https://localhost:8080/"
        },
        "id": "9wiOaEMsqGRE",
        "outputId": "13a0c829-dbd0-45ca-db58-c34a3a29bff3"
      },
      "source": [
        "df_soil.info()"
      ],
      "execution_count": 12,
      "outputs": [
        {
          "output_type": "stream",
          "name": "stdout",
          "text": [
            "<class 'pandas.core.frame.DataFrame'>\n",
            "RangeIndex: 35 entries, 0 to 34\n",
            "Data columns (total 2 columns):\n",
            " #   Column  Non-Null Count  Dtype  \n",
            "---  ------  --------------  -----  \n",
            " 0   Soil1   30 non-null     float64\n",
            " 1   Soil2   35 non-null     float64\n",
            "dtypes: float64(2)\n",
            "memory usage: 688.0 bytes\n"
          ]
        }
      ]
    },
    {
      "cell_type": "code",
      "metadata": {
        "colab": {
          "base_uri": "https://localhost:8080/",
          "height": 1000
        },
        "id": "x-nUMy-YqIXI",
        "outputId": "0a67a22d-b3fc-4605-9203-ec44ee9af6f3"
      },
      "source": [
        "df_soil.isnull()"
      ],
      "execution_count": 13,
      "outputs": [
        {
          "output_type": "execute_result",
          "data": {
            "text/html": [
              "<div>\n",
              "<style scoped>\n",
              "    .dataframe tbody tr th:only-of-type {\n",
              "        vertical-align: middle;\n",
              "    }\n",
              "\n",
              "    .dataframe tbody tr th {\n",
              "        vertical-align: top;\n",
              "    }\n",
              "\n",
              "    .dataframe thead th {\n",
              "        text-align: right;\n",
              "    }\n",
              "</style>\n",
              "<table border=\"1\" class=\"dataframe\">\n",
              "  <thead>\n",
              "    <tr style=\"text-align: right;\">\n",
              "      <th></th>\n",
              "      <th>Soil1</th>\n",
              "      <th>Soil2</th>\n",
              "    </tr>\n",
              "  </thead>\n",
              "  <tbody>\n",
              "    <tr>\n",
              "      <th>0</th>\n",
              "      <td>False</td>\n",
              "      <td>False</td>\n",
              "    </tr>\n",
              "    <tr>\n",
              "      <th>1</th>\n",
              "      <td>False</td>\n",
              "      <td>False</td>\n",
              "    </tr>\n",
              "    <tr>\n",
              "      <th>2</th>\n",
              "      <td>False</td>\n",
              "      <td>False</td>\n",
              "    </tr>\n",
              "    <tr>\n",
              "      <th>3</th>\n",
              "      <td>False</td>\n",
              "      <td>False</td>\n",
              "    </tr>\n",
              "    <tr>\n",
              "      <th>4</th>\n",
              "      <td>False</td>\n",
              "      <td>False</td>\n",
              "    </tr>\n",
              "    <tr>\n",
              "      <th>5</th>\n",
              "      <td>False</td>\n",
              "      <td>False</td>\n",
              "    </tr>\n",
              "    <tr>\n",
              "      <th>6</th>\n",
              "      <td>False</td>\n",
              "      <td>False</td>\n",
              "    </tr>\n",
              "    <tr>\n",
              "      <th>7</th>\n",
              "      <td>False</td>\n",
              "      <td>False</td>\n",
              "    </tr>\n",
              "    <tr>\n",
              "      <th>8</th>\n",
              "      <td>False</td>\n",
              "      <td>False</td>\n",
              "    </tr>\n",
              "    <tr>\n",
              "      <th>9</th>\n",
              "      <td>False</td>\n",
              "      <td>False</td>\n",
              "    </tr>\n",
              "    <tr>\n",
              "      <th>10</th>\n",
              "      <td>False</td>\n",
              "      <td>False</td>\n",
              "    </tr>\n",
              "    <tr>\n",
              "      <th>11</th>\n",
              "      <td>False</td>\n",
              "      <td>False</td>\n",
              "    </tr>\n",
              "    <tr>\n",
              "      <th>12</th>\n",
              "      <td>False</td>\n",
              "      <td>False</td>\n",
              "    </tr>\n",
              "    <tr>\n",
              "      <th>13</th>\n",
              "      <td>False</td>\n",
              "      <td>False</td>\n",
              "    </tr>\n",
              "    <tr>\n",
              "      <th>14</th>\n",
              "      <td>False</td>\n",
              "      <td>False</td>\n",
              "    </tr>\n",
              "    <tr>\n",
              "      <th>15</th>\n",
              "      <td>False</td>\n",
              "      <td>False</td>\n",
              "    </tr>\n",
              "    <tr>\n",
              "      <th>16</th>\n",
              "      <td>False</td>\n",
              "      <td>False</td>\n",
              "    </tr>\n",
              "    <tr>\n",
              "      <th>17</th>\n",
              "      <td>False</td>\n",
              "      <td>False</td>\n",
              "    </tr>\n",
              "    <tr>\n",
              "      <th>18</th>\n",
              "      <td>False</td>\n",
              "      <td>False</td>\n",
              "    </tr>\n",
              "    <tr>\n",
              "      <th>19</th>\n",
              "      <td>False</td>\n",
              "      <td>False</td>\n",
              "    </tr>\n",
              "    <tr>\n",
              "      <th>20</th>\n",
              "      <td>False</td>\n",
              "      <td>False</td>\n",
              "    </tr>\n",
              "    <tr>\n",
              "      <th>21</th>\n",
              "      <td>False</td>\n",
              "      <td>False</td>\n",
              "    </tr>\n",
              "    <tr>\n",
              "      <th>22</th>\n",
              "      <td>False</td>\n",
              "      <td>False</td>\n",
              "    </tr>\n",
              "    <tr>\n",
              "      <th>23</th>\n",
              "      <td>False</td>\n",
              "      <td>False</td>\n",
              "    </tr>\n",
              "    <tr>\n",
              "      <th>24</th>\n",
              "      <td>False</td>\n",
              "      <td>False</td>\n",
              "    </tr>\n",
              "    <tr>\n",
              "      <th>25</th>\n",
              "      <td>False</td>\n",
              "      <td>False</td>\n",
              "    </tr>\n",
              "    <tr>\n",
              "      <th>26</th>\n",
              "      <td>False</td>\n",
              "      <td>False</td>\n",
              "    </tr>\n",
              "    <tr>\n",
              "      <th>27</th>\n",
              "      <td>False</td>\n",
              "      <td>False</td>\n",
              "    </tr>\n",
              "    <tr>\n",
              "      <th>28</th>\n",
              "      <td>False</td>\n",
              "      <td>False</td>\n",
              "    </tr>\n",
              "    <tr>\n",
              "      <th>29</th>\n",
              "      <td>False</td>\n",
              "      <td>False</td>\n",
              "    </tr>\n",
              "    <tr>\n",
              "      <th>30</th>\n",
              "      <td>True</td>\n",
              "      <td>False</td>\n",
              "    </tr>\n",
              "    <tr>\n",
              "      <th>31</th>\n",
              "      <td>True</td>\n",
              "      <td>False</td>\n",
              "    </tr>\n",
              "    <tr>\n",
              "      <th>32</th>\n",
              "      <td>True</td>\n",
              "      <td>False</td>\n",
              "    </tr>\n",
              "    <tr>\n",
              "      <th>33</th>\n",
              "      <td>True</td>\n",
              "      <td>False</td>\n",
              "    </tr>\n",
              "    <tr>\n",
              "      <th>34</th>\n",
              "      <td>True</td>\n",
              "      <td>False</td>\n",
              "    </tr>\n",
              "  </tbody>\n",
              "</table>\n",
              "</div>"
            ],
            "text/plain": [
              "    Soil1  Soil2\n",
              "0   False  False\n",
              "1   False  False\n",
              "2   False  False\n",
              "3   False  False\n",
              "4   False  False\n",
              "5   False  False\n",
              "6   False  False\n",
              "7   False  False\n",
              "8   False  False\n",
              "9   False  False\n",
              "10  False  False\n",
              "11  False  False\n",
              "12  False  False\n",
              "13  False  False\n",
              "14  False  False\n",
              "15  False  False\n",
              "16  False  False\n",
              "17  False  False\n",
              "18  False  False\n",
              "19  False  False\n",
              "20  False  False\n",
              "21  False  False\n",
              "22  False  False\n",
              "23  False  False\n",
              "24  False  False\n",
              "25  False  False\n",
              "26  False  False\n",
              "27  False  False\n",
              "28  False  False\n",
              "29  False  False\n",
              "30   True  False\n",
              "31   True  False\n",
              "32   True  False\n",
              "33   True  False\n",
              "34   True  False"
            ]
          },
          "metadata": {},
          "execution_count": 13
        }
      ]
    },
    {
      "cell_type": "code",
      "metadata": {
        "colab": {
          "base_uri": "https://localhost:8080/"
        },
        "id": "2KyG8J_-qKB5",
        "outputId": "e777659a-2ac2-4d5a-b414-2be987790a27"
      },
      "source": [
        "indTest = stats.ttest_ind(df_soil[\"Soil1\"], df_soil[\"Soil2\"], nan_policy='omit')\n",
        "\n",
        "indTest"
      ],
      "execution_count": 14,
      "outputs": [
        {
          "output_type": "execute_result",
          "data": {
            "text/plain": [
              "Ttest_indResult(statistic=5.1681473319343345, pvalue=2.5932287323528147e-06)"
            ]
          },
          "metadata": {},
          "execution_count": 14
        }
      ]
    },
    {
      "cell_type": "code",
      "metadata": {
        "colab": {
          "base_uri": "https://localhost:8080/"
        },
        "id": "Mc7Ky5PGqMQT",
        "outputId": "8e6a7283-91ee-4a91-a819-a2124eae97c4"
      },
      "source": [
        "t = indTest.statistic\n",
        "t"
      ],
      "execution_count": 15,
      "outputs": [
        {
          "output_type": "execute_result",
          "data": {
            "text/plain": [
              "5.1681473319343345"
            ]
          },
          "metadata": {},
          "execution_count": 15
        }
      ]
    },
    {
      "cell_type": "code",
      "metadata": {
        "colab": {
          "base_uri": "https://localhost:8080/"
        },
        "id": "43e79SkvqOE9",
        "outputId": "f39a7d97-6906-4a9f-8368-4e4e1383ec9e"
      },
      "source": [
        "p_value = indTest.pvalue\n",
        "p_value"
      ],
      "execution_count": 16,
      "outputs": [
        {
          "output_type": "execute_result",
          "data": {
            "text/plain": [
              "2.5932287323528147e-06"
            ]
          },
          "metadata": {},
          "execution_count": 16
        }
      ]
    },
    {
      "cell_type": "code",
      "metadata": {
        "colab": {
          "base_uri": "https://localhost:8080/"
        },
        "id": "UgfvjAjbqPdp",
        "outputId": "fa6465d7-73b2-4624-c8a3-7077fceb2a9a"
      },
      "source": [
        "# Comparing p value\n",
        "\n",
        "alpha = 0.01      # alpha/2 = 0.005\n",
        "\n",
        "if indTest.pvalue < alpha/2:\n",
        "    print(\"Reject the Null\")\n",
        "else:\n",
        "    print(\"Fail to reject\")"
      ],
      "execution_count": 17,
      "outputs": [
        {
          "output_type": "stream",
          "name": "stdout",
          "text": [
            "Reject the Null\n"
          ]
        }
      ]
    },
    {
      "cell_type": "markdown",
      "metadata": {
        "id": "jnI-5d7XqWe3"
      },
      "source": [
        "EXERCISE 3. \n",
        "\n",
        "The following dataset is based on data provided by the World Bank (https://datacatalog.worldbank.org/dataset/education-statistics). World Bank Edstats. 2015 PISA Test Dataset\n",
        "\n",
        "(i) Get descriptive statistics (the central tendency, dispersion and shape of a dataset’s distribution) for each continent group (AS, EU, AF, NA, SA, OC).\n",
        "\n",
        "(ii) Determine whether there is any difference (on the average) for the math scores among European (EU) and Asian (AS) countries (assume normality and equal variances). Draw side-by-side box plots."
      ]
    },
    {
      "cell_type": "code",
      "metadata": {
        "colab": {
          "base_uri": "https://localhost:8080/",
          "height": 206
        },
        "id": "qLvnGR-nqRrq",
        "outputId": "81742d37-a887-4f8b-f53a-f18ab54e36d1"
      },
      "source": [
        "df_pisa = pd.read_csv(\"2015 PISA Test - Sheet1.csv\")\n",
        "df_pisa.head()"
      ],
      "execution_count": 18,
      "outputs": [
        {
          "output_type": "execute_result",
          "data": {
            "text/html": [
              "<div>\n",
              "<style scoped>\n",
              "    .dataframe tbody tr th:only-of-type {\n",
              "        vertical-align: middle;\n",
              "    }\n",
              "\n",
              "    .dataframe tbody tr th {\n",
              "        vertical-align: top;\n",
              "    }\n",
              "\n",
              "    .dataframe thead th {\n",
              "        text-align: right;\n",
              "    }\n",
              "</style>\n",
              "<table border=\"1\" class=\"dataframe\">\n",
              "  <thead>\n",
              "    <tr style=\"text-align: right;\">\n",
              "      <th></th>\n",
              "      <th>Country Code</th>\n",
              "      <th>Continent_Code</th>\n",
              "      <th>internet_users_per_100</th>\n",
              "      <th>Math</th>\n",
              "      <th>Reading</th>\n",
              "      <th>Science</th>\n",
              "    </tr>\n",
              "  </thead>\n",
              "  <tbody>\n",
              "    <tr>\n",
              "      <th>0</th>\n",
              "      <td>ALB</td>\n",
              "      <td>EU</td>\n",
              "      <td>63.252933</td>\n",
              "      <td>413.1570</td>\n",
              "      <td>405.2588</td>\n",
              "      <td>427.2250</td>\n",
              "    </tr>\n",
              "    <tr>\n",
              "      <th>1</th>\n",
              "      <td>ARE</td>\n",
              "      <td>AS</td>\n",
              "      <td>90.500000</td>\n",
              "      <td>427.4827</td>\n",
              "      <td>433.5423</td>\n",
              "      <td>436.7311</td>\n",
              "    </tr>\n",
              "    <tr>\n",
              "      <th>2</th>\n",
              "      <td>ARG</td>\n",
              "      <td>SA</td>\n",
              "      <td>68.043064</td>\n",
              "      <td>409.0333</td>\n",
              "      <td>425.3031</td>\n",
              "      <td>432.2262</td>\n",
              "    </tr>\n",
              "    <tr>\n",
              "      <th>3</th>\n",
              "      <td>AUS</td>\n",
              "      <td>OC</td>\n",
              "      <td>84.560519</td>\n",
              "      <td>493.8962</td>\n",
              "      <td>502.9006</td>\n",
              "      <td>509.9939</td>\n",
              "    </tr>\n",
              "    <tr>\n",
              "      <th>4</th>\n",
              "      <td>AUT</td>\n",
              "      <td>EU</td>\n",
              "      <td>83.940142</td>\n",
              "      <td>496.7423</td>\n",
              "      <td>484.8656</td>\n",
              "      <td>495.0375</td>\n",
              "    </tr>\n",
              "  </tbody>\n",
              "</table>\n",
              "</div>"
            ],
            "text/plain": [
              "  Country Code Continent_Code  ...   Reading   Science\n",
              "0          ALB             EU  ...  405.2588  427.2250\n",
              "1          ARE             AS  ...  433.5423  436.7311\n",
              "2          ARG             SA  ...  425.3031  432.2262\n",
              "3          AUS             OC  ...  502.9006  509.9939\n",
              "4          AUT             EU  ...  484.8656  495.0375\n",
              "\n",
              "[5 rows x 6 columns]"
            ]
          },
          "metadata": {},
          "execution_count": 18
        }
      ]
    },
    {
      "cell_type": "code",
      "metadata": {
        "colab": {
          "base_uri": "https://localhost:8080/",
          "height": 300
        },
        "id": "dY9GR_a5qhrP",
        "outputId": "ad3b4c2b-755c-409d-cee3-647f2c978ab3"
      },
      "source": [
        "df_pisa.describe()  # for all continents"
      ],
      "execution_count": 19,
      "outputs": [
        {
          "output_type": "execute_result",
          "data": {
            "text/html": [
              "<div>\n",
              "<style scoped>\n",
              "    .dataframe tbody tr th:only-of-type {\n",
              "        vertical-align: middle;\n",
              "    }\n",
              "\n",
              "    .dataframe tbody tr th {\n",
              "        vertical-align: top;\n",
              "    }\n",
              "\n",
              "    .dataframe thead th {\n",
              "        text-align: right;\n",
              "    }\n",
              "</style>\n",
              "<table border=\"1\" class=\"dataframe\">\n",
              "  <thead>\n",
              "    <tr style=\"text-align: right;\">\n",
              "      <th></th>\n",
              "      <th>internet_users_per_100</th>\n",
              "      <th>Math</th>\n",
              "      <th>Reading</th>\n",
              "      <th>Science</th>\n",
              "    </tr>\n",
              "  </thead>\n",
              "  <tbody>\n",
              "    <tr>\n",
              "      <th>count</th>\n",
              "      <td>70.000000</td>\n",
              "      <td>70.000000</td>\n",
              "      <td>70.000000</td>\n",
              "      <td>70.000000</td>\n",
              "    </tr>\n",
              "    <tr>\n",
              "      <th>mean</th>\n",
              "      <td>71.973099</td>\n",
              "      <td>460.971557</td>\n",
              "      <td>460.997291</td>\n",
              "      <td>465.439093</td>\n",
              "    </tr>\n",
              "    <tr>\n",
              "      <th>std</th>\n",
              "      <td>16.390632</td>\n",
              "      <td>53.327205</td>\n",
              "      <td>49.502679</td>\n",
              "      <td>48.397254</td>\n",
              "    </tr>\n",
              "    <tr>\n",
              "      <th>min</th>\n",
              "      <td>21.976068</td>\n",
              "      <td>327.702000</td>\n",
              "      <td>346.549000</td>\n",
              "      <td>331.638800</td>\n",
              "    </tr>\n",
              "    <tr>\n",
              "      <th>25%</th>\n",
              "      <td>60.899020</td>\n",
              "      <td>417.416075</td>\n",
              "      <td>426.948625</td>\n",
              "      <td>425.923375</td>\n",
              "    </tr>\n",
              "    <tr>\n",
              "      <th>50%</th>\n",
              "      <td>72.999350</td>\n",
              "      <td>477.607150</td>\n",
              "      <td>480.199850</td>\n",
              "      <td>475.400050</td>\n",
              "    </tr>\n",
              "    <tr>\n",
              "      <th>75%</th>\n",
              "      <td>85.026763</td>\n",
              "      <td>500.482925</td>\n",
              "      <td>499.687475</td>\n",
              "      <td>502.431250</td>\n",
              "    </tr>\n",
              "    <tr>\n",
              "      <th>max</th>\n",
              "      <td>98.200000</td>\n",
              "      <td>564.189700</td>\n",
              "      <td>535.100200</td>\n",
              "      <td>555.574700</td>\n",
              "    </tr>\n",
              "  </tbody>\n",
              "</table>\n",
              "</div>"
            ],
            "text/plain": [
              "       internet_users_per_100        Math     Reading     Science\n",
              "count               70.000000   70.000000   70.000000   70.000000\n",
              "mean                71.973099  460.971557  460.997291  465.439093\n",
              "std                 16.390632   53.327205   49.502679   48.397254\n",
              "min                 21.976068  327.702000  346.549000  331.638800\n",
              "25%                 60.899020  417.416075  426.948625  425.923375\n",
              "50%                 72.999350  477.607150  480.199850  475.400050\n",
              "75%                 85.026763  500.482925  499.687475  502.431250\n",
              "max                 98.200000  564.189700  535.100200  555.574700"
            ]
          },
          "metadata": {},
          "execution_count": 19
        }
      ]
    },
    {
      "cell_type": "code",
      "metadata": {
        "colab": {
          "base_uri": "https://localhost:8080/"
        },
        "id": "Op2g8V4dqkWg",
        "outputId": "c9ed3824-ae18-4f9d-a998-2a7816fea703"
      },
      "source": [
        "df_pisa.shape"
      ],
      "execution_count": 20,
      "outputs": [
        {
          "output_type": "execute_result",
          "data": {
            "text/plain": [
              "(70, 6)"
            ]
          },
          "metadata": {},
          "execution_count": 20
        }
      ]
    },
    {
      "cell_type": "code",
      "metadata": {
        "colab": {
          "base_uri": "https://localhost:8080/"
        },
        "id": "kO3FpJymqlu-",
        "outputId": "19493074-ad45-45d2-ff2e-438dd139f093"
      },
      "source": [
        "# see the unique values \n",
        "\n",
        "df_pisa.Continent_Code.unique()"
      ],
      "execution_count": 21,
      "outputs": [
        {
          "output_type": "execute_result",
          "data": {
            "text/plain": [
              "array(['EU', 'AS', 'SA', 'OC', nan, 'AF'], dtype=object)"
            ]
          },
          "metadata": {},
          "execution_count": 21
        }
      ]
    },
    {
      "cell_type": "code",
      "metadata": {
        "id": "WDBJkijlqnU7"
      },
      "source": [
        "df_pisa['Continent_Code'].fillna(value='NA', inplace = True)"
      ],
      "execution_count": 22,
      "outputs": []
    },
    {
      "cell_type": "code",
      "metadata": {
        "colab": {
          "base_uri": "https://localhost:8080/"
        },
        "id": "ftSMwiBTqoy8",
        "outputId": "7d6fa93b-e342-4def-ba96-01f276c2142c"
      },
      "source": [
        "df_pisa.Continent_Code.unique()"
      ],
      "execution_count": 23,
      "outputs": [
        {
          "output_type": "execute_result",
          "data": {
            "text/plain": [
              "array(['EU', 'AS', 'SA', 'OC', 'NA', 'AF'], dtype=object)"
            ]
          },
          "metadata": {},
          "execution_count": 23
        }
      ]
    },
    {
      "cell_type": "code",
      "metadata": {
        "colab": {
          "base_uri": "https://localhost:8080/",
          "height": 473
        },
        "id": "4eFiuwX3qqyR",
        "outputId": "1c595c37-8ea1-4a50-c159-02b939a9fa22"
      },
      "source": [
        "# First of all let's see how distribute the PISA scores for all over the world.\n",
        "\n",
        "fig, axes = plt.subplots(2,2, figsize=(20,8))\n",
        "\n",
        "sns.histplot(df_pisa['internet_users_per_100'], kde=True, ax=axes[0,0])\n",
        "sns.histplot(df_pisa['Math'], kde=True, ax=axes[0,1])\n",
        "sns.histplot(df_pisa['Reading'], kde=True, ax=axes[1,0])\n",
        "sns.histplot(df_pisa['Science'], kde=True, ax=axes[1,1]);"
      ],
      "execution_count": 24,
      "outputs": [
        {
          "output_type": "display_data",
          "data": {
            "image/png": "[encoded data removed]",
            "text/plain": [
              "<Figure size 1440x576 with 4 Axes>"
            ]
          },
          "metadata": {
            "needs_background": "light"
          }
        }
      ]
    },
    {
      "cell_type": "code",
      "metadata": {
        "colab": {
          "base_uri": "https://localhost:8080/",
          "height": 726
        },
        "id": "LHQ7QxlOqsNH",
        "outputId": "36b04806-2017-49e6-b0a5-c3cf38ba174c"
      },
      "source": [
        "sns.pairplot(df_pisa, hue = 'Continent_Code', corner = True);"
      ],
      "execution_count": 25,
      "outputs": [
        {
          "output_type": "display_data",
          "data": {
            "image/png": "[encoded data removed]",
            "text/plain": [
              "<Figure size 807.125x720 with 14 Axes>"
            ]
          },
          "metadata": {
            "needs_background": "light"
          }
        }
      ]
    },
    {
      "cell_type": "markdown",
      "metadata": {
        "id": "WPyShQSlqxJs"
      },
      "source": [
        "##Analysis for EU"
      ]
    },
    {
      "cell_type": "code",
      "metadata": {
        "colab": {
          "base_uri": "https://localhost:8080/",
          "height": 206
        },
        "id": "ugbEKkFTquMu",
        "outputId": "e68c49c7-d1f9-46c8-c327-61feb8b5d311"
      },
      "source": [
        "df_EU = df_pisa[df_pisa[\"Continent_Code\"]==\"EU\"]\n",
        "df_EU.head()"
      ],
      "execution_count": 26,
      "outputs": [
        {
          "output_type": "execute_result",
          "data": {
            "text/html": [
              "<div>\n",
              "<style scoped>\n",
              "    .dataframe tbody tr th:only-of-type {\n",
              "        vertical-align: middle;\n",
              "    }\n",
              "\n",
              "    .dataframe tbody tr th {\n",
              "        vertical-align: top;\n",
              "    }\n",
              "\n",
              "    .dataframe thead th {\n",
              "        text-align: right;\n",
              "    }\n",
              "</style>\n",
              "<table border=\"1\" class=\"dataframe\">\n",
              "  <thead>\n",
              "    <tr style=\"text-align: right;\">\n",
              "      <th></th>\n",
              "      <th>Country Code</th>\n",
              "      <th>Continent_Code</th>\n",
              "      <th>internet_users_per_100</th>\n",
              "      <th>Math</th>\n",
              "      <th>Reading</th>\n",
              "      <th>Science</th>\n",
              "    </tr>\n",
              "  </thead>\n",
              "  <tbody>\n",
              "    <tr>\n",
              "      <th>0</th>\n",
              "      <td>ALB</td>\n",
              "      <td>EU</td>\n",
              "      <td>63.252933</td>\n",
              "      <td>413.1570</td>\n",
              "      <td>405.2588</td>\n",
              "      <td>427.2250</td>\n",
              "    </tr>\n",
              "    <tr>\n",
              "      <th>4</th>\n",
              "      <td>AUT</td>\n",
              "      <td>EU</td>\n",
              "      <td>83.940142</td>\n",
              "      <td>496.7423</td>\n",
              "      <td>484.8656</td>\n",
              "      <td>495.0375</td>\n",
              "    </tr>\n",
              "    <tr>\n",
              "      <th>5</th>\n",
              "      <td>BEL</td>\n",
              "      <td>EU</td>\n",
              "      <td>85.052900</td>\n",
              "      <td>506.9844</td>\n",
              "      <td>498.5242</td>\n",
              "      <td>501.9997</td>\n",
              "    </tr>\n",
              "    <tr>\n",
              "      <th>6</th>\n",
              "      <td>BGR</td>\n",
              "      <td>EU</td>\n",
              "      <td>56.656300</td>\n",
              "      <td>441.1899</td>\n",
              "      <td>431.7175</td>\n",
              "      <td>445.7720</td>\n",
              "    </tr>\n",
              "    <tr>\n",
              "      <th>9</th>\n",
              "      <td>CHE</td>\n",
              "      <td>EU</td>\n",
              "      <td>87.479056</td>\n",
              "      <td>521.2506</td>\n",
              "      <td>492.1982</td>\n",
              "      <td>505.5058</td>\n",
              "    </tr>\n",
              "  </tbody>\n",
              "</table>\n",
              "</div>"
            ],
            "text/plain": [
              "  Country Code Continent_Code  ...   Reading   Science\n",
              "0          ALB             EU  ...  405.2588  427.2250\n",
              "4          AUT             EU  ...  484.8656  495.0375\n",
              "5          BEL             EU  ...  498.5242  501.9997\n",
              "6          BGR             EU  ...  431.7175  445.7720\n",
              "9          CHE             EU  ...  492.1982  505.5058\n",
              "\n",
              "[5 rows x 6 columns]"
            ]
          },
          "metadata": {},
          "execution_count": 26
        }
      ]
    },
    {
      "cell_type": "code",
      "metadata": {
        "colab": {
          "base_uri": "https://localhost:8080/",
          "height": 300
        },
        "id": "0NCpA3Luq1fm",
        "outputId": "ab1a16c4-fa17-4441-d02b-4ff55f9b2763"
      },
      "source": [
        "df_EU.describe()"
      ],
      "execution_count": 27,
      "outputs": [
        {
          "output_type": "execute_result",
          "data": {
            "text/html": [
              "<div>\n",
              "<style scoped>\n",
              "    .dataframe tbody tr th:only-of-type {\n",
              "        vertical-align: middle;\n",
              "    }\n",
              "\n",
              "    .dataframe tbody tr th {\n",
              "        vertical-align: top;\n",
              "    }\n",
              "\n",
              "    .dataframe thead th {\n",
              "        text-align: right;\n",
              "    }\n",
              "</style>\n",
              "<table border=\"1\" class=\"dataframe\">\n",
              "  <thead>\n",
              "    <tr style=\"text-align: right;\">\n",
              "      <th></th>\n",
              "      <th>internet_users_per_100</th>\n",
              "      <th>Math</th>\n",
              "      <th>Reading</th>\n",
              "      <th>Science</th>\n",
              "    </tr>\n",
              "  </thead>\n",
              "  <tbody>\n",
              "    <tr>\n",
              "      <th>count</th>\n",
              "      <td>37.000000</td>\n",
              "      <td>37.000000</td>\n",
              "      <td>37.000000</td>\n",
              "      <td>37.000000</td>\n",
              "    </tr>\n",
              "    <tr>\n",
              "      <th>mean</th>\n",
              "      <td>77.274888</td>\n",
              "      <td>477.981449</td>\n",
              "      <td>476.164608</td>\n",
              "      <td>478.299381</td>\n",
              "    </tr>\n",
              "    <tr>\n",
              "      <th>std</th>\n",
              "      <td>12.425773</td>\n",
              "      <td>35.150403</td>\n",
              "      <td>37.720545</td>\n",
              "      <td>34.450616</td>\n",
              "    </tr>\n",
              "    <tr>\n",
              "      <th>min</th>\n",
              "      <td>53.744979</td>\n",
              "      <td>371.311400</td>\n",
              "      <td>351.741500</td>\n",
              "      <td>383.682400</td>\n",
              "    </tr>\n",
              "    <tr>\n",
              "      <th>25%</th>\n",
              "      <td>68.632900</td>\n",
              "      <td>464.040100</td>\n",
              "      <td>452.514300</td>\n",
              "      <td>460.774900</td>\n",
              "    </tr>\n",
              "    <tr>\n",
              "      <th>50%</th>\n",
              "      <td>76.184000</td>\n",
              "      <td>489.728700</td>\n",
              "      <td>487.250100</td>\n",
              "      <td>490.225000</td>\n",
              "    </tr>\n",
              "    <tr>\n",
              "      <th>75%</th>\n",
              "      <td>87.479056</td>\n",
              "      <td>503.722000</td>\n",
              "      <td>499.814600</td>\n",
              "      <td>501.936900</td>\n",
              "    </tr>\n",
              "    <tr>\n",
              "      <th>max</th>\n",
              "      <td>98.200000</td>\n",
              "      <td>521.250600</td>\n",
              "      <td>526.424700</td>\n",
              "      <td>534.193700</td>\n",
              "    </tr>\n",
              "  </tbody>\n",
              "</table>\n",
              "</div>"
            ],
            "text/plain": [
              "       internet_users_per_100        Math     Reading     Science\n",
              "count               37.000000   37.000000   37.000000   37.000000\n",
              "mean                77.274888  477.981449  476.164608  478.299381\n",
              "std                 12.425773   35.150403   37.720545   34.450616\n",
              "min                 53.744979  371.311400  351.741500  383.682400\n",
              "25%                 68.632900  464.040100  452.514300  460.774900\n",
              "50%                 76.184000  489.728700  487.250100  490.225000\n",
              "75%                 87.479056  503.722000  499.814600  501.936900\n",
              "max                 98.200000  521.250600  526.424700  534.193700"
            ]
          },
          "metadata": {},
          "execution_count": 27
        }
      ]
    },
    {
      "cell_type": "code",
      "metadata": {
        "colab": {
          "base_uri": "https://localhost:8080/"
        },
        "id": "zoAFnWgnq20-",
        "outputId": "bf5318f3-2a28-4b06-dd91-e86445954a50"
      },
      "source": [
        "df_EU.shape"
      ],
      "execution_count": 28,
      "outputs": [
        {
          "output_type": "execute_result",
          "data": {
            "text/plain": [
              "(37, 6)"
            ]
          },
          "metadata": {},
          "execution_count": 28
        }
      ]
    },
    {
      "cell_type": "code",
      "metadata": {
        "colab": {
          "base_uri": "https://localhost:8080/"
        },
        "id": "mLLNeoItq4Py",
        "outputId": "3418f54a-c22c-4744-b318-9635f3667877"
      },
      "source": [
        "df_EU.var()"
      ],
      "execution_count": 29,
      "outputs": [
        {
          "output_type": "execute_result",
          "data": {
            "text/plain": [
              "internet_users_per_100     154.399841\n",
              "Math                      1235.550805\n",
              "Reading                   1422.839540\n",
              "Science                   1186.844969\n",
              "dtype: float64"
            ]
          },
          "metadata": {},
          "execution_count": 29
        }
      ]
    },
    {
      "cell_type": "code",
      "metadata": {
        "colab": {
          "base_uri": "https://localhost:8080/",
          "height": 321
        },
        "id": "1lpG6ZfEq5q3",
        "outputId": "9149108b-ac45-411c-9db0-6c0460b35516"
      },
      "source": [
        "fig = plt.subplots(figsize=(10, 5))\n",
        "\n",
        "sns.boxplot(data=df_EU);"
      ],
      "execution_count": 30,
      "outputs": [
        {
          "output_type": "display_data",
          "data": {
            "image/png": "[encoded data removed]",
            "text/plain": [
              "<Figure size 720x360 with 1 Axes>"
            ]
          },
          "metadata": {
            "needs_background": "light"
          }
        }
      ]
    },
    {
      "cell_type": "code",
      "metadata": {
        "colab": {
          "base_uri": "https://localhost:8080/",
          "height": 714
        },
        "id": "cvBJ5DMGq7lw",
        "outputId": "50b5a0c9-e1a8-4197-9089-29bb50fce621"
      },
      "source": [
        "fig, axs = plt.subplots(2, 2, figsize=(12, 12))\n",
        "\n",
        "sns.histplot(data=df_EU, x=\"internet_users_per_100\", kde=True, color=\"blue\", ax=axs[0, 0])\n",
        "sns.histplot(data=df_EU, x=\"Math\", kde=True, color=\"green\", ax=axs[0, 1])\n",
        "sns.histplot(data=df_EU, x=\"Reading\", kde=True, color=\"yellow\", ax=axs[1, 0])\n",
        "sns.histplot(data=df_EU, x=\"Science\", kde=True, color=\"red\", ax=axs[1, 1]);"
      ],
      "execution_count": 31,
      "outputs": [
        {
          "output_type": "display_data",
          "data": {
            "image/png": "[encoded data removed]",
            "text/plain": [
              "<Figure size 864x864 with 4 Axes>"
            ]
          },
          "metadata": {
            "needs_background": "light"
          }
        }
      ]
    },
    {
      "cell_type": "markdown",
      "metadata": {
        "id": "8ts9J9yrrAQx"
      },
      "source": [
        "##Analysis for AS"
      ]
    },
    {
      "cell_type": "code",
      "metadata": {
        "colab": {
          "base_uri": "https://localhost:8080/",
          "height": 206
        },
        "id": "Ii-VgOJeq9jT",
        "outputId": "3ebba0ea-d884-40df-9dd5-b6607eaefdc4"
      },
      "source": [
        "df_AS = df_pisa[df_pisa[\"Continent_Code\"]==\"AS\"]\n",
        "df_AS.head()"
      ],
      "execution_count": 32,
      "outputs": [
        {
          "output_type": "execute_result",
          "data": {
            "text/html": [
              "<div>\n",
              "<style scoped>\n",
              "    .dataframe tbody tr th:only-of-type {\n",
              "        vertical-align: middle;\n",
              "    }\n",
              "\n",
              "    .dataframe tbody tr th {\n",
              "        vertical-align: top;\n",
              "    }\n",
              "\n",
              "    .dataframe thead th {\n",
              "        text-align: right;\n",
              "    }\n",
              "</style>\n",
              "<table border=\"1\" class=\"dataframe\">\n",
              "  <thead>\n",
              "    <tr style=\"text-align: right;\">\n",
              "      <th></th>\n",
              "      <th>Country Code</th>\n",
              "      <th>Continent_Code</th>\n",
              "      <th>internet_users_per_100</th>\n",
              "      <th>Math</th>\n",
              "      <th>Reading</th>\n",
              "      <th>Science</th>\n",
              "    </tr>\n",
              "  </thead>\n",
              "  <tbody>\n",
              "    <tr>\n",
              "      <th>1</th>\n",
              "      <td>ARE</td>\n",
              "      <td>AS</td>\n",
              "      <td>90.500000</td>\n",
              "      <td>427.4827</td>\n",
              "      <td>433.5423</td>\n",
              "      <td>436.7311</td>\n",
              "    </tr>\n",
              "    <tr>\n",
              "      <th>11</th>\n",
              "      <td>CHN</td>\n",
              "      <td>AS</td>\n",
              "      <td>50.300000</td>\n",
              "      <td>531.2961</td>\n",
              "      <td>493.9412</td>\n",
              "      <td>517.7793</td>\n",
              "    </tr>\n",
              "    <tr>\n",
              "      <th>25</th>\n",
              "      <td>GEO</td>\n",
              "      <td>AS</td>\n",
              "      <td>47.569760</td>\n",
              "      <td>403.8332</td>\n",
              "      <td>401.2881</td>\n",
              "      <td>411.1315</td>\n",
              "    </tr>\n",
              "    <tr>\n",
              "      <th>27</th>\n",
              "      <td>HKG</td>\n",
              "      <td>AS</td>\n",
              "      <td>84.948353</td>\n",
              "      <td>547.9310</td>\n",
              "      <td>526.6753</td>\n",
              "      <td>523.2774</td>\n",
              "    </tr>\n",
              "    <tr>\n",
              "      <th>30</th>\n",
              "      <td>IDN</td>\n",
              "      <td>AS</td>\n",
              "      <td>21.976068</td>\n",
              "      <td>386.1096</td>\n",
              "      <td>397.2595</td>\n",
              "      <td>403.0997</td>\n",
              "    </tr>\n",
              "  </tbody>\n",
              "</table>\n",
              "</div>"
            ],
            "text/plain": [
              "   Country Code Continent_Code  ...   Reading   Science\n",
              "1           ARE             AS  ...  433.5423  436.7311\n",
              "11          CHN             AS  ...  493.9412  517.7793\n",
              "25          GEO             AS  ...  401.2881  411.1315\n",
              "27          HKG             AS  ...  526.6753  523.2774\n",
              "30          IDN             AS  ...  397.2595  403.0997\n",
              "\n",
              "[5 rows x 6 columns]"
            ]
          },
          "metadata": {},
          "execution_count": 32
        }
      ]
    },
    {
      "cell_type": "code",
      "metadata": {
        "colab": {
          "base_uri": "https://localhost:8080/",
          "height": 300
        },
        "id": "pX-a7XN5rDGk",
        "outputId": "93eac302-bb3d-4e07-c9a4-d055c9a0a809"
      },
      "source": [
        "df_AS.describe()"
      ],
      "execution_count": 33,
      "outputs": [
        {
          "output_type": "execute_result",
          "data": {
            "text/html": [
              "<div>\n",
              "<style scoped>\n",
              "    .dataframe tbody tr th:only-of-type {\n",
              "        vertical-align: middle;\n",
              "    }\n",
              "\n",
              "    .dataframe tbody tr th {\n",
              "        vertical-align: top;\n",
              "    }\n",
              "\n",
              "    .dataframe thead th {\n",
              "        text-align: right;\n",
              "    }\n",
              "</style>\n",
              "<table border=\"1\" class=\"dataframe\">\n",
              "  <thead>\n",
              "    <tr style=\"text-align: right;\">\n",
              "      <th></th>\n",
              "      <th>internet_users_per_100</th>\n",
              "      <th>Math</th>\n",
              "      <th>Reading</th>\n",
              "      <th>Science</th>\n",
              "    </tr>\n",
              "  </thead>\n",
              "  <tbody>\n",
              "    <tr>\n",
              "      <th>count</th>\n",
              "      <td>17.000000</td>\n",
              "      <td>17.000000</td>\n",
              "      <td>17.000000</td>\n",
              "      <td>17.000000</td>\n",
              "    </tr>\n",
              "    <tr>\n",
              "      <th>mean</th>\n",
              "      <td>68.455613</td>\n",
              "      <td>466.216647</td>\n",
              "      <td>454.059682</td>\n",
              "      <td>467.945847</td>\n",
              "    </tr>\n",
              "    <tr>\n",
              "      <th>std</th>\n",
              "      <td>21.086060</td>\n",
              "      <td>64.356490</td>\n",
              "      <td>57.048962</td>\n",
              "      <td>56.671371</td>\n",
              "    </tr>\n",
              "    <tr>\n",
              "      <th>min</th>\n",
              "      <td>21.976068</td>\n",
              "      <td>380.259000</td>\n",
              "      <td>346.549000</td>\n",
              "      <td>386.485400</td>\n",
              "    </tr>\n",
              "    <tr>\n",
              "      <th>25%</th>\n",
              "      <td>50.300000</td>\n",
              "      <td>403.833200</td>\n",
              "      <td>408.102200</td>\n",
              "      <td>417.611200</td>\n",
              "    </tr>\n",
              "    <tr>\n",
              "      <th>50%</th>\n",
              "      <td>74.000000</td>\n",
              "      <td>459.816000</td>\n",
              "      <td>433.542300</td>\n",
              "      <td>456.483600</td>\n",
              "    </tr>\n",
              "    <tr>\n",
              "      <th>75%</th>\n",
              "      <td>84.948353</td>\n",
              "      <td>531.296100</td>\n",
              "      <td>508.690500</td>\n",
              "      <td>523.277400</td>\n",
              "    </tr>\n",
              "    <tr>\n",
              "      <th>max</th>\n",
              "      <td>92.884826</td>\n",
              "      <td>564.189700</td>\n",
              "      <td>535.100200</td>\n",
              "      <td>555.574700</td>\n",
              "    </tr>\n",
              "  </tbody>\n",
              "</table>\n",
              "</div>"
            ],
            "text/plain": [
              "       internet_users_per_100        Math     Reading     Science\n",
              "count               17.000000   17.000000   17.000000   17.000000\n",
              "mean                68.455613  466.216647  454.059682  467.945847\n",
              "std                 21.086060   64.356490   57.048962   56.671371\n",
              "min                 21.976068  380.259000  346.549000  386.485400\n",
              "25%                 50.300000  403.833200  408.102200  417.611200\n",
              "50%                 74.000000  459.816000  433.542300  456.483600\n",
              "75%                 84.948353  531.296100  508.690500  523.277400\n",
              "max                 92.884826  564.189700  535.100200  555.574700"
            ]
          },
          "metadata": {},
          "execution_count": 33
        }
      ]
    },
    {
      "cell_type": "code",
      "metadata": {
        "colab": {
          "base_uri": "https://localhost:8080/"
        },
        "id": "CBu4G5MCrEzC",
        "outputId": "dd3f5fbb-bcd9-47a3-94a2-6b738483c63e"
      },
      "source": [
        "df_AS.shape"
      ],
      "execution_count": 34,
      "outputs": [
        {
          "output_type": "execute_result",
          "data": {
            "text/plain": [
              "(17, 6)"
            ]
          },
          "metadata": {},
          "execution_count": 34
        }
      ]
    },
    {
      "cell_type": "code",
      "metadata": {
        "colab": {
          "base_uri": "https://localhost:8080/"
        },
        "id": "IlbQB7QyrGLh",
        "outputId": "87d75a8a-3f09-488d-9bcc-ad050f5f1703"
      },
      "source": [
        "df_AS.var()"
      ],
      "execution_count": 35,
      "outputs": [
        {
          "output_type": "execute_result",
          "data": {
            "text/plain": [
              "internet_users_per_100     444.621918\n",
              "Math                      4141.757822\n",
              "Reading                   3254.584049\n",
              "Science                   3211.644321\n",
              "dtype: float64"
            ]
          },
          "metadata": {},
          "execution_count": 35
        }
      ]
    },
    {
      "cell_type": "code",
      "metadata": {
        "colab": {
          "base_uri": "https://localhost:8080/",
          "height": 321
        },
        "id": "e22etCU2rHhr",
        "outputId": "72ebbe52-8032-4f3c-cebc-64511720186f"
      },
      "source": [
        "fig = plt.subplots(figsize=(10, 5))\n",
        "\n",
        "sns.boxplot(data=df_AS);"
      ],
      "execution_count": 36,
      "outputs": [
        {
          "output_type": "display_data",
          "data": {
            "image/png": "[encoded data removed]",
            "text/plain": [
              "<Figure size 720x360 with 1 Axes>"
            ]
          },
          "metadata": {
            "needs_background": "light"
          }
        }
      ]
    },
    {
      "cell_type": "code",
      "metadata": {
        "colab": {
          "base_uri": "https://localhost:8080/",
          "height": 714
        },
        "id": "cAQkXqa9rJG7",
        "outputId": "80d61846-6aa9-404b-b74c-e2744808bda6"
      },
      "source": [
        "fig, axs = plt.subplots(2, 2, figsize=(12, 12))\n",
        "\n",
        "sns.histplot(data=df_AS, x=\"internet_users_per_100\", kde=True, color=\"blue\", ax=axs[0, 0])\n",
        "sns.histplot(data=df_AS, x=\"Math\", kde=True, color=\"green\", ax=axs[0, 1])\n",
        "sns.histplot(data=df_AS, x=\"Reading\", kde=True, color=\"yellow\", ax=axs[1, 0])\n",
        "sns.histplot(data=df_AS, x=\"Science\", kde=True, color=\"red\", ax=axs[1, 1]);"
      ],
      "execution_count": 37,
      "outputs": [
        {
          "output_type": "display_data",
          "data": {
            "image/png": "[encoded data removed]",
            "text/plain": [
              "<Figure size 864x864 with 4 Axes>"
            ]
          },
          "metadata": {
            "needs_background": "light"
          }
        }
      ]
    },
    {
      "cell_type": "markdown",
      "metadata": {
        "id": "mziaxYwarM5U"
      },
      "source": [
        "##Analysis for SA"
      ]
    },
    {
      "cell_type": "code",
      "metadata": {
        "colab": {
          "base_uri": "https://localhost:8080/",
          "height": 206
        },
        "id": "emA3M9ThrKxO",
        "outputId": "863f7505-6972-4015-f60f-6530d78ca0b7"
      },
      "source": [
        "df_SA = df_pisa[df_pisa[\"Continent_Code\"]==\"SA\"]\n",
        "df_SA.head()"
      ],
      "execution_count": 38,
      "outputs": [
        {
          "output_type": "execute_result",
          "data": {
            "text/html": [
              "<div>\n",
              "<style scoped>\n",
              "    .dataframe tbody tr th:only-of-type {\n",
              "        vertical-align: middle;\n",
              "    }\n",
              "\n",
              "    .dataframe tbody tr th {\n",
              "        vertical-align: top;\n",
              "    }\n",
              "\n",
              "    .dataframe thead th {\n",
              "        text-align: right;\n",
              "    }\n",
              "</style>\n",
              "<table border=\"1\" class=\"dataframe\">\n",
              "  <thead>\n",
              "    <tr style=\"text-align: right;\">\n",
              "      <th></th>\n",
              "      <th>Country Code</th>\n",
              "      <th>Continent_Code</th>\n",
              "      <th>internet_users_per_100</th>\n",
              "      <th>Math</th>\n",
              "      <th>Reading</th>\n",
              "      <th>Science</th>\n",
              "    </tr>\n",
              "  </thead>\n",
              "  <tbody>\n",
              "    <tr>\n",
              "      <th>2</th>\n",
              "      <td>ARG</td>\n",
              "      <td>SA</td>\n",
              "      <td>68.043064</td>\n",
              "      <td>409.0333</td>\n",
              "      <td>425.3031</td>\n",
              "      <td>432.2262</td>\n",
              "    </tr>\n",
              "    <tr>\n",
              "      <th>7</th>\n",
              "      <td>BRA</td>\n",
              "      <td>SA</td>\n",
              "      <td>58.327952</td>\n",
              "      <td>377.0695</td>\n",
              "      <td>407.3486</td>\n",
              "      <td>400.6821</td>\n",
              "    </tr>\n",
              "    <tr>\n",
              "      <th>10</th>\n",
              "      <td>CHL</td>\n",
              "      <td>SA</td>\n",
              "      <td>64.289000</td>\n",
              "      <td>422.6714</td>\n",
              "      <td>458.5709</td>\n",
              "      <td>446.9561</td>\n",
              "    </tr>\n",
              "    <tr>\n",
              "      <th>12</th>\n",
              "      <td>COL</td>\n",
              "      <td>SA</td>\n",
              "      <td>55.904973</td>\n",
              "      <td>389.6438</td>\n",
              "      <td>424.9052</td>\n",
              "      <td>415.7288</td>\n",
              "    </tr>\n",
              "    <tr>\n",
              "      <th>53</th>\n",
              "      <td>PER</td>\n",
              "      <td>SA</td>\n",
              "      <td>40.900000</td>\n",
              "      <td>386.5606</td>\n",
              "      <td>397.5414</td>\n",
              "      <td>396.6836</td>\n",
              "    </tr>\n",
              "  </tbody>\n",
              "</table>\n",
              "</div>"
            ],
            "text/plain": [
              "   Country Code Continent_Code  ...   Reading   Science\n",
              "2           ARG             SA  ...  425.3031  432.2262\n",
              "7           BRA             SA  ...  407.3486  400.6821\n",
              "10          CHL             SA  ...  458.5709  446.9561\n",
              "12          COL             SA  ...  424.9052  415.7288\n",
              "53          PER             SA  ...  397.5414  396.6836\n",
              "\n",
              "[5 rows x 6 columns]"
            ]
          },
          "metadata": {},
          "execution_count": 38
        }
      ]
    },
    {
      "cell_type": "code",
      "metadata": {
        "colab": {
          "base_uri": "https://localhost:8080/",
          "height": 300
        },
        "id": "wrVRJIEKrPO5",
        "outputId": "3813790f-3fe2-46ed-8a7a-5a306178ed64"
      },
      "source": [
        "df_SA.describe()"
      ],
      "execution_count": 39,
      "outputs": [
        {
          "output_type": "execute_result",
          "data": {
            "text/html": [
              "<div>\n",
              "<style scoped>\n",
              "    .dataframe tbody tr th:only-of-type {\n",
              "        vertical-align: middle;\n",
              "    }\n",
              "\n",
              "    .dataframe tbody tr th {\n",
              "        vertical-align: top;\n",
              "    }\n",
              "\n",
              "    .dataframe thead th {\n",
              "        text-align: right;\n",
              "    }\n",
              "</style>\n",
              "<table border=\"1\" class=\"dataframe\">\n",
              "  <thead>\n",
              "    <tr style=\"text-align: right;\">\n",
              "      <th></th>\n",
              "      <th>internet_users_per_100</th>\n",
              "      <th>Math</th>\n",
              "      <th>Reading</th>\n",
              "      <th>Science</th>\n",
              "    </tr>\n",
              "  </thead>\n",
              "  <tbody>\n",
              "    <tr>\n",
              "      <th>count</th>\n",
              "      <td>7.000000</td>\n",
              "      <td>7.000000</td>\n",
              "      <td>7.000000</td>\n",
              "      <td>7.000000</td>\n",
              "    </tr>\n",
              "    <tr>\n",
              "      <th>mean</th>\n",
              "      <td>60.180494</td>\n",
              "      <td>402.887700</td>\n",
              "      <td>425.359229</td>\n",
              "      <td>421.747186</td>\n",
              "    </tr>\n",
              "    <tr>\n",
              "      <th>std</th>\n",
              "      <td>9.772455</td>\n",
              "      <td>18.128894</td>\n",
              "      <td>19.709688</td>\n",
              "      <td>18.470319</td>\n",
              "    </tr>\n",
              "    <tr>\n",
              "      <th>min</th>\n",
              "      <td>40.900000</td>\n",
              "      <td>377.069500</td>\n",
              "      <td>397.541400</td>\n",
              "      <td>396.683600</td>\n",
              "    </tr>\n",
              "    <tr>\n",
              "      <th>25%</th>\n",
              "      <td>57.116462</td>\n",
              "      <td>388.102200</td>\n",
              "      <td>416.126900</td>\n",
              "      <td>408.205450</td>\n",
              "    </tr>\n",
              "    <tr>\n",
              "      <th>50%</th>\n",
              "      <td>64.289000</td>\n",
              "      <td>409.033300</td>\n",
              "      <td>425.303100</td>\n",
              "      <td>424.590500</td>\n",
              "    </tr>\n",
              "    <tr>\n",
              "      <th>75%</th>\n",
              "      <td>66.321532</td>\n",
              "      <td>417.617650</td>\n",
              "      <td>431.922700</td>\n",
              "      <td>433.794600</td>\n",
              "    </tr>\n",
              "    <tr>\n",
              "      <th>max</th>\n",
              "      <td>69.198471</td>\n",
              "      <td>422.671400</td>\n",
              "      <td>458.570900</td>\n",
              "      <td>446.956100</td>\n",
              "    </tr>\n",
              "  </tbody>\n",
              "</table>\n",
              "</div>"
            ],
            "text/plain": [
              "       internet_users_per_100        Math     Reading     Science\n",
              "count                7.000000    7.000000    7.000000    7.000000\n",
              "mean                60.180494  402.887700  425.359229  421.747186\n",
              "std                  9.772455   18.128894   19.709688   18.470319\n",
              "min                 40.900000  377.069500  397.541400  396.683600\n",
              "25%                 57.116462  388.102200  416.126900  408.205450\n",
              "50%                 64.289000  409.033300  425.303100  424.590500\n",
              "75%                 66.321532  417.617650  431.922700  433.794600\n",
              "max                 69.198471  422.671400  458.570900  446.956100"
            ]
          },
          "metadata": {},
          "execution_count": 39
        }
      ]
    },
    {
      "cell_type": "code",
      "metadata": {
        "colab": {
          "base_uri": "https://localhost:8080/"
        },
        "id": "bBQQkU9JrQhd",
        "outputId": "07dcc60b-3b7f-4cf3-b143-8e32174fa9a8"
      },
      "source": [
        "df_SA.shape"
      ],
      "execution_count": 40,
      "outputs": [
        {
          "output_type": "execute_result",
          "data": {
            "text/plain": [
              "(7, 6)"
            ]
          },
          "metadata": {},
          "execution_count": 40
        }
      ]
    },
    {
      "cell_type": "code",
      "metadata": {
        "colab": {
          "base_uri": "https://localhost:8080/"
        },
        "id": "qIdv_69VrR27",
        "outputId": "c4922c51-b3fa-403e-da3b-a039417ae400"
      },
      "source": [
        "df_SA.var()"
      ],
      "execution_count": 41,
      "outputs": [
        {
          "output_type": "execute_result",
          "data": {
            "text/plain": [
              "internet_users_per_100     95.500869\n",
              "Math                      328.656783\n",
              "Reading                   388.471816\n",
              "Science                   341.152678\n",
              "dtype: float64"
            ]
          },
          "metadata": {},
          "execution_count": 41
        }
      ]
    },
    {
      "cell_type": "code",
      "metadata": {
        "colab": {
          "base_uri": "https://localhost:8080/",
          "height": 308
        },
        "id": "BnGRcMKMrTQ4",
        "outputId": "b8b43a97-91b2-4760-dcfd-6f142c6bfea3"
      },
      "source": [
        "fig = plt.subplots(figsize=(22, 6))\n",
        "\n",
        "sns.boxplot(data=df_SA,orient=\"h\");"
      ],
      "execution_count": 42,
      "outputs": [
        {
          "output_type": "display_data",
          "data": {
            "image/png": "[encoded data removed]",
            "text/plain": [
              "<Figure size 1584x432 with 1 Axes>"
            ]
          },
          "metadata": {
            "needs_background": "light"
          }
        }
      ]
    },
    {
      "cell_type": "code",
      "metadata": {
        "colab": {
          "base_uri": "https://localhost:8080/",
          "height": 714
        },
        "id": "j9CiBkMfrUp6",
        "outputId": "92e1ed72-1461-4d45-f9da-afb1f306e9b5"
      },
      "source": [
        "fig, axs = plt.subplots(2, 2, figsize=(12, 12))\n",
        "\n",
        "sns.histplot(data=df_SA, x=\"internet_users_per_100\", kde=True, color=\"blue\", ax=axs[0, 0])\n",
        "sns.histplot(data=df_SA, x=\"Math\", kde=True, color=\"green\", ax=axs[0, 1])\n",
        "sns.histplot(data=df_SA, x=\"Reading\", kde=True, color=\"yellow\", ax=axs[1, 0])\n",
        "sns.histplot(data=df_SA, x=\"Science\", kde=True, color=\"red\", ax=axs[1, 1]);"
      ],
      "execution_count": 43,
      "outputs": [
        {
          "output_type": "display_data",
          "data": {
            "image/png": "[encoded data removed]",
            "text/plain": [
              "<Figure size 864x864 with 4 Axes>"
            ]
          },
          "metadata": {
            "needs_background": "light"
          }
        }
      ]
    },
    {
      "cell_type": "markdown",
      "metadata": {
        "id": "630wVCsFrYex"
      },
      "source": [
        "##Analysis for OC"
      ]
    },
    {
      "cell_type": "code",
      "metadata": {
        "colab": {
          "base_uri": "https://localhost:8080/",
          "height": 112
        },
        "id": "uXgyH7AOrWR-",
        "outputId": "0653e645-11fa-468f-f06a-ad0c9028ca96"
      },
      "source": [
        "df_OC = df_pisa[df_pisa[\"Continent_Code\"]==\"OC\"]\n",
        "df_OC.head()"
      ],
      "execution_count": 44,
      "outputs": [
        {
          "output_type": "execute_result",
          "data": {
            "text/html": [
              "<div>\n",
              "<style scoped>\n",
              "    .dataframe tbody tr th:only-of-type {\n",
              "        vertical-align: middle;\n",
              "    }\n",
              "\n",
              "    .dataframe tbody tr th {\n",
              "        vertical-align: top;\n",
              "    }\n",
              "\n",
              "    .dataframe thead th {\n",
              "        text-align: right;\n",
              "    }\n",
              "</style>\n",
              "<table border=\"1\" class=\"dataframe\">\n",
              "  <thead>\n",
              "    <tr style=\"text-align: right;\">\n",
              "      <th></th>\n",
              "      <th>Country Code</th>\n",
              "      <th>Continent_Code</th>\n",
              "      <th>internet_users_per_100</th>\n",
              "      <th>Math</th>\n",
              "      <th>Reading</th>\n",
              "      <th>Science</th>\n",
              "    </tr>\n",
              "  </thead>\n",
              "  <tbody>\n",
              "    <tr>\n",
              "      <th>3</th>\n",
              "      <td>AUS</td>\n",
              "      <td>OC</td>\n",
              "      <td>84.560519</td>\n",
              "      <td>493.8962</td>\n",
              "      <td>502.9006</td>\n",
              "      <td>509.9939</td>\n",
              "    </tr>\n",
              "    <tr>\n",
              "      <th>52</th>\n",
              "      <td>NZL</td>\n",
              "      <td>OC</td>\n",
              "      <td>88.222889</td>\n",
              "      <td>495.2233</td>\n",
              "      <td>509.2707</td>\n",
              "      <td>513.3035</td>\n",
              "    </tr>\n",
              "  </tbody>\n",
              "</table>\n",
              "</div>"
            ],
            "text/plain": [
              "   Country Code Continent_Code  ...   Reading   Science\n",
              "3           AUS             OC  ...  502.9006  509.9939\n",
              "52          NZL             OC  ...  509.2707  513.3035\n",
              "\n",
              "[2 rows x 6 columns]"
            ]
          },
          "metadata": {},
          "execution_count": 44
        }
      ]
    },
    {
      "cell_type": "code",
      "metadata": {
        "colab": {
          "base_uri": "https://localhost:8080/",
          "height": 300
        },
        "id": "KyGOmksqraaF",
        "outputId": "5a4d6567-85e9-4460-af43-9d15654fff22"
      },
      "source": [
        "df_OC.describe()"
      ],
      "execution_count": 45,
      "outputs": [
        {
          "output_type": "execute_result",
          "data": {
            "text/html": [
              "<div>\n",
              "<style scoped>\n",
              "    .dataframe tbody tr th:only-of-type {\n",
              "        vertical-align: middle;\n",
              "    }\n",
              "\n",
              "    .dataframe tbody tr th {\n",
              "        vertical-align: top;\n",
              "    }\n",
              "\n",
              "    .dataframe thead th {\n",
              "        text-align: right;\n",
              "    }\n",
              "</style>\n",
              "<table border=\"1\" class=\"dataframe\">\n",
              "  <thead>\n",
              "    <tr style=\"text-align: right;\">\n",
              "      <th></th>\n",
              "      <th>internet_users_per_100</th>\n",
              "      <th>Math</th>\n",
              "      <th>Reading</th>\n",
              "      <th>Science</th>\n",
              "    </tr>\n",
              "  </thead>\n",
              "  <tbody>\n",
              "    <tr>\n",
              "      <th>count</th>\n",
              "      <td>2.000000</td>\n",
              "      <td>2.000000</td>\n",
              "      <td>2.000000</td>\n",
              "      <td>2.000000</td>\n",
              "    </tr>\n",
              "    <tr>\n",
              "      <th>mean</th>\n",
              "      <td>86.391704</td>\n",
              "      <td>494.559750</td>\n",
              "      <td>506.085650</td>\n",
              "      <td>511.648700</td>\n",
              "    </tr>\n",
              "    <tr>\n",
              "      <th>std</th>\n",
              "      <td>2.589686</td>\n",
              "      <td>0.938401</td>\n",
              "      <td>4.504341</td>\n",
              "      <td>2.340241</td>\n",
              "    </tr>\n",
              "    <tr>\n",
              "      <th>min</th>\n",
              "      <td>84.560519</td>\n",
              "      <td>493.896200</td>\n",
              "      <td>502.900600</td>\n",
              "      <td>509.993900</td>\n",
              "    </tr>\n",
              "    <tr>\n",
              "      <th>25%</th>\n",
              "      <td>85.476112</td>\n",
              "      <td>494.227975</td>\n",
              "      <td>504.493125</td>\n",
              "      <td>510.821300</td>\n",
              "    </tr>\n",
              "    <tr>\n",
              "      <th>50%</th>\n",
              "      <td>86.391704</td>\n",
              "      <td>494.559750</td>\n",
              "      <td>506.085650</td>\n",
              "      <td>511.648700</td>\n",
              "    </tr>\n",
              "    <tr>\n",
              "      <th>75%</th>\n",
              "      <td>87.307296</td>\n",
              "      <td>494.891525</td>\n",
              "      <td>507.678175</td>\n",
              "      <td>512.476100</td>\n",
              "    </tr>\n",
              "    <tr>\n",
              "      <th>max</th>\n",
              "      <td>88.222889</td>\n",
              "      <td>495.223300</td>\n",
              "      <td>509.270700</td>\n",
              "      <td>513.303500</td>\n",
              "    </tr>\n",
              "  </tbody>\n",
              "</table>\n",
              "</div>"
            ],
            "text/plain": [
              "       internet_users_per_100        Math     Reading     Science\n",
              "count                2.000000    2.000000    2.000000    2.000000\n",
              "mean                86.391704  494.559750  506.085650  511.648700\n",
              "std                  2.589686    0.938401    4.504341    2.340241\n",
              "min                 84.560519  493.896200  502.900600  509.993900\n",
              "25%                 85.476112  494.227975  504.493125  510.821300\n",
              "50%                 86.391704  494.559750  506.085650  511.648700\n",
              "75%                 87.307296  494.891525  507.678175  512.476100\n",
              "max                 88.222889  495.223300  509.270700  513.303500"
            ]
          },
          "metadata": {},
          "execution_count": 45
        }
      ]
    },
    {
      "cell_type": "code",
      "metadata": {
        "colab": {
          "base_uri": "https://localhost:8080/"
        },
        "id": "tvEkndk0rb5U",
        "outputId": "2653f6d7-f462-4fef-d125-5d934ef1d423"
      },
      "source": [
        "df_OC.shape"
      ],
      "execution_count": 46,
      "outputs": [
        {
          "output_type": "execute_result",
          "data": {
            "text/plain": [
              "(2, 6)"
            ]
          },
          "metadata": {},
          "execution_count": 46
        }
      ]
    },
    {
      "cell_type": "code",
      "metadata": {
        "colab": {
          "base_uri": "https://localhost:8080/"
        },
        "id": "BOAqTQpmrdQX",
        "outputId": "29c06b20-9feb-4e0b-e6af-35e20866594d"
      },
      "source": [
        "df_OC.var()"
      ],
      "execution_count": 47,
      "outputs": [
        {
          "output_type": "execute_result",
          "data": {
            "text/plain": [
              "internet_users_per_100     6.706475\n",
              "Math                       0.880597\n",
              "Reading                   20.289087\n",
              "Science                    5.476726\n",
              "dtype: float64"
            ]
          },
          "metadata": {},
          "execution_count": 47
        }
      ]
    },
    {
      "cell_type": "code",
      "metadata": {
        "colab": {
          "base_uri": "https://localhost:8080/",
          "height": 375
        },
        "id": "JJJCiWl3relw",
        "outputId": "e4ff7bf5-32f5-4023-dd81-0d7afe857407"
      },
      "source": [
        "fig = plt.subplots(figsize=(10, 6))\n",
        "\n",
        "sns.boxplot(data=df_OC);"
      ],
      "execution_count": 48,
      "outputs": [
        {
          "output_type": "display_data",
          "data": {
            "image/png": "[encoded data removed]",
            "text/plain": [
              "<Figure size 720x432 with 1 Axes>"
            ]
          },
          "metadata": {
            "needs_background": "light"
          }
        }
      ]
    },
    {
      "cell_type": "code",
      "metadata": {
        "colab": {
          "base_uri": "https://localhost:8080/",
          "height": 714
        },
        "id": "j8Ex3r-xrf9G",
        "outputId": "a7490168-ba68-421c-95ac-d3e45636a9df"
      },
      "source": [
        "fig, axs = plt.subplots(2, 2, figsize=(12, 12))\n",
        "\n",
        "sns.histplot(data=df_OC, x=\"internet_users_per_100\", kde=True, color=\"blue\", ax=axs[0, 0])\n",
        "sns.histplot(data=df_OC, x=\"Math\", kde=True, color=\"green\", ax=axs[0, 1])\n",
        "sns.histplot(data=df_OC, x=\"Reading\", kde=True, color=\"yellow\", ax=axs[1, 0])\n",
        "sns.histplot(data=df_OC, x=\"Science\", kde=True, color=\"red\", ax=axs[1, 1]);"
      ],
      "execution_count": 49,
      "outputs": [
        {
          "output_type": "display_data",
          "data": {
            "image/png": "[encoded data removed]",
            "text/plain": [
              "<Figure size 864x864 with 4 Axes>"
            ]
          },
          "metadata": {
            "needs_background": "light"
          }
        }
      ]
    },
    {
      "cell_type": "markdown",
      "metadata": {
        "id": "ERgiB3jQrjr2"
      },
      "source": [
        "##Analysis for AF"
      ]
    },
    {
      "cell_type": "code",
      "metadata": {
        "colab": {
          "base_uri": "https://localhost:8080/",
          "height": 206
        },
        "id": "tixjMPCRrhzR",
        "outputId": "1300ac9c-0e76-4029-e096-a4718b230732"
      },
      "source": [
        "df_AF = df_pisa[df_pisa[\"Continent_Code\"]==\"SA\"]\n",
        "df_AF.head()"
      ],
      "execution_count": 50,
      "outputs": [
        {
          "output_type": "execute_result",
          "data": {
            "text/html": [
              "<div>\n",
              "<style scoped>\n",
              "    .dataframe tbody tr th:only-of-type {\n",
              "        vertical-align: middle;\n",
              "    }\n",
              "\n",
              "    .dataframe tbody tr th {\n",
              "        vertical-align: top;\n",
              "    }\n",
              "\n",
              "    .dataframe thead th {\n",
              "        text-align: right;\n",
              "    }\n",
              "</style>\n",
              "<table border=\"1\" class=\"dataframe\">\n",
              "  <thead>\n",
              "    <tr style=\"text-align: right;\">\n",
              "      <th></th>\n",
              "      <th>Country Code</th>\n",
              "      <th>Continent_Code</th>\n",
              "      <th>internet_users_per_100</th>\n",
              "      <th>Math</th>\n",
              "      <th>Reading</th>\n",
              "      <th>Science</th>\n",
              "    </tr>\n",
              "  </thead>\n",
              "  <tbody>\n",
              "    <tr>\n",
              "      <th>2</th>\n",
              "      <td>ARG</td>\n",
              "      <td>SA</td>\n",
              "      <td>68.043064</td>\n",
              "      <td>409.0333</td>\n",
              "      <td>425.3031</td>\n",
              "      <td>432.2262</td>\n",
              "    </tr>\n",
              "    <tr>\n",
              "      <th>7</th>\n",
              "      <td>BRA</td>\n",
              "      <td>SA</td>\n",
              "      <td>58.327952</td>\n",
              "      <td>377.0695</td>\n",
              "      <td>407.3486</td>\n",
              "      <td>400.6821</td>\n",
              "    </tr>\n",
              "    <tr>\n",
              "      <th>10</th>\n",
              "      <td>CHL</td>\n",
              "      <td>SA</td>\n",
              "      <td>64.289000</td>\n",
              "      <td>422.6714</td>\n",
              "      <td>458.5709</td>\n",
              "      <td>446.9561</td>\n",
              "    </tr>\n",
              "    <tr>\n",
              "      <th>12</th>\n",
              "      <td>COL</td>\n",
              "      <td>SA</td>\n",
              "      <td>55.904973</td>\n",
              "      <td>389.6438</td>\n",
              "      <td>424.9052</td>\n",
              "      <td>415.7288</td>\n",
              "    </tr>\n",
              "    <tr>\n",
              "      <th>53</th>\n",
              "      <td>PER</td>\n",
              "      <td>SA</td>\n",
              "      <td>40.900000</td>\n",
              "      <td>386.5606</td>\n",
              "      <td>397.5414</td>\n",
              "      <td>396.6836</td>\n",
              "    </tr>\n",
              "  </tbody>\n",
              "</table>\n",
              "</div>"
            ],
            "text/plain": [
              "   Country Code Continent_Code  ...   Reading   Science\n",
              "2           ARG             SA  ...  425.3031  432.2262\n",
              "7           BRA             SA  ...  407.3486  400.6821\n",
              "10          CHL             SA  ...  458.5709  446.9561\n",
              "12          COL             SA  ...  424.9052  415.7288\n",
              "53          PER             SA  ...  397.5414  396.6836\n",
              "\n",
              "[5 rows x 6 columns]"
            ]
          },
          "metadata": {},
          "execution_count": 50
        }
      ]
    },
    {
      "cell_type": "code",
      "metadata": {
        "colab": {
          "base_uri": "https://localhost:8080/",
          "height": 300
        },
        "id": "0BOj7CwRrll_",
        "outputId": "ae08456f-9a8e-42e0-d10d-06cb6510a5fd"
      },
      "source": [
        "df_AF.describe()"
      ],
      "execution_count": 51,
      "outputs": [
        {
          "output_type": "execute_result",
          "data": {
            "text/html": [
              "<div>\n",
              "<style scoped>\n",
              "    .dataframe tbody tr th:only-of-type {\n",
              "        vertical-align: middle;\n",
              "    }\n",
              "\n",
              "    .dataframe tbody tr th {\n",
              "        vertical-align: top;\n",
              "    }\n",
              "\n",
              "    .dataframe thead th {\n",
              "        text-align: right;\n",
              "    }\n",
              "</style>\n",
              "<table border=\"1\" class=\"dataframe\">\n",
              "  <thead>\n",
              "    <tr style=\"text-align: right;\">\n",
              "      <th></th>\n",
              "      <th>internet_users_per_100</th>\n",
              "      <th>Math</th>\n",
              "      <th>Reading</th>\n",
              "      <th>Science</th>\n",
              "    </tr>\n",
              "  </thead>\n",
              "  <tbody>\n",
              "    <tr>\n",
              "      <th>count</th>\n",
              "      <td>7.000000</td>\n",
              "      <td>7.000000</td>\n",
              "      <td>7.000000</td>\n",
              "      <td>7.000000</td>\n",
              "    </tr>\n",
              "    <tr>\n",
              "      <th>mean</th>\n",
              "      <td>60.180494</td>\n",
              "      <td>402.887700</td>\n",
              "      <td>425.359229</td>\n",
              "      <td>421.747186</td>\n",
              "    </tr>\n",
              "    <tr>\n",
              "      <th>std</th>\n",
              "      <td>9.772455</td>\n",
              "      <td>18.128894</td>\n",
              "      <td>19.709688</td>\n",
              "      <td>18.470319</td>\n",
              "    </tr>\n",
              "    <tr>\n",
              "      <th>min</th>\n",
              "      <td>40.900000</td>\n",
              "      <td>377.069500</td>\n",
              "      <td>397.541400</td>\n",
              "      <td>396.683600</td>\n",
              "    </tr>\n",
              "    <tr>\n",
              "      <th>25%</th>\n",
              "      <td>57.116462</td>\n",
              "      <td>388.102200</td>\n",
              "      <td>416.126900</td>\n",
              "      <td>408.205450</td>\n",
              "    </tr>\n",
              "    <tr>\n",
              "      <th>50%</th>\n",
              "      <td>64.289000</td>\n",
              "      <td>409.033300</td>\n",
              "      <td>425.303100</td>\n",
              "      <td>424.590500</td>\n",
              "    </tr>\n",
              "    <tr>\n",
              "      <th>75%</th>\n",
              "      <td>66.321532</td>\n",
              "      <td>417.617650</td>\n",
              "      <td>431.922700</td>\n",
              "      <td>433.794600</td>\n",
              "    </tr>\n",
              "    <tr>\n",
              "      <th>max</th>\n",
              "      <td>69.198471</td>\n",
              "      <td>422.671400</td>\n",
              "      <td>458.570900</td>\n",
              "      <td>446.956100</td>\n",
              "    </tr>\n",
              "  </tbody>\n",
              "</table>\n",
              "</div>"
            ],
            "text/plain": [
              "       internet_users_per_100        Math     Reading     Science\n",
              "count                7.000000    7.000000    7.000000    7.000000\n",
              "mean                60.180494  402.887700  425.359229  421.747186\n",
              "std                  9.772455   18.128894   19.709688   18.470319\n",
              "min                 40.900000  377.069500  397.541400  396.683600\n",
              "25%                 57.116462  388.102200  416.126900  408.205450\n",
              "50%                 64.289000  409.033300  425.303100  424.590500\n",
              "75%                 66.321532  417.617650  431.922700  433.794600\n",
              "max                 69.198471  422.671400  458.570900  446.956100"
            ]
          },
          "metadata": {},
          "execution_count": 51
        }
      ]
    },
    {
      "cell_type": "code",
      "metadata": {
        "colab": {
          "base_uri": "https://localhost:8080/"
        },
        "id": "YI1ZLhyArnBI",
        "outputId": "dace3cb9-a971-4ec3-fce3-43327a22a80b"
      },
      "source": [
        "df_AF.shape"
      ],
      "execution_count": 52,
      "outputs": [
        {
          "output_type": "execute_result",
          "data": {
            "text/plain": [
              "(7, 6)"
            ]
          },
          "metadata": {},
          "execution_count": 52
        }
      ]
    },
    {
      "cell_type": "code",
      "metadata": {
        "colab": {
          "base_uri": "https://localhost:8080/"
        },
        "id": "0x6DtUaSropI",
        "outputId": "50996c25-e2e6-46e4-d1d3-870ad4005b95"
      },
      "source": [
        "df_AF.var()"
      ],
      "execution_count": 53,
      "outputs": [
        {
          "output_type": "execute_result",
          "data": {
            "text/plain": [
              "internet_users_per_100     95.500869\n",
              "Math                      328.656783\n",
              "Reading                   388.471816\n",
              "Science                   341.152678\n",
              "dtype: float64"
            ]
          },
          "metadata": {},
          "execution_count": 53
        }
      ]
    },
    {
      "cell_type": "code",
      "metadata": {
        "colab": {
          "base_uri": "https://localhost:8080/",
          "height": 375
        },
        "id": "wqYtF4FtrqNi",
        "outputId": "c425b153-344f-4b2b-98b6-e157f3a6196a"
      },
      "source": [
        "fig = plt.subplots(figsize=(10, 6))\n",
        "\n",
        "sns.boxplot(data=df_AF);"
      ],
      "execution_count": 54,
      "outputs": [
        {
          "output_type": "display_data",
          "data": {
            "image/png": "[encoded data removed]",
            "text/plain": [
              "<Figure size 720x432 with 1 Axes>"
            ]
          },
          "metadata": {
            "needs_background": "light"
          }
        }
      ]
    },
    {
      "cell_type": "code",
      "metadata": {
        "colab": {
          "base_uri": "https://localhost:8080/",
          "height": 714
        },
        "id": "oZYMDukorrxc",
        "outputId": "edd3be84-bc6b-4f38-9623-3335fcf06d47"
      },
      "source": [
        "fig, axs = plt.subplots(2, 2, figsize=(12, 12))\n",
        "\n",
        "sns.histplot(data=df_AF, x=\"internet_users_per_100\", kde=True, color=\"blue\", ax=axs[0, 0])\n",
        "sns.histplot(data=df_AF, x=\"Math\", kde=True, color=\"green\", ax=axs[0, 1])\n",
        "sns.histplot(data=df_AF, x=\"Reading\", kde=True, color=\"yellow\", ax=axs[1, 0])\n",
        "sns.histplot(data=df_AF, x=\"Science\", kde=True, color=\"red\", ax=axs[1, 1]);"
      ],
      "execution_count": 55,
      "outputs": [
        {
          "output_type": "display_data",
          "data": {
            "image/png": "[encoded data removed]",
            "text/plain": [
              "<Figure size 864x864 with 4 Axes>"
            ]
          },
          "metadata": {
            "needs_background": "light"
          }
        }
      ]
    },
    {
      "cell_type": "markdown",
      "metadata": {
        "id": "riQ5-vEArvQ9"
      },
      "source": [
        "####(ii) Determine whether there is any difference (on the average) for the math scores among European (EU) and Asian (AS) countries (assume normality and equal variances). Draw side-by-side box plots."
      ]
    },
    {
      "cell_type": "code",
      "metadata": {
        "colab": {
          "base_uri": "https://localhost:8080/"
        },
        "id": "NFp-bDahrtZ0",
        "outputId": "e16bf01c-a213-4af7-b58f-d9c6285ec6f7"
      },
      "source": [
        "statistic, pvalue = stats.ttest_ind(df_EU.Math, df_AS.Math, nan_policy='omit')  # independet T test\n",
        "\n",
        "statistic, pvalue"
      ],
      "execution_count": 56,
      "outputs": [
        {
          "output_type": "execute_result",
          "data": {
            "text/plain": [
              "(0.870055317967983, 0.38826888111307345)"
            ]
          },
          "metadata": {},
          "execution_count": 56
        }
      ]
    },
    {
      "cell_type": "code",
      "metadata": {
        "colab": {
          "base_uri": "https://localhost:8080/"
        },
        "id": "-mtBo8gVr1ka",
        "outputId": "f526bf18-1413-45d6-d263-e9e4a8d6526e"
      },
      "source": [
        "crtc_pvalue = 0.025\n",
        "\n",
        "if pvalue < crtc_pvalue:\n",
        "    print(\"Reject the Null\")\n",
        "else:\n",
        "    print(\"Fail to reject\")"
      ],
      "execution_count": 57,
      "outputs": [
        {
          "output_type": "stream",
          "name": "stdout",
          "text": [
            "Fail to reject\n"
          ]
        }
      ]
    },
    {
      "cell_type": "code",
      "metadata": {
        "colab": {
          "base_uri": "https://localhost:8080/",
          "height": 241
        },
        "id": "n4UfdgKzr3Yz",
        "outputId": "756caaab-b28e-4e15-a1e0-8da7a7508583"
      },
      "source": [
        "fig, axes = plt.subplots(1,2, figsize=(12,3))\n",
        "\n",
        "sns.boxplot(df_EU['Math'], ax=axes[0]).set(title='PISA Math Scores in EU')\n",
        "sns.boxplot(df_AS['Math'], ax=axes[1]).set(title='PISA Math Scores in AS')\n",
        "\n",
        "axes[0].set(xlabel='Math Scores in EU')\n",
        "axes[1].set(xlabel='Math Scores in AS');"
      ],
      "execution_count": 58,
      "outputs": [
        {
          "output_type": "display_data",
          "data": {
            "image/png": "[encoded data removed]",
            "text/plain": [
              "<Figure size 864x216 with 2 Axes>"
            ]
          },
          "metadata": {
            "needs_background": "light"
          }
        }
      ]
    },
    {
      "cell_type": "markdown",
      "metadata": {
        "id": "xA85Q4_Kr7fq"
      },
      "source": [
        "####EXERCISE 4.\n",
        "\n",
        "The sample dataset has placement test scores (out of 100 points) for four subject areas: English, Reading, Math, and Writing. Students in the sample completed all 4 placement tests when they enrolled in the university. Suppose we are particularly interested in the English and Math sections, and want to determine whether students tended to score higher on their English or Math test, on average. We could use a paired t test to test if there was a significant difference in the average of the two tests."
      ]
    },
    {
      "cell_type": "code",
      "metadata": {
        "id": "4fo_M6agr4xg"
      },
      "source": [
        "df_scores = pd.read_csv(\"students_2014 - students_2014.csv\", sep = \",\", na_values = \".\", index_col = 0)"
      ],
      "execution_count": 60,
      "outputs": []
    },
    {
      "cell_type": "code",
      "metadata": {
        "colab": {
          "base_uri": "https://localhost:8080/",
          "height": 344
        },
        "id": "dVwKVpHAsAhN",
        "outputId": "0c5ab67b-24b6-41b2-ee59-2f7306ba0ddb"
      },
      "source": [
        "df_scores.sample(5)"
      ],
      "execution_count": 61,
      "outputs": [
        {
          "output_type": "execute_result",
          "data": {
            "text/html": [
              "<div>\n",
              "<style scoped>\n",
              "    .dataframe tbody tr th:only-of-type {\n",
              "        vertical-align: middle;\n",
              "    }\n",
              "\n",
              "    .dataframe tbody tr th {\n",
              "        vertical-align: top;\n",
              "    }\n",
              "\n",
              "    .dataframe thead th {\n",
              "        text-align: right;\n",
              "    }\n",
              "</style>\n",
              "<table border=\"1\" class=\"dataframe\">\n",
              "  <thead>\n",
              "    <tr style=\"text-align: right;\">\n",
              "      <th></th>\n",
              "      <th>bday</th>\n",
              "      <th>enrolldate</th>\n",
              "      <th>expgradate</th>\n",
              "      <th>Rank</th>\n",
              "      <th>Major</th>\n",
              "      <th>Gender</th>\n",
              "      <th>Athlete</th>\n",
              "      <th>Height</th>\n",
              "      <th>Weight</th>\n",
              "      <th>Smoking</th>\n",
              "      <th>Sprint</th>\n",
              "      <th>MileMinDur</th>\n",
              "      <th>English</th>\n",
              "      <th>Reading</th>\n",
              "      <th>Math</th>\n",
              "      <th>Writing</th>\n",
              "      <th>State</th>\n",
              "      <th>LiveOnCampus</th>\n",
              "      <th>HowCommute</th>\n",
              "      <th>CommuteTime</th>\n",
              "      <th>SleepTime</th>\n",
              "      <th>StudyTime</th>\n",
              "    </tr>\n",
              "    <tr>\n",
              "      <th>ids</th>\n",
              "      <th></th>\n",
              "      <th></th>\n",
              "      <th></th>\n",
              "      <th></th>\n",
              "      <th></th>\n",
              "      <th></th>\n",
              "      <th></th>\n",
              "      <th></th>\n",
              "      <th></th>\n",
              "      <th></th>\n",
              "      <th></th>\n",
              "      <th></th>\n",
              "      <th></th>\n",
              "      <th></th>\n",
              "      <th></th>\n",
              "      <th></th>\n",
              "      <th></th>\n",
              "      <th></th>\n",
              "      <th></th>\n",
              "      <th></th>\n",
              "      <th></th>\n",
              "      <th></th>\n",
              "    </tr>\n",
              "  </thead>\n",
              "  <tbody>\n",
              "    <tr>\n",
              "      <th>31576</th>\n",
              "      <td>8/16/1994</td>\n",
              "      <td>5-Aug-2013</td>\n",
              "      <td>14-May-2018</td>\n",
              "      <td>2.0</td>\n",
              "      <td>NaN</td>\n",
              "      <td>1.0</td>\n",
              "      <td>1</td>\n",
              "      <td>65.02</td>\n",
              "      <td>143.05</td>\n",
              "      <td>0.0</td>\n",
              "      <td>5.644</td>\n",
              "      <td>0:07:00</td>\n",
              "      <td>NaN</td>\n",
              "      <td>80.45</td>\n",
              "      <td>66.51</td>\n",
              "      <td>72.36</td>\n",
              "      <td>In state</td>\n",
              "      <td>1.0</td>\n",
              "      <td>NaN</td>\n",
              "      <td>NaN</td>\n",
              "      <td>8.0</td>\n",
              "      <td>1.0</td>\n",
              "    </tr>\n",
              "    <tr>\n",
              "      <th>49445</th>\n",
              "      <td>1/13/1992</td>\n",
              "      <td>5-Aug-2013</td>\n",
              "      <td>13-May-2019</td>\n",
              "      <td>2.0</td>\n",
              "      <td>music tech (production)</td>\n",
              "      <td>0.0</td>\n",
              "      <td>1</td>\n",
              "      <td>80.71</td>\n",
              "      <td>206.96</td>\n",
              "      <td>NaN</td>\n",
              "      <td>4.930</td>\n",
              "      <td>0:06:25</td>\n",
              "      <td>93.57</td>\n",
              "      <td>85.35</td>\n",
              "      <td>66.54</td>\n",
              "      <td>82.41</td>\n",
              "      <td>In state</td>\n",
              "      <td>0.0</td>\n",
              "      <td>3.0</td>\n",
              "      <td>31.0</td>\n",
              "      <td>10.0</td>\n",
              "      <td>NaN</td>\n",
              "    </tr>\n",
              "    <tr>\n",
              "      <th>27638</th>\n",
              "      <td>10/4/1992</td>\n",
              "      <td>6-Aug-2012</td>\n",
              "      <td>14-May-2018</td>\n",
              "      <td>3.0</td>\n",
              "      <td>graphic design</td>\n",
              "      <td>0.0</td>\n",
              "      <td>0</td>\n",
              "      <td>69.99</td>\n",
              "      <td>291.73</td>\n",
              "      <td>0.0</td>\n",
              "      <td>7.460</td>\n",
              "      <td>NaN</td>\n",
              "      <td>NaN</td>\n",
              "      <td>69.84</td>\n",
              "      <td>60.41</td>\n",
              "      <td>86.99</td>\n",
              "      <td>Out of state</td>\n",
              "      <td>0.0</td>\n",
              "      <td>1.0</td>\n",
              "      <td>16.0</td>\n",
              "      <td>5.0</td>\n",
              "      <td>5.0</td>\n",
              "    </tr>\n",
              "    <tr>\n",
              "      <th>26199</th>\n",
              "      <td>10/22/1991</td>\n",
              "      <td>5-Aug-2013</td>\n",
              "      <td>14-May-2018</td>\n",
              "      <td>2.0</td>\n",
              "      <td>bphil</td>\n",
              "      <td>1.0</td>\n",
              "      <td>0</td>\n",
              "      <td>64.88</td>\n",
              "      <td>162.80</td>\n",
              "      <td>0.0</td>\n",
              "      <td>7.990</td>\n",
              "      <td>0:12:06</td>\n",
              "      <td>83.20</td>\n",
              "      <td>76.03</td>\n",
              "      <td>54.85</td>\n",
              "      <td>85.80</td>\n",
              "      <td>In state</td>\n",
              "      <td>0.0</td>\n",
              "      <td>3.0</td>\n",
              "      <td>20.0</td>\n",
              "      <td>2.0</td>\n",
              "      <td>8.0</td>\n",
              "    </tr>\n",
              "    <tr>\n",
              "      <th>21939</th>\n",
              "      <td>12/12/1995</td>\n",
              "      <td>4-Aug-2014</td>\n",
              "      <td>11-May-2020</td>\n",
              "      <td>1.0</td>\n",
              "      <td>NaN</td>\n",
              "      <td>0.0</td>\n",
              "      <td>1</td>\n",
              "      <td>66.09</td>\n",
              "      <td>NaN</td>\n",
              "      <td>0.0</td>\n",
              "      <td>5.326</td>\n",
              "      <td>0:07:28</td>\n",
              "      <td>87.70</td>\n",
              "      <td>81.10</td>\n",
              "      <td>61.61</td>\n",
              "      <td>NaN</td>\n",
              "      <td>In state</td>\n",
              "      <td>0.0</td>\n",
              "      <td>3.0</td>\n",
              "      <td>39.0</td>\n",
              "      <td>6.0</td>\n",
              "      <td>5.0</td>\n",
              "    </tr>\n",
              "  </tbody>\n",
              "</table>\n",
              "</div>"
            ],
            "text/plain": [
              "             bday  enrolldate   expgradate  ...  CommuteTime SleepTime  StudyTime\n",
              "ids                                         ...                                  \n",
              "31576   8/16/1994  5-Aug-2013  14-May-2018  ...          NaN       8.0        1.0\n",
              "49445   1/13/1992  5-Aug-2013  13-May-2019  ...         31.0      10.0        NaN\n",
              "27638   10/4/1992  6-Aug-2012  14-May-2018  ...         16.0       5.0        5.0\n",
              "26199  10/22/1991  5-Aug-2013  14-May-2018  ...         20.0       2.0        8.0\n",
              "21939  12/12/1995  4-Aug-2014  11-May-2020  ...         39.0       6.0        5.0\n",
              "\n",
              "[5 rows x 22 columns]"
            ]
          },
          "metadata": {},
          "execution_count": 61
        }
      ]
    },
    {
      "cell_type": "code",
      "metadata": {
        "colab": {
          "base_uri": "https://localhost:8080/"
        },
        "id": "ahwtAndvsK4F",
        "outputId": "60f9223f-8914-4ad4-98f3-fe2e7839c0b4"
      },
      "source": [
        "df_scores.shape"
      ],
      "execution_count": 62,
      "outputs": [
        {
          "output_type": "execute_result",
          "data": {
            "text/plain": [
              "(435, 22)"
            ]
          },
          "metadata": {},
          "execution_count": 62
        }
      ]
    },
    {
      "cell_type": "code",
      "metadata": {
        "colab": {
          "base_uri": "https://localhost:8080/"
        },
        "id": "JLHRa8jKsMcy",
        "outputId": "68c41b7b-dbb6-4cc8-d5b6-1950cb5b8a21"
      },
      "source": [
        "df_scores[[\"English\", \"Math\"]].isnull().value_counts()"
      ],
      "execution_count": 63,
      "outputs": [
        {
          "output_type": "execute_result",
          "data": {
            "text/plain": [
              "English  Math \n",
              "False    False    398\n",
              "True     False     24\n",
              "False    True      11\n",
              "True     True       2\n",
              "dtype: int64"
            ]
          },
          "metadata": {},
          "execution_count": 63
        }
      ]
    },
    {
      "cell_type": "code",
      "metadata": {
        "id": "JKOOJzVmsODX"
      },
      "source": [
        "df_scoresdrop = df_scores[[\"English\", \"Math\"]].dropna()"
      ],
      "execution_count": 64,
      "outputs": []
    },
    {
      "cell_type": "code",
      "metadata": {
        "colab": {
          "base_uri": "https://localhost:8080/"
        },
        "id": "F7VPVef5sPSN",
        "outputId": "37ff21bc-1f56-472b-ffd6-792e10749c6f"
      },
      "source": [
        "df_scoresdrop.info()"
      ],
      "execution_count": 65,
      "outputs": [
        {
          "output_type": "stream",
          "name": "stdout",
          "text": [
            "<class 'pandas.core.frame.DataFrame'>\n",
            "Int64Index: 398 entries, 43783 to 39298\n",
            "Data columns (total 2 columns):\n",
            " #   Column   Non-Null Count  Dtype  \n",
            "---  ------   --------------  -----  \n",
            " 0   English  398 non-null    float64\n",
            " 1   Math     398 non-null    float64\n",
            "dtypes: float64(2)\n",
            "memory usage: 9.3 KB\n"
          ]
        }
      ]
    },
    {
      "cell_type": "code",
      "metadata": {
        "colab": {
          "base_uri": "https://localhost:8080/",
          "height": 300
        },
        "id": "IztKb0pLsQbV",
        "outputId": "cd744dae-ffb8-478f-bbc6-b7bf01eb0d60"
      },
      "source": [
        "df_scores[[\"English\", \"Math\"]].describe()"
      ],
      "execution_count": 66,
      "outputs": [
        {
          "output_type": "execute_result",
          "data": {
            "text/html": [
              "<div>\n",
              "<style scoped>\n",
              "    .dataframe tbody tr th:only-of-type {\n",
              "        vertical-align: middle;\n",
              "    }\n",
              "\n",
              "    .dataframe tbody tr th {\n",
              "        vertical-align: top;\n",
              "    }\n",
              "\n",
              "    .dataframe thead th {\n",
              "        text-align: right;\n",
              "    }\n",
              "</style>\n",
              "<table border=\"1\" class=\"dataframe\">\n",
              "  <thead>\n",
              "    <tr style=\"text-align: right;\">\n",
              "      <th></th>\n",
              "      <th>English</th>\n",
              "      <th>Math</th>\n",
              "    </tr>\n",
              "  </thead>\n",
              "  <tbody>\n",
              "    <tr>\n",
              "      <th>count</th>\n",
              "      <td>409.000000</td>\n",
              "      <td>422.000000</td>\n",
              "    </tr>\n",
              "    <tr>\n",
              "      <th>mean</th>\n",
              "      <td>82.787555</td>\n",
              "      <td>65.468009</td>\n",
              "    </tr>\n",
              "    <tr>\n",
              "      <th>std</th>\n",
              "      <td>6.839803</td>\n",
              "      <td>8.375930</td>\n",
              "    </tr>\n",
              "    <tr>\n",
              "      <th>min</th>\n",
              "      <td>59.830000</td>\n",
              "      <td>35.320000</td>\n",
              "    </tr>\n",
              "    <tr>\n",
              "      <th>25%</th>\n",
              "      <td>78.330000</td>\n",
              "      <td>60.202500</td>\n",
              "    </tr>\n",
              "    <tr>\n",
              "      <th>50%</th>\n",
              "      <td>83.150000</td>\n",
              "      <td>65.445000</td>\n",
              "    </tr>\n",
              "    <tr>\n",
              "      <th>75%</th>\n",
              "      <td>87.170000</td>\n",
              "      <td>70.567500</td>\n",
              "    </tr>\n",
              "    <tr>\n",
              "      <th>max</th>\n",
              "      <td>101.950000</td>\n",
              "      <td>93.780000</td>\n",
              "    </tr>\n",
              "  </tbody>\n",
              "</table>\n",
              "</div>"
            ],
            "text/plain": [
              "          English        Math\n",
              "count  409.000000  422.000000\n",
              "mean    82.787555   65.468009\n",
              "std      6.839803    8.375930\n",
              "min     59.830000   35.320000\n",
              "25%     78.330000   60.202500\n",
              "50%     83.150000   65.445000\n",
              "75%     87.170000   70.567500\n",
              "max    101.950000   93.780000"
            ]
          },
          "metadata": {},
          "execution_count": 66
        }
      ]
    },
    {
      "cell_type": "code",
      "metadata": {
        "colab": {
          "base_uri": "https://localhost:8080/"
        },
        "id": "tqI4wpxpsR5U",
        "outputId": "0013a839-034e-4445-83b8-eef4192b2450"
      },
      "source": [
        "Eng_mean =df_scores['English'].mean()\n",
        "Eng_mean"
      ],
      "execution_count": 67,
      "outputs": [
        {
          "output_type": "execute_result",
          "data": {
            "text/plain": [
              "82.78755501222493"
            ]
          },
          "metadata": {},
          "execution_count": 67
        }
      ]
    },
    {
      "cell_type": "code",
      "metadata": {
        "colab": {
          "base_uri": "https://localhost:8080/"
        },
        "id": "H51ruFO5sTQk",
        "outputId": "1dfdd029-888b-4bc8-e360-c27877b7877b"
      },
      "source": [
        "Math_mean = df_scores['Math'].mean()\n",
        "Math_mean"
      ],
      "execution_count": 68,
      "outputs": [
        {
          "output_type": "execute_result",
          "data": {
            "text/plain": [
              "65.46800947867297"
            ]
          },
          "metadata": {},
          "execution_count": 68
        }
      ]
    },
    {
      "cell_type": "code",
      "metadata": {
        "colab": {
          "base_uri": "https://localhost:8080/"
        },
        "id": "2bZzbKpvsUqs",
        "outputId": "f2be4981-6cdc-465e-8cb6-f7c7cb9beb18"
      },
      "source": [
        "meandiff = Eng_mean - Math_mean\n",
        "meandiff"
      ],
      "execution_count": 69,
      "outputs": [
        {
          "output_type": "execute_result",
          "data": {
            "text/plain": [
              "17.31954553355196"
            ]
          },
          "metadata": {},
          "execution_count": 69
        }
      ]
    },
    {
      "cell_type": "markdown",
      "metadata": {
        "id": "GsTn75GSsYhy"
      },
      "source": [
        "H0: µEnglish - µMath = 0 (\"the difference between the average English and Math scores is equal to 0\")\n",
        "\n",
        "H1: µEnglish - µMath ≠ 0 (\"the difference between the average English and Math scores is not 0\")\n",
        "\n",
        "Before we perform our hypothesis tests, we should decide on a significance level (denoted α). The significance level is the threshold we will use to decide whether a test result is significant. For this example, let's use α = 0.05, or 5%."
      ]
    },
    {
      "cell_type": "code",
      "metadata": {
        "colab": {
          "base_uri": "https://localhost:8080/"
        },
        "id": "i_6XDYdcsV-U",
        "outputId": "f18d7023-d5c1-4d99-9630-13997f37078a"
      },
      "source": [
        "stats.ttest_ind(df_scores.dropna()[\"English\"], df_scores.dropna()[\"Math\"])"
      ],
      "execution_count": 70,
      "outputs": [
        {
          "output_type": "execute_result",
          "data": {
            "text/plain": [
              "Ttest_indResult(statistic=10.787205641803522, pvalue=1.1746036768217507e-18)"
            ]
          },
          "metadata": {},
          "execution_count": 70
        }
      ]
    },
    {
      "cell_type": "code",
      "metadata": {
        "colab": {
          "base_uri": "https://localhost:8080/"
        },
        "id": "1oJgwac-sbNQ",
        "outputId": "016d713e-3fe6-423f-97d9-a462cd1d5aea"
      },
      "source": [
        "paired = stats.ttest_rel(df_scores[\"English\"], df_scores[\"Math\"], nan_policy='omit')\n",
        "paired"
      ],
      "execution_count": 71,
      "outputs": [
        {
          "output_type": "execute_result",
          "data": {
            "text/plain": [
              "Ttest_relResult(statistic=36.31256898171986, pvalue=3.071098719220689e-128)"
            ]
          },
          "metadata": {},
          "execution_count": 71
        }
      ]
    },
    {
      "cell_type": "code",
      "metadata": {
        "colab": {
          "base_uri": "https://localhost:8080/"
        },
        "id": "VtDvySSPscqW",
        "outputId": "7afb2618-b333-4b55-f9ca-deefdbf6c4f9"
      },
      "source": [
        "t = paired.statistic\n",
        "t"
      ],
      "execution_count": 72,
      "outputs": [
        {
          "output_type": "execute_result",
          "data": {
            "text/plain": [
              "36.31256898171986"
            ]
          },
          "metadata": {},
          "execution_count": 72
        }
      ]
    },
    {
      "cell_type": "code",
      "metadata": {
        "colab": {
          "base_uri": "https://localhost:8080/"
        },
        "id": "m7w-An7Fsd8g",
        "outputId": "fd724877-d582-4010-d8ec-b0ed6a137eab"
      },
      "source": [
        "pvalue= paired.pvalue\n",
        "pvalue"
      ],
      "execution_count": 73,
      "outputs": [
        {
          "output_type": "execute_result",
          "data": {
            "text/plain": [
              "3.071098719220689e-128"
            ]
          },
          "metadata": {},
          "execution_count": 73
        }
      ]
    },
    {
      "cell_type": "code",
      "metadata": {
        "colab": {
          "base_uri": "https://localhost:8080/"
        },
        "id": "8ORAHPf4sfR3",
        "outputId": "2c8b0427-f67b-4bb2-bad3-0c55b57b4f84"
      },
      "source": [
        "# compare using p-value \n",
        "\n",
        "critical_pvalue = 0.025\n",
        "\n",
        "if pvalue < critical_pvalue:\n",
        "    print(\"Reject the Null\")\n",
        "else:\n",
        "    print(\"Fail to reject\")"
      ],
      "execution_count": 74,
      "outputs": [
        {
          "output_type": "stream",
          "name": "stdout",
          "text": [
            "Reject the Null\n"
          ]
        }
      ]
    },
    {
      "cell_type": "code",
      "metadata": {
        "id": "a44qZzHJsg5i"
      },
      "source": [
        ""
      ],
      "execution_count": null,
      "outputs": []
    }
  ]
}