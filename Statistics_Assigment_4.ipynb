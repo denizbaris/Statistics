{
  "nbformat": 4,
  "nbformat_minor": 0,
  "metadata": {
    "colab": {
      "name": "Statistics_Assigment_4.ipynb",
      "provenance": [],
      "authorship_tag": "ABX9TyPAhc8C6VZY57DgrVavFaDK",
      "include_colab_link": true
    },
    "kernelspec": {
      "name": "python3",
      "display_name": "Python 3"
    },
    "language_info": {
      "name": "python"
    }
  },
  "cells": [
    {
      "cell_type": "markdown",
      "metadata": {
        "id": "view-in-github",
        "colab_type": "text"
      },
      "source": [
        "<a href=\"https://colab.research.google.com/github/denizbaris/Statistics/blob/main/Statistics_Assigment_4.ipynb\" target=\"_parent\"><img src=\"https://colab.research.google.com/assets/colab-badge.svg\" alt=\"Open In Colab\"/></a>"
      ]
    },
    {
      "cell_type": "code",
      "metadata": {
        "id": "nBFG6XrJUM58"
      },
      "source": [
        "import numpy as np \n",
        "import pandas as pd\n",
        "import seaborn as sns\n",
        "from scipy import stats\n",
        "import matplotlib.pyplot as plt\n",
        "from collections import Counter\n",
        "import warnings\n",
        "warnings.filterwarnings('ignore')"
      ],
      "execution_count": 2,
      "outputs": []
    },
    {
      "cell_type": "markdown",
      "metadata": {
        "id": "drvRTQh_UljW"
      },
      "source": [
        "## EXERCISE 1\n",
        "Answer the following questions by looking at the distribution table or coding with Python.\n",
        "\n",
        "1. A salesperson has found that the probability of a sale on a single contact is approximately .03. If the salesperson contacts 100 prospects, what is the approximate probability of making at least one sale? (Wackerly, Ex.3.135)"
      ]
    },
    {
      "cell_type": "code",
      "metadata": {
        "colab": {
          "base_uri": "https://localhost:8080/"
        },
        "id": "upRDm6SXUxJI",
        "outputId": "fb2a941a-843a-4f8b-ba04-8f32930510ee"
      },
      "source": [
        "n = 100\n",
        "p = 0.03\n",
        "x = 0\n",
        "1-stats.binom.pmf(x,n,p)"
      ],
      "execution_count": 5,
      "outputs": [
        {
          "output_type": "execute_result",
          "data": {
            "text/plain": [
              "0.9524474920745942"
            ]
          },
          "metadata": {},
          "execution_count": 5
        }
      ]
    },
    {
      "cell_type": "markdown",
      "metadata": {
        "id": "n0kAW9c_VDX6"
      },
      "source": [
        "2. Ten coins are tossed simultaneously. Find the probability of getting\n",
        "\n",
        "(i) at least seven heads"
      ]
    },
    {
      "cell_type": "code",
      "metadata": {
        "colab": {
          "base_uri": "https://localhost:8080/"
        },
        "id": "XUQqeND9VFX3",
        "outputId": "5dee0956-1466-4cac-d6ae-b873fcc9573f"
      },
      "source": [
        "n = 10\n",
        "p = 0.5\n",
        "x = 6\n",
        "1-stats.binom.cdf(x,n,p)"
      ],
      "execution_count": 6,
      "outputs": [
        {
          "output_type": "execute_result",
          "data": {
            "text/plain": [
              "0.171875"
            ]
          },
          "metadata": {},
          "execution_count": 6
        }
      ]
    },
    {
      "cell_type": "markdown",
      "metadata": {
        "id": "p-X6UMcSVRn5"
      },
      "source": [
        "(ii) exactly seven heads"
      ]
    },
    {
      "cell_type": "code",
      "metadata": {
        "colab": {
          "base_uri": "https://localhost:8080/"
        },
        "id": "1-u0jikRVNpZ",
        "outputId": "031a2f62-d95b-40db-f497-de0a8f2c2223"
      },
      "source": [
        "n = 10\n",
        "p = 0.5\n",
        "x = 7\n",
        "stats.binom.pmf(x,n,p)"
      ],
      "execution_count": 7,
      "outputs": [
        {
          "output_type": "execute_result",
          "data": {
            "text/plain": [
              "0.11718750000000014"
            ]
          },
          "metadata": {},
          "execution_count": 7
        }
      ]
    },
    {
      "cell_type": "markdown",
      "metadata": {
        "id": "FNwgKF-LVarO"
      },
      "source": [
        "(iii)at most seven heads"
      ]
    },
    {
      "cell_type": "code",
      "metadata": {
        "colab": {
          "base_uri": "https://localhost:8080/"
        },
        "id": "wKTAqZXuVYZN",
        "outputId": "4984a3d0-8008-4874-d780-995defa423c7"
      },
      "source": [
        "n = 10\n",
        "p = 0.5\n",
        "x = 7\n",
        "stats.binom.cdf(x,n, p)"
      ],
      "execution_count": 8,
      "outputs": [
        {
          "output_type": "execute_result",
          "data": {
            "text/plain": [
              "0.9453125"
            ]
          },
          "metadata": {},
          "execution_count": 8
        }
      ]
    },
    {
      "cell_type": "markdown",
      "metadata": {
        "id": "2buyO40pVhlb"
      },
      "source": [
        "\n",
        "##EXERCISE 2\n",
        "\n",
        "The cycle time for trucks hauling concrete to a highway construction site is uniformly distributed over the interval 50 to 70 minutes. What is the probability that the cycle time exceeds 65 minutes if it is known that the cycle time exceeds 55 minutes? (Wackerly, Ex.4.51)"
      ]
    },
    {
      "cell_type": "code",
      "metadata": {
        "colab": {
          "base_uri": "https://localhost:8080/"
        },
        "id": "l6mal4UIVf3Z",
        "outputId": "5e63a397-f4c0-4b1f-88d1-45716a2470b2"
      },
      "source": [
        "a, b  = 50, 70\n",
        "Dist = stats.uniform(a,b-a)\n",
        "\n",
        "# A:\n",
        "pA=1-Dist.cdf(65)\n",
        "pA"
      ],
      "execution_count": 9,
      "outputs": [
        {
          "output_type": "execute_result",
          "data": {
            "text/plain": [
              "0.25"
            ]
          },
          "metadata": {},
          "execution_count": 9
        }
      ]
    },
    {
      "cell_type": "code",
      "metadata": {
        "colab": {
          "base_uri": "https://localhost:8080/"
        },
        "id": "j-8of_b1VqWS",
        "outputId": "41e03abf-5dd1-4487-bbe1-5e28e0291080"
      },
      "source": [
        "# B:\n",
        "\n",
        "pB=1-Dist.cdf(55)\n",
        "pB"
      ],
      "execution_count": 11,
      "outputs": [
        {
          "output_type": "execute_result",
          "data": {
            "text/plain": [
              "0.75"
            ]
          },
          "metadata": {},
          "execution_count": 11
        }
      ]
    },
    {
      "cell_type": "code",
      "metadata": {
        "colab": {
          "base_uri": "https://localhost:8080/"
        },
        "id": "zFb2fGvUVsP6",
        "outputId": "7af0c9ce-f5f1-44b6-c195-baa2cdf2e1ed"
      },
      "source": [
        "# p(A | B ) = p(A n B)/p( B )\n",
        "# p(A n B) = p( A ) \n",
        "pAB=pA/pB\n",
        "print(\"p(A | B ): \", pAB)"
      ],
      "execution_count": 12,
      "outputs": [
        {
          "output_type": "stream",
          "name": "stdout",
          "text": [
            "p(A | B ):  0.3333333333333333\n"
          ]
        }
      ]
    },
    {
      "cell_type": "markdown",
      "metadata": {
        "id": "1IUijwTJV0ss"
      },
      "source": [
        "\n",
        "##EXERCISE 3\n",
        "\n",
        "The width of bolts of fabric is normally distributed with mean 950 mm (millimeters) and standard deviation 10 mm.\n",
        "\n",
        "1. What is the probability that a randomly chosen bolt has a width of between 947 and 958mm?"
      ]
    },
    {
      "cell_type": "code",
      "metadata": {
        "id": "YUpS9TTWVxKC"
      },
      "source": [
        "mu=950\n",
        "sigma=10"
      ],
      "execution_count": 13,
      "outputs": []
    },
    {
      "cell_type": "code",
      "metadata": {
        "colab": {
          "base_uri": "https://localhost:8080/"
        },
        "id": "1eCMjYVAV7QR",
        "outputId": "c16dbf89-36db-441d-a92a-f88c566ce323"
      },
      "source": [
        "stats.norm.cdf(958,mu,sigma)-stats.norm.cdf(947,mu,sigma)"
      ],
      "execution_count": 14,
      "outputs": [
        {
          "output_type": "execute_result",
          "data": {
            "text/plain": [
              "0.406056023605556"
            ]
          },
          "metadata": {},
          "execution_count": 14
        }
      ]
    },
    {
      "cell_type": "markdown",
      "metadata": {
        "id": "KHqTOCrRWDJS"
      },
      "source": [
        "2.\tWhat is the appropriate value for C such that a randomly chosen bolt has a width less than C with probability .8531? (Wackerly, Ex.4.73)"
      ]
    },
    {
      "cell_type": "code",
      "metadata": {
        "colab": {
          "base_uri": "https://localhost:8080/"
        },
        "id": "-HsTfINBV9ft",
        "outputId": "70ce05ee-3926-46b7-a896-9f8a13035f78"
      },
      "source": [
        "stats.norm.ppf(0.8531,mu,sigma)"
      ],
      "execution_count": 15,
      "outputs": [
        {
          "output_type": "execute_result",
          "data": {
            "text/plain": [
              "960.4982190962642"
            ]
          },
          "metadata": {},
          "execution_count": 15
        }
      ]
    },
    {
      "cell_type": "markdown",
      "metadata": {
        "id": "p2mBPnswWJXx"
      },
      "source": [
        "\n",
        "##EXERCISE 4\n",
        "\n",
        "Suppose scores on exams in statistics are normally distributed with an unknown population mean and a population standard deviation of 3 points. A random sample of 36 scores is taken and gives a sample mean (sample mean score) of 68. Find a confidence interval estimate for the population mean exam score (the mean score on all exams). Find a 90% confidence interval for the true (population) mean of statistics exam scores."
      ]
    },
    {
      "cell_type": "code",
      "metadata": {
        "colab": {
          "base_uri": "https://localhost:8080/"
        },
        "id": "Pbslh9cmWGlw",
        "outputId": "b93e156b-5772-499c-93db-2c82960a4f6a"
      },
      "source": [
        "# Standard deviation of Sample\n",
        "sigma = 3\n",
        "\n",
        "# Size of Sample\n",
        "n = 36\n",
        "\n",
        "# Sample mean\n",
        "xbar = 68\n",
        "\n",
        "# Confidence level\n",
        "cl = 0.90\n",
        "\n",
        "\n",
        "stats.norm.interval(alpha=cl, loc=xbar, scale=sigma/np.sqrt(n))"
      ],
      "execution_count": 16,
      "outputs": [
        {
          "output_type": "execute_result",
          "data": {
            "text/plain": [
              "(67.17757318652427, 68.82242681347573)"
            ]
          },
          "metadata": {},
          "execution_count": 16
        }
      ]
    },
    {
      "cell_type": "markdown",
      "metadata": {
        "id": "SOABbwxKWTSF"
      },
      "source": [
        "##EXERCISE 5\n",
        "\n",
        "What is the normal body temperature for healthy humans? A random sample of 130 healthy human body temperatures provided by Allen Shoemaker yielded 98.25 degrees and standard deviation 0.73 degrees.\n",
        "\n",
        "1. Give a 99% confidence interval for the average body temperature of healthy people."
      ]
    },
    {
      "cell_type": "code",
      "metadata": {
        "colab": {
          "base_uri": "https://localhost:8080/"
        },
        "id": "0XRDtyZzWQVW",
        "outputId": "6b1d28a4-7273-4f3f-987d-4cdcc10909ad"
      },
      "source": [
        "# Size of Sample \n",
        "n = 130\n",
        "\n",
        "# Mean of Sample \n",
        "xbar = 98.25\n",
        "\n",
        "# Sample standard deviation\n",
        "s = 0.73\n",
        "\n",
        "# Confidence level\n",
        "cl = 0.99\n",
        "\n",
        "stats.norm.interval(alpha=cl, loc=xbar, scale=s/np.sqrt(n))"
      ],
      "execution_count": 17,
      "outputs": [
        {
          "output_type": "execute_result",
          "data": {
            "text/plain": [
              "(98.08508192246582, 98.41491807753418)"
            ]
          },
          "metadata": {},
          "execution_count": 17
        }
      ]
    },
    {
      "cell_type": "markdown",
      "metadata": {
        "id": "vgZRgSxiWdJQ"
      },
      "source": [
        "  2. Does the confidence interval obtained in part (a) contain the value 98.6 degrees, the accepted average temperature cited by physicians and others? What conclusions can you draw? (Wackerly, Ex.8.60)"
      ]
    },
    {
      "cell_type": "code",
      "metadata": {
        "colab": {
          "base_uri": "https://localhost:8080/"
        },
        "id": "W71xFfegWZOy",
        "outputId": "59091f7b-29da-4319-f52e-a30720e84469"
      },
      "source": [
        "# Solution with t distribution.\n",
        "\n",
        "stats.t.interval(alpha=cl, df=n-1, loc=xbar, scale=s/np.sqrt(n))"
      ],
      "execution_count": 18,
      "outputs": [
        {
          "output_type": "execute_result",
          "data": {
            "text/plain": [
              "(98.08260738705933, 98.41739261294067)"
            ]
          },
          "metadata": {},
          "execution_count": 18
        }
      ]
    },
    {
      "cell_type": "code",
      "metadata": {
        "id": "k8DPOfYPWmo9"
      },
      "source": [
        ""
      ],
      "execution_count": null,
      "outputs": []
    }
  ]
}