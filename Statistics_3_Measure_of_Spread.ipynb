{
  "nbformat": 4,
  "nbformat_minor": 0,
  "metadata": {
    "colab": {
      "name": "Statistics_3_Measure of Spread.ipynb",
      "provenance": [],
      "authorship_tag": "ABX9TyNzOsco5ZgW4WAp/JzyJdbM",
      "include_colab_link": true
    },
    "kernelspec": {
      "name": "python3",
      "display_name": "Python 3"
    },
    "language_info": {
      "name": "python"
    }
  },
  "cells": [
    {
      "cell_type": "markdown",
      "metadata": {
        "id": "view-in-github",
        "colab_type": "text"
      },
      "source": [
        "<a href=\"https://colab.research.google.com/github/denizbaris/Statistics/blob/main/Statistics_3_Measure_of_Spread.ipynb\" target=\"_parent\"><img src=\"https://colab.research.google.com/assets/colab-badge.svg\" alt=\"Open In Colab\"/></a>"
      ]
    },
    {
      "cell_type": "code",
      "metadata": {
        "id": "Xro8Z_dWiGPK"
      },
      "source": [
        "import numpy as np\n"
      ],
      "execution_count": 1,
      "outputs": []
    },
    {
      "cell_type": "code",
      "metadata": {
        "id": "SN5RbRfxiIxF"
      },
      "source": [
        "a = [1,1,1,1,1,2,2,2,2,3,3,1,4,4,5,5,6,7,8,9,11]"
      ],
      "execution_count": 2,
      "outputs": []
    },
    {
      "cell_type": "code",
      "metadata": {
        "colab": {
          "base_uri": "https://localhost:8080/"
        },
        "id": "5hcVchosiLe_",
        "outputId": "6f2fd00b-1839-46eb-c5fb-5c9c28dc422f"
      },
      "source": [
        "len(a)"
      ],
      "execution_count": 3,
      "outputs": [
        {
          "output_type": "execute_result",
          "data": {
            "text/plain": [
              "21"
            ]
          },
          "metadata": {},
          "execution_count": 3
        }
      ]
    },
    {
      "cell_type": "code",
      "metadata": {
        "colab": {
          "base_uri": "https://localhost:8080/"
        },
        "id": "5sVDpOWeiM8P",
        "outputId": "fba92e06-a6ca-4f05-d167-24129273e4a8"
      },
      "source": [
        "np.mean(a)"
      ],
      "execution_count": 4,
      "outputs": [
        {
          "output_type": "execute_result",
          "data": {
            "text/plain": [
              "3.761904761904762"
            ]
          },
          "metadata": {},
          "execution_count": 4
        }
      ]
    },
    {
      "cell_type": "code",
      "metadata": {
        "colab": {
          "base_uri": "https://localhost:8080/"
        },
        "id": "m3R-vdgRiOZ3",
        "outputId": "5e5d8070-2d79-414a-b9f3-6941fde7eb42"
      },
      "source": [
        "np.median(a)"
      ],
      "execution_count": 6,
      "outputs": [
        {
          "output_type": "execute_result",
          "data": {
            "text/plain": [
              "3.0"
            ]
          },
          "metadata": {},
          "execution_count": 6
        }
      ]
    },
    {
      "cell_type": "code",
      "metadata": {
        "id": "gSLEXjJ9irrx"
      },
      "source": [
        "from scipy import stats"
      ],
      "execution_count": 7,
      "outputs": []
    },
    {
      "cell_type": "code",
      "metadata": {
        "colab": {
          "base_uri": "https://localhost:8080/"
        },
        "id": "o1b0i4bdjB4t",
        "outputId": "0ab36a11-d234-459d-dc93-b24ff4709e3a"
      },
      "source": [
        "stats.mode(a)"
      ],
      "execution_count": 8,
      "outputs": [
        {
          "output_type": "execute_result",
          "data": {
            "text/plain": [
              "ModeResult(mode=array([1]), count=array([6]))"
            ]
          },
          "metadata": {},
          "execution_count": 8
        }
      ]
    },
    {
      "cell_type": "code",
      "metadata": {
        "colab": {
          "base_uri": "https://localhost:8080/"
        },
        "id": "xoPFuzIOjIWh",
        "outputId": "eb11c542-e602-4cb3-a261-6a651d5d4b59"
      },
      "source": [
        "stats.skew(a)"
      ],
      "execution_count": 9,
      "outputs": [
        {
          "output_type": "execute_result",
          "data": {
            "text/plain": [
              "0.9806774613544281"
            ]
          },
          "metadata": {},
          "execution_count": 9
        }
      ]
    },
    {
      "cell_type": "code",
      "metadata": {
        "id": "u7EeXawAjhN4"
      },
      "source": [
        "import matplotlib.pyplot as plt\n"
      ],
      "execution_count": 10,
      "outputs": []
    },
    {
      "cell_type": "code",
      "metadata": {
        "colab": {
          "base_uri": "https://localhost:8080/",
          "height": 317
        },
        "id": "GWlM2Bwgj-3U",
        "outputId": "56eb8da8-da51-4e96-d9a7-f7b5e679f906"
      },
      "source": [
        "plt.hist(a)"
      ],
      "execution_count": 11,
      "outputs": [
        {
          "output_type": "execute_result",
          "data": {
            "text/plain": [
              "(array([6., 4., 2., 2., 2., 1., 1., 1., 1., 1.]),\n",
              " array([ 1.,  2.,  3.,  4.,  5.,  6.,  7.,  8.,  9., 10., 11.]),\n",
              " <a list of 10 Patch objects>)"
            ]
          },
          "metadata": {},
          "execution_count": 11
        },
        {
          "output_type": "display_data",
          "data": {
            "image/png": "[encoded data removed]",
            "text/plain": [
              "<Figure size 432x288 with 1 Axes>"
            ]
          },
          "metadata": {
            "needs_background": "light"
          }
        }
      ]
    },
    {
      "cell_type": "code",
      "metadata": {
        "colab": {
          "base_uri": "https://localhost:8080/",
          "height": 405
        },
        "id": "y620cOtDkAX-",
        "outputId": "82f6b4ac-4071-4e9d-89ec-1678768c54e3"
      },
      "source": [
        "plt.angle_spectrum(a)"
      ],
      "execution_count": 12,
      "outputs": [
        {
          "output_type": "execute_result",
          "data": {
            "text/plain": [
              "(array([ 0.        ,  2.75285608, -2.43820887, -0.53901225,  2.4095049 ,\n",
              "        -0.95125848,  2.25686022, -0.71873379,  2.28588267, -0.94606122,\n",
              "         1.89691732]),\n",
              " array([0.        , 0.0952381 , 0.19047619, 0.28571429, 0.38095238,\n",
              "        0.47619048, 0.57142857, 0.66666667, 0.76190476, 0.85714286,\n",
              "        0.95238095]),\n",
              " <matplotlib.lines.Line2D at 0x7ff875f7ab90>)"
            ]
          },
          "metadata": {},
          "execution_count": 12
        },
        {
          "output_type": "display_data",
          "data": {
            "image/png": "[encoded data removed]",
            "text/plain": [
              "<Figure size 432x288 with 1 Axes>"
            ]
          },
          "metadata": {
            "needs_background": "light"
          }
        }
      ]
    },
    {
      "cell_type": "code",
      "metadata": {
        "colab": {
          "base_uri": "https://localhost:8080/",
          "height": 265
        },
        "id": "-Pt2dFmokEiY",
        "outputId": "805b146d-3ba7-4746-d95a-ac0e24156bc6"
      },
      "source": [
        "plt.autoscale(a)"
      ],
      "execution_count": 13,
      "outputs": [
        {
          "output_type": "display_data",
          "data": {
            "image/png": "[encoded data removed]",
            "text/plain": [
              "<Figure size 432x288 with 1 Axes>"
            ]
          },
          "metadata": {
            "needs_background": "light"
          }
        }
      ]
    },
    {
      "cell_type": "code",
      "metadata": {
        "colab": {
          "base_uri": "https://localhost:8080/"
        },
        "id": "OZMxm_u6kL1I",
        "outputId": "76b28b02-b005-411d-dca7-fa841a0dc351"
      },
      "source": [
        "a"
      ],
      "execution_count": 14,
      "outputs": [
        {
          "output_type": "execute_result",
          "data": {
            "text/plain": [
              "[1, 1, 1, 1, 1, 2, 2, 2, 2, 3, 3, 1, 4, 4, 5, 5, 6, 7, 8, 9, 11]"
            ]
          },
          "metadata": {},
          "execution_count": 14
        }
      ]
    },
    {
      "cell_type": "code",
      "metadata": {
        "colab": {
          "base_uri": "https://localhost:8080/"
        },
        "id": "MfkyjAqekXzN",
        "outputId": "c4d681d0-6d4c-4b10-ea13-79dae3b0433e"
      },
      "source": [
        "np.var(a)  #find variance "
      ],
      "execution_count": 15,
      "outputs": [
        {
          "output_type": "execute_result",
          "data": {
            "text/plain": [
              "8.371882086167801"
            ]
          },
          "metadata": {},
          "execution_count": 15
        }
      ]
    },
    {
      "cell_type": "code",
      "metadata": {
        "colab": {
          "base_uri": "https://localhost:8080/"
        },
        "id": "Q9vTSeJgkboN",
        "outputId": "d217dd58-eca1-43f1-d799-f86629599035"
      },
      "source": [
        "np.sqrt(8.371882086167801)  #standart deviation"
      ],
      "execution_count": 16,
      "outputs": [
        {
          "output_type": "execute_result",
          "data": {
            "text/plain": [
              "2.89342048208825"
            ]
          },
          "metadata": {},
          "execution_count": 16
        }
      ]
    },
    {
      "cell_type": "code",
      "metadata": {
        "colab": {
          "base_uri": "https://localhost:8080/"
        },
        "id": "tAJtSNmHkt1q",
        "outputId": "bb3116e1-2d76-4736-fc2a-c82e0630f7f0"
      },
      "source": [
        "np.std(a)   #standart deviation"
      ],
      "execution_count": 17,
      "outputs": [
        {
          "output_type": "execute_result",
          "data": {
            "text/plain": [
              "2.89342048208825"
            ]
          },
          "metadata": {},
          "execution_count": 17
        }
      ]
    },
    {
      "cell_type": "code",
      "metadata": {
        "colab": {
          "base_uri": "https://localhost:8080/"
        },
        "id": "_M74JK01kx3R",
        "outputId": "343759f0-8633-482b-ff3d-8230a1a24dc8"
      },
      "source": [
        "np.mean(a)-2*np.std(a)"
      ],
      "execution_count": 18,
      "outputs": [
        {
          "output_type": "execute_result",
          "data": {
            "text/plain": [
              "-2.0249362022717383"
            ]
          },
          "metadata": {},
          "execution_count": 18
        }
      ]
    },
    {
      "cell_type": "code",
      "metadata": {
        "colab": {
          "base_uri": "https://localhost:8080/"
        },
        "id": "M8A5h2jvk4A2",
        "outputId": "98359907-f7fe-4af4-8632-0552590a1341"
      },
      "source": [
        "np.mean(a)+2*np.std(a)"
      ],
      "execution_count": 19,
      "outputs": [
        {
          "output_type": "execute_result",
          "data": {
            "text/plain": [
              "9.548745726081261"
            ]
          },
          "metadata": {},
          "execution_count": 19
        }
      ]
    }
  ]
}